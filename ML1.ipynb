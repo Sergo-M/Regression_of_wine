{
 "cells": [
  {
   "cell_type": "markdown",
   "metadata": {},
   "source": [
    "## Импорт библиотек"
   ]
  },
  {
   "cell_type": "code",
   "execution_count": 1,
   "metadata": {
    "id": "z2TeYhERxy14"
   },
   "outputs": [],
   "source": [
    "import pandas as pd\n",
    "\n",
    "import copy\n",
    "\n",
    "import numpy as np\n",
    "\n",
    "from scipy.stats import spearmanr\n",
    "\n",
    "from scipy.stats import mannwhitneyu\n",
    "\n",
    "from sklearn.model_selection import train_test_split\n",
    "from sklearn import metrics\n",
    "from sklearn.metrics import mean_squared_error\n",
    "from sklearn.linear_model import LinearRegression\n",
    "from sklearn.linear_model import Ridge\n",
    "from sklearn.preprocessing import StandardScaler\n",
    "from sklearn.preprocessing import PolynomialFeatures\n",
    "from sklearn.pipeline import make_pipeline"
   ]
  },
  {
   "cell_type": "markdown",
   "metadata": {},
   "source": [
    "## Загрузка данных"
   ]
  },
  {
   "cell_type": "code",
   "execution_count": 106,
   "metadata": {
    "id": "VJH-LB8Ix8Kg"
   },
   "outputs": [],
   "source": [
    "wines_db = pd.read_csv('data/winequalityN.csv', sep = ',')"
   ]
  },
  {
   "cell_type": "code",
   "execution_count": 107,
   "metadata": {
    "colab": {
     "base_uri": "https://localhost:8080/",
     "height": 485
    },
    "id": "Z90xlDpgyUZl",
    "outputId": "714c0b47-01ab-4f35-c37d-7ea26c67b6f8"
   },
   "outputs": [
    {
     "data": {
      "text/html": [
       "<div>\n",
       "<style scoped>\n",
       "    .dataframe tbody tr th:only-of-type {\n",
       "        vertical-align: middle;\n",
       "    }\n",
       "\n",
       "    .dataframe tbody tr th {\n",
       "        vertical-align: top;\n",
       "    }\n",
       "\n",
       "    .dataframe thead th {\n",
       "        text-align: right;\n",
       "    }\n",
       "</style>\n",
       "<table border=\"1\" class=\"dataframe\">\n",
       "  <thead>\n",
       "    <tr style=\"text-align: right;\">\n",
       "      <th></th>\n",
       "      <th>type</th>\n",
       "      <th>fixed acidity</th>\n",
       "      <th>volatile acidity</th>\n",
       "      <th>citric acid</th>\n",
       "      <th>residual sugar</th>\n",
       "      <th>chlorides</th>\n",
       "      <th>free sulfur dioxide</th>\n",
       "      <th>total sulfur dioxide</th>\n",
       "      <th>density</th>\n",
       "      <th>pH</th>\n",
       "      <th>sulphates</th>\n",
       "      <th>alcohol</th>\n",
       "      <th>quality</th>\n",
       "    </tr>\n",
       "  </thead>\n",
       "  <tbody>\n",
       "    <tr>\n",
       "      <th>0</th>\n",
       "      <td>white</td>\n",
       "      <td>7.0</td>\n",
       "      <td>0.270</td>\n",
       "      <td>0.36</td>\n",
       "      <td>20.7</td>\n",
       "      <td>0.045</td>\n",
       "      <td>45.0</td>\n",
       "      <td>170.0</td>\n",
       "      <td>1.00100</td>\n",
       "      <td>3.00</td>\n",
       "      <td>0.45</td>\n",
       "      <td>8.8</td>\n",
       "      <td>6</td>\n",
       "    </tr>\n",
       "    <tr>\n",
       "      <th>1</th>\n",
       "      <td>white</td>\n",
       "      <td>6.3</td>\n",
       "      <td>0.300</td>\n",
       "      <td>0.34</td>\n",
       "      <td>1.6</td>\n",
       "      <td>0.049</td>\n",
       "      <td>14.0</td>\n",
       "      <td>132.0</td>\n",
       "      <td>0.99400</td>\n",
       "      <td>3.30</td>\n",
       "      <td>0.49</td>\n",
       "      <td>9.5</td>\n",
       "      <td>6</td>\n",
       "    </tr>\n",
       "    <tr>\n",
       "      <th>2</th>\n",
       "      <td>white</td>\n",
       "      <td>8.1</td>\n",
       "      <td>0.280</td>\n",
       "      <td>0.40</td>\n",
       "      <td>6.9</td>\n",
       "      <td>0.050</td>\n",
       "      <td>30.0</td>\n",
       "      <td>97.0</td>\n",
       "      <td>0.99510</td>\n",
       "      <td>3.26</td>\n",
       "      <td>0.44</td>\n",
       "      <td>10.1</td>\n",
       "      <td>6</td>\n",
       "    </tr>\n",
       "    <tr>\n",
       "      <th>3</th>\n",
       "      <td>white</td>\n",
       "      <td>7.2</td>\n",
       "      <td>0.230</td>\n",
       "      <td>0.32</td>\n",
       "      <td>8.5</td>\n",
       "      <td>0.058</td>\n",
       "      <td>47.0</td>\n",
       "      <td>186.0</td>\n",
       "      <td>0.99560</td>\n",
       "      <td>3.19</td>\n",
       "      <td>0.40</td>\n",
       "      <td>9.9</td>\n",
       "      <td>6</td>\n",
       "    </tr>\n",
       "    <tr>\n",
       "      <th>4</th>\n",
       "      <td>white</td>\n",
       "      <td>7.2</td>\n",
       "      <td>0.230</td>\n",
       "      <td>0.32</td>\n",
       "      <td>8.5</td>\n",
       "      <td>0.058</td>\n",
       "      <td>47.0</td>\n",
       "      <td>186.0</td>\n",
       "      <td>0.99560</td>\n",
       "      <td>3.19</td>\n",
       "      <td>0.40</td>\n",
       "      <td>9.9</td>\n",
       "      <td>6</td>\n",
       "    </tr>\n",
       "    <tr>\n",
       "      <th>...</th>\n",
       "      <td>...</td>\n",
       "      <td>...</td>\n",
       "      <td>...</td>\n",
       "      <td>...</td>\n",
       "      <td>...</td>\n",
       "      <td>...</td>\n",
       "      <td>...</td>\n",
       "      <td>...</td>\n",
       "      <td>...</td>\n",
       "      <td>...</td>\n",
       "      <td>...</td>\n",
       "      <td>...</td>\n",
       "      <td>...</td>\n",
       "    </tr>\n",
       "    <tr>\n",
       "      <th>6492</th>\n",
       "      <td>red</td>\n",
       "      <td>6.2</td>\n",
       "      <td>0.600</td>\n",
       "      <td>0.08</td>\n",
       "      <td>2.0</td>\n",
       "      <td>0.090</td>\n",
       "      <td>32.0</td>\n",
       "      <td>44.0</td>\n",
       "      <td>0.99490</td>\n",
       "      <td>3.45</td>\n",
       "      <td>0.58</td>\n",
       "      <td>10.5</td>\n",
       "      <td>5</td>\n",
       "    </tr>\n",
       "    <tr>\n",
       "      <th>6493</th>\n",
       "      <td>red</td>\n",
       "      <td>5.9</td>\n",
       "      <td>0.550</td>\n",
       "      <td>0.10</td>\n",
       "      <td>2.2</td>\n",
       "      <td>0.062</td>\n",
       "      <td>39.0</td>\n",
       "      <td>51.0</td>\n",
       "      <td>0.99512</td>\n",
       "      <td>3.52</td>\n",
       "      <td>NaN</td>\n",
       "      <td>11.2</td>\n",
       "      <td>6</td>\n",
       "    </tr>\n",
       "    <tr>\n",
       "      <th>6494</th>\n",
       "      <td>red</td>\n",
       "      <td>6.3</td>\n",
       "      <td>0.510</td>\n",
       "      <td>0.13</td>\n",
       "      <td>2.3</td>\n",
       "      <td>0.076</td>\n",
       "      <td>29.0</td>\n",
       "      <td>40.0</td>\n",
       "      <td>0.99574</td>\n",
       "      <td>3.42</td>\n",
       "      <td>0.75</td>\n",
       "      <td>11.0</td>\n",
       "      <td>6</td>\n",
       "    </tr>\n",
       "    <tr>\n",
       "      <th>6495</th>\n",
       "      <td>red</td>\n",
       "      <td>5.9</td>\n",
       "      <td>0.645</td>\n",
       "      <td>0.12</td>\n",
       "      <td>2.0</td>\n",
       "      <td>0.075</td>\n",
       "      <td>32.0</td>\n",
       "      <td>44.0</td>\n",
       "      <td>0.99547</td>\n",
       "      <td>3.57</td>\n",
       "      <td>0.71</td>\n",
       "      <td>10.2</td>\n",
       "      <td>5</td>\n",
       "    </tr>\n",
       "    <tr>\n",
       "      <th>6496</th>\n",
       "      <td>red</td>\n",
       "      <td>6.0</td>\n",
       "      <td>0.310</td>\n",
       "      <td>0.47</td>\n",
       "      <td>3.6</td>\n",
       "      <td>0.067</td>\n",
       "      <td>18.0</td>\n",
       "      <td>42.0</td>\n",
       "      <td>0.99549</td>\n",
       "      <td>3.39</td>\n",
       "      <td>0.66</td>\n",
       "      <td>11.0</td>\n",
       "      <td>6</td>\n",
       "    </tr>\n",
       "  </tbody>\n",
       "</table>\n",
       "<p>6497 rows × 13 columns</p>\n",
       "</div>"
      ],
      "text/plain": [
       "       type  fixed acidity  volatile acidity  citric acid  residual sugar  \\\n",
       "0     white            7.0             0.270         0.36            20.7   \n",
       "1     white            6.3             0.300         0.34             1.6   \n",
       "2     white            8.1             0.280         0.40             6.9   \n",
       "3     white            7.2             0.230         0.32             8.5   \n",
       "4     white            7.2             0.230         0.32             8.5   \n",
       "...     ...            ...               ...          ...             ...   \n",
       "6492    red            6.2             0.600         0.08             2.0   \n",
       "6493    red            5.9             0.550         0.10             2.2   \n",
       "6494    red            6.3             0.510         0.13             2.3   \n",
       "6495    red            5.9             0.645         0.12             2.0   \n",
       "6496    red            6.0             0.310         0.47             3.6   \n",
       "\n",
       "      chlorides  free sulfur dioxide  total sulfur dioxide  density    pH  \\\n",
       "0         0.045                 45.0                 170.0  1.00100  3.00   \n",
       "1         0.049                 14.0                 132.0  0.99400  3.30   \n",
       "2         0.050                 30.0                  97.0  0.99510  3.26   \n",
       "3         0.058                 47.0                 186.0  0.99560  3.19   \n",
       "4         0.058                 47.0                 186.0  0.99560  3.19   \n",
       "...         ...                  ...                   ...      ...   ...   \n",
       "6492      0.090                 32.0                  44.0  0.99490  3.45   \n",
       "6493      0.062                 39.0                  51.0  0.99512  3.52   \n",
       "6494      0.076                 29.0                  40.0  0.99574  3.42   \n",
       "6495      0.075                 32.0                  44.0  0.99547  3.57   \n",
       "6496      0.067                 18.0                  42.0  0.99549  3.39   \n",
       "\n",
       "      sulphates  alcohol  quality  \n",
       "0          0.45      8.8        6  \n",
       "1          0.49      9.5        6  \n",
       "2          0.44     10.1        6  \n",
       "3          0.40      9.9        6  \n",
       "4          0.40      9.9        6  \n",
       "...         ...      ...      ...  \n",
       "6492       0.58     10.5        5  \n",
       "6493        NaN     11.2        6  \n",
       "6494       0.75     11.0        6  \n",
       "6495       0.71     10.2        5  \n",
       "6496       0.66     11.0        6  \n",
       "\n",
       "[6497 rows x 13 columns]"
      ]
     },
     "execution_count": 107,
     "metadata": {},
     "output_type": "execute_result"
    }
   ],
   "source": [
    "wines_db"
   ]
  },
  {
   "cell_type": "markdown",
   "metadata": {},
   "source": [
    "## Описание датасета"
   ]
  },
  {
   "cell_type": "markdown",
   "metadata": {},
   "source": [
    "* Источник: https://www.kaggle.com/datasets/rajyellow46/wine-quality\n",
    "* Цель: предсказание качества вина (quality) по его хим.составу (задача регрессии)\n",
    "* Описание атрибутов: type - категориальные данные (тип вина, красное/белое), fixed acidity - числовые дискретные данные (фиксированная кислотность), volatile acidity - числовые непрерывные данные (непостоянная кислотность), citric acid - числовые непрерывные данные (к-ф лимонной кислоты), residual sugar - числовые дискретные данные (остаточный сахар), chlorides - числовые непрерывные данные (к-ф хлорида), free sulfur dioxide - числовые дискретные данные (свободный диоксид серы), total sulfur dioxide - числовые дискретные данные (общее количество диоксида серы), density - числовые непрерывные данные (плотность), pH - числовые непрерывные данные (водородный показатель), sulphates - числовые непрерывные данные (сульфаты), alcohol - числовые дискретные данные (крепость, количество алкоголя), quality - числовые дискретные данные (оценка качества)."
   ]
  },
  {
   "cell_type": "markdown",
   "metadata": {},
   "source": [
    "## train-test"
   ]
  },
  {
   "cell_type": "code",
   "execution_count": 108,
   "metadata": {
    "id": "Mz03mHK3kJj2"
   },
   "outputs": [],
   "source": [
    "X = wines_db[['type', 'fixed acidity', 'volatile acidity', 'citric acid', 'residual sugar', 'chlorides', 'free sulfur dioxide', 'total sulfur dioxide', 'density', 'pH', 'sulphates', 'alcohol']]\n",
    "y = wines_db['quality']"
   ]
  },
  {
   "cell_type": "code",
   "execution_count": 109,
   "metadata": {
    "colab": {
     "base_uri": "https://localhost:8080/"
    },
    "id": "Bl_WW4Hbkxut",
    "outputId": "e090dfb3-ab26-4af1-9445-225ecbb8dc0c"
   },
   "outputs": [
    {
     "data": {
      "text/plain": [
       "((4547, 12), (1950, 12))"
      ]
     },
     "execution_count": 109,
     "metadata": {},
     "output_type": "execute_result"
    }
   ],
   "source": [
    "X_train, X_test, y_train, y_test = train_test_split(X, y, test_size=0.3, random_state=5)\n",
    "X_train.shape, X_test.shape"
   ]
  },
  {
   "cell_type": "markdown",
   "metadata": {},
   "source": [
    "## Описательная статистика"
   ]
  },
  {
   "cell_type": "code",
   "execution_count": 110,
   "metadata": {
    "colab": {
     "base_uri": "https://localhost:8080/"
    },
    "id": "JiHWz6XCVYPD",
    "outputId": "9c8127d0-2df3-4441-87e4-9718f632e72b"
   },
   "outputs": [
    {
     "data": {
      "text/plain": [
       "count       2.000000\n",
       "mean     2273.500000\n",
       "std      1680.792819\n",
       "min      1085.000000\n",
       "25%      1679.250000\n",
       "50%      2273.500000\n",
       "75%      2867.750000\n",
       "max      3462.000000\n",
       "dtype: float64"
      ]
     },
     "execution_count": 110,
     "metadata": {},
     "output_type": "execute_result"
    }
   ],
   "source": [
    "X_train.value_counts(subset = 'type').describe()"
   ]
  },
  {
   "cell_type": "markdown",
   "metadata": {},
   "source": [
    "Мы создали сводный датафрейм, показывающий, распределение типов вин. Из описательной статистики видно, что основная масса значений (перцентиль 75%) лежит в диапозоне 1085 - 2867, но при этом среднее значение приблизительно равно 2273, а стандартное отклонение - 1680 (а максимальное значение - 3462). Из этого мы понимаем, что в распредлении существует мода, оно скошенно вправо."
   ]
  },
  {
   "cell_type": "code",
   "execution_count": 111,
   "metadata": {
    "colab": {
     "base_uri": "https://localhost:8080/",
     "height": 314
    },
    "id": "mb0gWuC0Vnvw",
    "outputId": "ae380e9e-7a52-487c-8e4c-4e6ec15f7b2f"
   },
   "outputs": [
    {
     "data": {
      "text/plain": [
       "<AxesSubplot: xlabel='type'>"
      ]
     },
     "execution_count": 111,
     "metadata": {},
     "output_type": "execute_result"
    },
    {
     "data": {
      "image/png": "[encoded data removed]",
      "text/plain": [
       "<Figure size 640x480 with 1 Axes>"
      ]
     },
     "metadata": {},
     "output_type": "display_data"
    }
   ],
   "source": [
    "type_distribution = X_train.value_counts(subset = 'type')\n",
    "type_distribution.plot(kind='bar')"
   ]
  },
  {
   "cell_type": "markdown",
   "metadata": {},
   "source": [
    "График подтверждает наши выводы. Распределение юнимодальное."
   ]
  },
  {
   "cell_type": "code",
   "execution_count": 112,
   "metadata": {
    "colab": {
     "base_uri": "https://localhost:8080/",
     "height": 282
    },
    "id": "F0cSUHXmVrwN",
    "outputId": "bb5059a1-9983-48c2-a573-f16f5149bc28"
   },
   "outputs": [
    {
     "data": {
      "text/plain": [
       "<AxesSubplot: >"
      ]
     },
     "execution_count": 112,
     "metadata": {},
     "output_type": "execute_result"
    },
    {
     "data": {
      "image/png": "[encoded data removed]",
      "text/plain": [
       "<Figure size 640x480 with 1 Axes>"
      ]
     },
     "metadata": {},
     "output_type": "display_data"
    }
   ],
   "source": [
    "X_train.value_counts(subset = 'type').plot.box()"
   ]
  },
  {
   "cell_type": "markdown",
   "metadata": {},
   "source": [
    "Выбросов нет"
   ]
  },
  {
   "cell_type": "code",
   "execution_count": 113,
   "metadata": {
    "colab": {
     "base_uri": "https://localhost:8080/"
    },
    "id": "l9gI4RM4WDGk",
    "outputId": "2a18a3df-70e4-4c15-95c5-bd838afaf453"
   },
   "outputs": [
    {
     "data": {
      "text/plain": [
       "count    4538.000000\n",
       "mean        7.201410\n",
       "std         1.287684\n",
       "min         3.900000\n",
       "25%         6.400000\n",
       "50%         7.000000\n",
       "75%         7.700000\n",
       "max        15.900000\n",
       "Name: fixed acidity, dtype: float64"
      ]
     },
     "execution_count": 113,
     "metadata": {},
     "output_type": "execute_result"
    }
   ],
   "source": [
    "X_train['fixed acidity'].describe()"
   ]
  },
  {
   "cell_type": "markdown",
   "metadata": {},
   "source": [
    "Мы вывели статистику для показателя фиксированной кислотности вин. Как видим, распределение неравномерное (скошенное вправо). Большая часть значений лежит в диапозоне от 3.9 до 7.7 (75% перцентиль). Среднее значение - 7.2, стандартное отклонение - 1.29, а максимальное значение равняется 15.9."
   ]
  },
  {
   "cell_type": "code",
   "execution_count": 114,
   "metadata": {
    "colab": {
     "base_uri": "https://localhost:8080/",
     "height": 302
    },
    "id": "NouhU8amXHh_",
    "outputId": "6a772308-4dd0-49cc-e928-18513091b1cb"
   },
   "outputs": [
    {
     "data": {
      "text/plain": [
       "<AxesSubplot: xlabel='fixed acidity'>"
      ]
     },
     "execution_count": 114,
     "metadata": {},
     "output_type": "execute_result"
    },
    {
     "data": {
      "image/png": "[encoded data removed]",
      "text/plain": [
       "<Figure size 640x480 with 1 Axes>"
      ]
     },
     "metadata": {},
     "output_type": "display_data"
    }
   ],
   "source": [
    "fa_distribution = X_train.value_counts(subset = 'fixed acidity').head(n=30)\n",
    "fa_distribution.plot(kind='bar')"
   ]
  },
  {
   "cell_type": "markdown",
   "metadata": {},
   "source": [
    "Как видим, распределение бимодальное (с небольшим приближением)"
   ]
  },
  {
   "cell_type": "code",
   "execution_count": 115,
   "metadata": {
    "colab": {
     "base_uri": "https://localhost:8080/",
     "height": 282
    },
    "id": "5F_YGQKIXme0",
    "outputId": "fe71d7ae-6b14-4f59-f70d-185cd8033588"
   },
   "outputs": [
    {
     "data": {
      "text/plain": [
       "<AxesSubplot: >"
      ]
     },
     "execution_count": 115,
     "metadata": {},
     "output_type": "execute_result"
    },
    {
     "data": {
      "image/png": "[encoded data removed]",
      "text/plain": [
       "<Figure size 640x480 with 1 Axes>"
      ]
     },
     "metadata": {},
     "output_type": "display_data"
    }
   ],
   "source": [
    "X_train.boxplot('fixed acidity')"
   ]
  },
  {
   "cell_type": "markdown",
   "metadata": {},
   "source": [
    "Как видим, присутствует большое количество выбросов сверху, и небольшое - снизу."
   ]
  },
  {
   "cell_type": "code",
   "execution_count": 116,
   "metadata": {
    "colab": {
     "base_uri": "https://localhost:8080/"
    },
    "id": "RD5p-uUDX6Ho",
    "outputId": "fd8f62b3-4d37-478e-e5cc-d74003756252"
   },
   "outputs": [
    {
     "data": {
      "text/plain": [
       "count    4539.000000\n",
       "mean        0.338432\n",
       "std         0.162344\n",
       "min         0.080000\n",
       "25%         0.230000\n",
       "50%         0.290000\n",
       "75%         0.400000\n",
       "max         1.330000\n",
       "Name: volatile acidity, dtype: float64"
      ]
     },
     "execution_count": 116,
     "metadata": {},
     "output_type": "execute_result"
    }
   ],
   "source": [
    "X_train['volatile acidity'].describe()"
   ]
  },
  {
   "cell_type": "markdown",
   "metadata": {},
   "source": [
    "Мы вывели статистику для показателя переменной кислотности вин. Как видим, распределение неравномерное (скошенное вправо). Большая часть значений лежит в диапозоне от 0.08 до 0.4 (75% перцентиль). Среднее значение - 0.34, стандартное отклонение - 0.16, максимальное значение равняется 1.33."
   ]
  },
  {
   "cell_type": "code",
   "execution_count": 117,
   "metadata": {
    "colab": {
     "base_uri": "https://localhost:8080/",
     "height": 309
    },
    "id": "NkzKBUbMY3oS",
    "outputId": "75e1fc2b-c624-4503-ef8f-fb3b4bd72e1e"
   },
   "outputs": [
    {
     "data": {
      "text/plain": [
       "<AxesSubplot: xlabel='volatile acidity'>"
      ]
     },
     "execution_count": 117,
     "metadata": {},
     "output_type": "execute_result"
    },
    {
     "data": {
      "image/png": "[encoded data removed]",
      "text/plain": [
       "<Figure size 640x480 with 1 Axes>"
      ]
     },
     "metadata": {},
     "output_type": "display_data"
    }
   ],
   "source": [
    "va_distribution = X_train.value_counts(subset = 'volatile acidity').head(n=30)\n",
    "va_distribution.plot(kind='bar')"
   ]
  },
  {
   "cell_type": "markdown",
   "metadata": {},
   "source": [
    "Как видим, распределение бимодальное (с небольшим приближением)"
   ]
  },
  {
   "cell_type": "code",
   "execution_count": 118,
   "metadata": {
    "colab": {
     "base_uri": "https://localhost:8080/",
     "height": 282
    },
    "id": "Yn1uc8anY-3z",
    "outputId": "fd408d55-f859-4336-9b8c-c36e7034aec0"
   },
   "outputs": [
    {
     "data": {
      "text/plain": [
       "<AxesSubplot: >"
      ]
     },
     "execution_count": 118,
     "metadata": {},
     "output_type": "execute_result"
    },
    {
     "data": {
      "image/png": "[encoded data removed]",
      "text/plain": [
       "<Figure size 640x480 with 1 Axes>"
      ]
     },
     "metadata": {},
     "output_type": "display_data"
    }
   ],
   "source": [
    "X_train.boxplot('volatile acidity')"
   ]
  },
  {
   "cell_type": "markdown",
   "metadata": {},
   "source": [
    "Как видим, присутствует большое количество выбросов сверху."
   ]
  },
  {
   "cell_type": "code",
   "execution_count": 120,
   "metadata": {
    "colab": {
     "base_uri": "https://localhost:8080/"
    },
    "id": "HiIYjL8sYIHA",
    "outputId": "6b637907-1c14-4e52-9403-f75f0fba4bb4"
   },
   "outputs": [
    {
     "data": {
      "text/plain": [
       "count    4545.000000\n",
       "mean        0.319105\n",
       "std         0.146018\n",
       "min         0.000000\n",
       "25%         0.250000\n",
       "50%         0.310000\n",
       "75%         0.390000\n",
       "max         1.660000\n",
       "Name: citric acid, dtype: float64"
      ]
     },
     "execution_count": 120,
     "metadata": {},
     "output_type": "execute_result"
    }
   ],
   "source": [
    "X_train['citric acid'].describe()"
   ]
  },
  {
   "cell_type": "markdown",
   "metadata": {},
   "source": [
    "Мы вывели статистику для показателя содержания лимонной кислоты. Как видим, распределение неравномерное (скошенное вправо). Большая часть значений лежит в диапозоне от 0 до 0.39 (75% перцентиль). Среднее значение - 0.32, стандартное отклонение - 0.15, максимальное значение равняется 1.66."
   ]
  },
  {
   "cell_type": "code",
   "execution_count": 121,
   "metadata": {
    "colab": {
     "base_uri": "https://localhost:8080/",
     "height": 309
    },
    "id": "OnE1dH7mZibZ",
    "outputId": "4efc96ab-5674-4be1-fd5a-5d9cfffe647c"
   },
   "outputs": [
    {
     "data": {
      "text/plain": [
       "<AxesSubplot: xlabel='citric acid'>"
      ]
     },
     "execution_count": 121,
     "metadata": {},
     "output_type": "execute_result"
    },
    {
     "data": {
      "image/png": "[encoded data removed]",
      "text/plain": [
       "<Figure size 640x480 with 1 Axes>"
      ]
     },
     "metadata": {},
     "output_type": "display_data"
    }
   ],
   "source": [
    "ca_distribution = X_train.value_counts(subset = 'citric acid').head(n=30)\n",
    "ca_distribution.plot(kind='bar')"
   ]
  },
  {
   "cell_type": "markdown",
   "metadata": {},
   "source": [
    "Распределение юнимодальное"
   ]
  },
  {
   "cell_type": "code",
   "execution_count": 122,
   "metadata": {
    "colab": {
     "base_uri": "https://localhost:8080/",
     "height": 282
    },
    "id": "PwOxm2PJZi4k",
    "outputId": "370fda27-f893-41b9-d12e-baf211db3e87"
   },
   "outputs": [
    {
     "data": {
      "text/plain": [
       "<AxesSubplot: >"
      ]
     },
     "execution_count": 122,
     "metadata": {},
     "output_type": "execute_result"
    },
    {
     "data": {
      "image/png": "[encoded data removed]",
      "text/plain": [
       "<Figure size 640x480 with 1 Axes>"
      ]
     },
     "metadata": {},
     "output_type": "display_data"
    }
   ],
   "source": [
    "X_train.boxplot('citric acid')"
   ]
  },
  {
   "cell_type": "markdown",
   "metadata": {},
   "source": [
    "Как видим, присутствует большое количество выбрососв сверху и снизу."
   ]
  },
  {
   "cell_type": "code",
   "execution_count": 123,
   "metadata": {
    "colab": {
     "base_uri": "https://localhost:8080/"
    },
    "id": "Hsz4ve75YIWw",
    "outputId": "cb2a67b9-ab4d-4f40-f913-7dc609391537"
   },
   "outputs": [
    {
     "data": {
      "text/plain": [
       "count    4546.000000\n",
       "mean        5.474538\n",
       "std         4.772732\n",
       "min         0.600000\n",
       "25%         1.800000\n",
       "50%         3.100000\n",
       "75%         8.100000\n",
       "max        65.800000\n",
       "Name: residual sugar, dtype: float64"
      ]
     },
     "execution_count": 123,
     "metadata": {},
     "output_type": "execute_result"
    }
   ],
   "source": [
    "X_train['residual sugar'].describe()"
   ]
  },
  {
   "cell_type": "markdown",
   "metadata": {},
   "source": [
    "Мы вывели статистику для показателя остаточного сахара. Как видим, распределение неравномерное (скошенное вправо). Большая часть значений лежит в диапозоне от 0.6 до 8.1 (75% перцентиль). Среднее значение - 5.47, стандартное отклонение - 4.77, максимальное значение равняется 65.8."
   ]
  },
  {
   "cell_type": "code",
   "execution_count": 124,
   "metadata": {
    "colab": {
     "base_uri": "https://localhost:8080/",
     "height": 302
    },
    "id": "1XHgIUrHZy1w",
    "outputId": "2709d023-85e1-4a01-aec7-fb78471f665b"
   },
   "outputs": [
    {
     "data": {
      "text/plain": [
       "<AxesSubplot: xlabel='residual sugar'>"
      ]
     },
     "execution_count": 124,
     "metadata": {},
     "output_type": "execute_result"
    },
    {
     "data": {
      "image/png": "[encoded data removed]",
      "text/plain": [
       "<Figure size 640x480 with 1 Axes>"
      ]
     },
     "metadata": {},
     "output_type": "display_data"
    }
   ],
   "source": [
    "rs_distribution = X_train.value_counts(subset = 'residual sugar').head(n=30)\n",
    "rs_distribution.plot(kind='bar')"
   ]
  },
  {
   "cell_type": "markdown",
   "metadata": {},
   "source": [
    "Распределение, с небольшим приближением, можно назвать мультимодальным."
   ]
  },
  {
   "cell_type": "code",
   "execution_count": 125,
   "metadata": {
    "colab": {
     "base_uri": "https://localhost:8080/",
     "height": 282
    },
    "id": "u-DBGw0ZZzGz",
    "outputId": "b5abcef3-7e0b-41d1-8061-f8f90d7c6e61"
   },
   "outputs": [
    {
     "data": {
      "text/plain": [
       "<AxesSubplot: >"
      ]
     },
     "execution_count": 125,
     "metadata": {},
     "output_type": "execute_result"
    },
    {
     "data": {
      "image/png": "[encoded data removed]",
      "text/plain": [
       "<Figure size 640x480 with 1 Axes>"
      ]
     },
     "metadata": {},
     "output_type": "display_data"
    }
   ],
   "source": [
    "X_train.boxplot('residual sugar')"
   ]
  },
  {
   "cell_type": "markdown",
   "metadata": {},
   "source": [
    "Как видим, присутствует большое количество выбросов сверху."
   ]
  },
  {
   "cell_type": "code",
   "execution_count": 126,
   "metadata": {
    "colab": {
     "base_uri": "https://localhost:8080/"
    },
    "id": "DpNkuaDsYIju",
    "outputId": "c47c2fb2-a6d3-4087-f526-21af2eb58088"
   },
   "outputs": [
    {
     "data": {
      "text/plain": [
       "count    4545.000000\n",
       "mean        0.055556\n",
       "std         0.033979\n",
       "min         0.009000\n",
       "25%         0.038000\n",
       "50%         0.047000\n",
       "75%         0.064000\n",
       "max         0.610000\n",
       "Name: chlorides, dtype: float64"
      ]
     },
     "execution_count": 126,
     "metadata": {},
     "output_type": "execute_result"
    }
   ],
   "source": [
    "X_train['chlorides'].describe()"
   ]
  },
  {
   "cell_type": "markdown",
   "metadata": {},
   "source": [
    "Мы вывели статистику для показателя содержания хлоридов. Как видим, распределение неравномерное (скошенное вправо). Большая часть значений лежит в диапозоне от 0.009 до 0.064 (75% перцентиль). Среднее значение - 0.056, стандартное отклонение - 0.034, максимальное значение равняется 0.61."
   ]
  },
  {
   "cell_type": "code",
   "execution_count": 127,
   "metadata": {
    "colab": {
     "base_uri": "https://localhost:8080/",
     "height": 315
    },
    "id": "eDVq_NIoaGM1",
    "outputId": "fa1da8c4-192a-4646-b26d-4945814b9465"
   },
   "outputs": [
    {
     "data": {
      "text/plain": [
       "<AxesSubplot: xlabel='chlorides'>"
      ]
     },
     "execution_count": 127,
     "metadata": {},
     "output_type": "execute_result"
    },
    {
     "data": {
      "image/png": "[encoded data removed]",
      "text/plain": [
       "<Figure size 640x480 with 1 Axes>"
      ]
     },
     "metadata": {},
     "output_type": "display_data"
    }
   ],
   "source": [
    "chlorides_distribution = X_train.value_counts(subset = 'chlorides').head(n=30)\n",
    "chlorides_distribution.plot(kind='bar')"
   ]
  },
  {
   "cell_type": "markdown",
   "metadata": {},
   "source": [
    "Распределение юнимодальное (но мода не ярко выражена)."
   ]
  },
  {
   "cell_type": "code",
   "execution_count": 128,
   "metadata": {
    "colab": {
     "base_uri": "https://localhost:8080/",
     "height": 282
    },
    "id": "6xjX5ykIaMxk",
    "outputId": "2da8b846-c192-45df-fa32-b8cab12f9b50"
   },
   "outputs": [
    {
     "data": {
      "text/plain": [
       "<AxesSubplot: >"
      ]
     },
     "execution_count": 128,
     "metadata": {},
     "output_type": "execute_result"
    },
    {
     "data": {
      "image/png": "[encoded data removed]",
      "text/plain": [
       "<Figure size 640x480 with 1 Axes>"
      ]
     },
     "metadata": {},
     "output_type": "display_data"
    }
   ],
   "source": [
    "X_train.boxplot('chlorides')"
   ]
  },
  {
   "cell_type": "markdown",
   "metadata": {},
   "source": [
    "Как видим, присутствует большое количество выбросов сверху."
   ]
  },
  {
   "cell_type": "code",
   "execution_count": 129,
   "metadata": {
    "colab": {
     "base_uri": "https://localhost:8080/"
    },
    "id": "ccg2GTpqYIwL",
    "outputId": "f27159e2-a6b9-4e96-ea36-7847810d7580"
   },
   "outputs": [
    {
     "data": {
      "text/plain": [
       "count    4547.000000\n",
       "mean       30.789751\n",
       "std        17.856596\n",
       "min         1.000000\n",
       "25%        17.000000\n",
       "50%        29.000000\n",
       "75%        42.000000\n",
       "max       289.000000\n",
       "Name: free sulfur dioxide, dtype: float64"
      ]
     },
     "execution_count": 129,
     "metadata": {},
     "output_type": "execute_result"
    }
   ],
   "source": [
    "X_train['free sulfur dioxide'].describe()"
   ]
  },
  {
   "cell_type": "markdown",
   "metadata": {},
   "source": [
    "Мы вывели статистику для показателя содержания свободного диоксида серы. Как видим, распределение неравномерное (скошенное вправо). Большая часть значений лежит в диапозоне от 1 до 42 (75% перцентиль). Среднее значение - 31, стандартное отклонение - 18, максимальное значение равняется 289."
   ]
  },
  {
   "cell_type": "code",
   "execution_count": 130,
   "metadata": {
    "colab": {
     "base_uri": "https://localhost:8080/",
     "height": 309
    },
    "id": "KaDwsWGqaVOX",
    "outputId": "490862ff-9ce7-4a54-ce37-2131023af0f1"
   },
   "outputs": [
    {
     "data": {
      "text/plain": [
       "<AxesSubplot: xlabel='free sulfur dioxide'>"
      ]
     },
     "execution_count": 130,
     "metadata": {},
     "output_type": "execute_result"
    },
    {
     "data": {
      "image/png": "[encoded data removed]",
      "text/plain": [
       "<Figure size 640x480 with 1 Axes>"
      ]
     },
     "metadata": {},
     "output_type": "display_data"
    }
   ],
   "source": [
    "fsd_distribution = X_train.value_counts(subset = 'free sulfur dioxide').head(n=30)\n",
    "fsd_distribution.plot(kind='bar')"
   ]
  },
  {
   "cell_type": "markdown",
   "metadata": {},
   "source": [
    "Распределение юнимодальное."
   ]
  },
  {
   "cell_type": "code",
   "execution_count": 131,
   "metadata": {
    "colab": {
     "base_uri": "https://localhost:8080/",
     "height": 284
    },
    "id": "s93FMiJ8aX4u",
    "outputId": "e574b21e-bf8d-493e-9544-c1f8fda0997f"
   },
   "outputs": [
    {
     "data": {
      "text/plain": [
       "<AxesSubplot: >"
      ]
     },
     "execution_count": 131,
     "metadata": {},
     "output_type": "execute_result"
    },
    {
     "data": {
      "image/png": "[encoded data removed]",
      "text/plain": [
       "<Figure size 640x480 with 1 Axes>"
      ]
     },
     "metadata": {},
     "output_type": "display_data"
    }
   ],
   "source": [
    "X_train.boxplot('free sulfur dioxide')"
   ]
  },
  {
   "cell_type": "markdown",
   "metadata": {},
   "source": [
    "Как видим, присутствует большое количество выбросов сверху."
   ]
  },
  {
   "cell_type": "code",
   "execution_count": 132,
   "metadata": {
    "colab": {
     "base_uri": "https://localhost:8080/"
    },
    "id": "C6Bk-KcJYI6r",
    "outputId": "2800ff3f-e4ae-4287-d6cc-d93febc16ae8"
   },
   "outputs": [
    {
     "data": {
      "text/plain": [
       "count    4547.000000\n",
       "mean      116.141522\n",
       "std        56.044864\n",
       "min         6.000000\n",
       "25%        79.500000\n",
       "50%       119.000000\n",
       "75%       156.000000\n",
       "max       440.000000\n",
       "Name: total sulfur dioxide, dtype: float64"
      ]
     },
     "execution_count": 132,
     "metadata": {},
     "output_type": "execute_result"
    }
   ],
   "source": [
    "X_train['total sulfur dioxide'].describe()"
   ]
  },
  {
   "cell_type": "markdown",
   "metadata": {},
   "source": [
    "Мы вывели статистику для показателя общего содержания диоксида серы. Как видим, распределение неравномерное (скошенное вправо). Большая часть значений лежит в диапозоне от 6 до 156 (75% перцентиль). Среднее значение - 116, стандартное отклонение - 56, максимальное значение равняется 440."
   ]
  },
  {
   "cell_type": "code",
   "execution_count": 133,
   "metadata": {
    "colab": {
     "base_uri": "https://localhost:8080/",
     "height": 315
    },
    "id": "54uxfEsfaj31",
    "outputId": "8269a589-3532-4b99-94e1-dbbb8f4d7d7a"
   },
   "outputs": [
    {
     "data": {
      "text/plain": [
       "<AxesSubplot: xlabel='total sulfur dioxide'>"
      ]
     },
     "execution_count": 133,
     "metadata": {},
     "output_type": "execute_result"
    },
    {
     "data": {
      "image/png": "[encoded data removed]",
      "text/plain": [
       "<Figure size 640x480 with 1 Axes>"
      ]
     },
     "metadata": {},
     "output_type": "display_data"
    }
   ],
   "source": [
    "tsd_distribution = X_train.value_counts(subset = 'total sulfur dioxide').head(n=30)\n",
    "tsd_distribution.plot(kind='bar')"
   ]
  },
  {
   "cell_type": "markdown",
   "metadata": {},
   "source": [
    "Распределение юнимодальное, мода выражена не ярко."
   ]
  },
  {
   "cell_type": "code",
   "execution_count": 134,
   "metadata": {
    "colab": {
     "base_uri": "https://localhost:8080/",
     "height": 282
    },
    "id": "VnbKi0F9arj0",
    "outputId": "2c5c74e3-1f86-45e2-d560-f46d7ecba121"
   },
   "outputs": [
    {
     "data": {
      "text/plain": [
       "<AxesSubplot: >"
      ]
     },
     "execution_count": 134,
     "metadata": {},
     "output_type": "execute_result"
    },
    {
     "data": {
      "image/png": "[encoded data removed]",
      "text/plain": [
       "<Figure size 640x480 with 1 Axes>"
      ]
     },
     "metadata": {},
     "output_type": "display_data"
    }
   ],
   "source": [
    "X_train.boxplot('total sulfur dioxide')"
   ]
  },
  {
   "cell_type": "markdown",
   "metadata": {},
   "source": [
    "Присутствует некоторое количество выбросов сверху."
   ]
  },
  {
   "cell_type": "code",
   "execution_count": 135,
   "metadata": {
    "colab": {
     "base_uri": "https://localhost:8080/"
    },
    "id": "Zh5uWpbaYJDv",
    "outputId": "4a10bb44-085e-4146-f9ab-a44032cad0d4"
   },
   "outputs": [
    {
     "data": {
      "text/plain": [
       "count    4547.000000\n",
       "mean        0.994652\n",
       "std         0.003016\n",
       "min         0.987110\n",
       "25%         0.992280\n",
       "50%         0.994800\n",
       "75%         0.996980\n",
       "max         1.038980\n",
       "Name: density, dtype: float64"
      ]
     },
     "execution_count": 135,
     "metadata": {},
     "output_type": "execute_result"
    }
   ],
   "source": [
    "X_train['density'].describe()"
   ]
  },
  {
   "cell_type": "markdown",
   "metadata": {},
   "source": [
    "Мы вывели статистику для показателя плотности. Как видим, распределение неравномерное (скошенное вправо). Большая часть значений лежит в диапозоне от 0.987 до 0.997 (75% перцентиль). Среднее значение - 0.995, стандартное отклонение - 0.003, максимальное значение равняется 1.04."
   ]
  },
  {
   "cell_type": "code",
   "execution_count": 136,
   "metadata": {
    "colab": {
     "base_uri": "https://localhost:8080/",
     "height": 321
    },
    "id": "FImuV5p2a7yW",
    "outputId": "27c98a0d-826b-43b2-e8e6-15f844c1b548"
   },
   "outputs": [
    {
     "data": {
      "text/plain": [
       "<AxesSubplot: xlabel='density'>"
      ]
     },
     "execution_count": 136,
     "metadata": {},
     "output_type": "execute_result"
    },
    {
     "data": {
      "image/png": "[encoded data removed]",
      "text/plain": [
       "<Figure size 640x480 with 1 Axes>"
      ]
     },
     "metadata": {},
     "output_type": "display_data"
    }
   ],
   "source": [
    "density_distribution = X_train.value_counts(subset = 'density').head(n=30)\n",
    "density_distribution.plot(kind='bar')"
   ]
  },
  {
   "cell_type": "markdown",
   "metadata": {},
   "source": [
    "Распределение юнимодальное, мода выражена не ярко."
   ]
  },
  {
   "cell_type": "code",
   "execution_count": 137,
   "metadata": {
    "colab": {
     "base_uri": "https://localhost:8080/",
     "height": 282
    },
    "id": "piVoNZyma98u",
    "outputId": "fca00cd4-b639-4a7d-8217-6de936cd7160"
   },
   "outputs": [
    {
     "data": {
      "text/plain": [
       "<AxesSubplot: >"
      ]
     },
     "execution_count": 137,
     "metadata": {},
     "output_type": "execute_result"
    },
    {
     "data": {
      "image/png": "[encoded data removed]",
      "text/plain": [
       "<Figure size 640x480 with 1 Axes>"
      ]
     },
     "metadata": {},
     "output_type": "display_data"
    }
   ],
   "source": [
    "X_train.boxplot('density')"
   ]
  },
  {
   "cell_type": "markdown",
   "metadata": {},
   "source": [
    "Присутствует один выброс сверху."
   ]
  },
  {
   "cell_type": "code",
   "execution_count": 138,
   "metadata": {
    "colab": {
     "base_uri": "https://localhost:8080/"
    },
    "id": "06loyd95YJNA",
    "outputId": "c3f888ad-993a-496f-a076-0919c3cc9fea"
   },
   "outputs": [
    {
     "data": {
      "text/plain": [
       "count    4541.000000\n",
       "mean        3.218683\n",
       "std         0.161561\n",
       "min         2.740000\n",
       "25%         3.110000\n",
       "50%         3.210000\n",
       "75%         3.320000\n",
       "max         4.010000\n",
       "Name: pH, dtype: float64"
      ]
     },
     "execution_count": 138,
     "metadata": {},
     "output_type": "execute_result"
    }
   ],
   "source": [
    "X_train['pH'].describe()"
   ]
  },
  {
   "cell_type": "markdown",
   "metadata": {},
   "source": [
    "Мы вывели статистику для водородного показателя. Как видим, распределение неравномерное (скошенное вправо). Большая часть значений лежит в диапозоне от 2.74 до 3.32 (75% перцентиль). Среднее значение - 3.22, стандартное отклонение - 0.16, максимальное значение равняется 4.01."
   ]
  },
  {
   "cell_type": "code",
   "execution_count": 139,
   "metadata": {
    "colab": {
     "base_uri": "https://localhost:8080/",
     "height": 309
    },
    "id": "Aj1QKBV6bRcS",
    "outputId": "1d8ef0c4-0475-45e8-9493-00355382fcd4"
   },
   "outputs": [
    {
     "data": {
      "text/plain": [
       "<AxesSubplot: xlabel='pH'>"
      ]
     },
     "execution_count": 139,
     "metadata": {},
     "output_type": "execute_result"
    },
    {
     "data": {
      "image/png": "[encoded data removed]",
      "text/plain": [
       "<Figure size 640x480 with 1 Axes>"
      ]
     },
     "metadata": {},
     "output_type": "display_data"
    }
   ],
   "source": [
    "pH_distribution = X_train.value_counts(subset = 'pH').head(n=30)\n",
    "pH_distribution.plot(kind='bar')"
   ]
  },
  {
   "cell_type": "markdown",
   "metadata": {},
   "source": [
    "Распределение бимодальное, но моды выражены не ярко."
   ]
  },
  {
   "cell_type": "code",
   "execution_count": 140,
   "metadata": {
    "colab": {
     "base_uri": "https://localhost:8080/",
     "height": 282
    },
    "id": "ZnGa3e_zbWEY",
    "outputId": "4e5f06e5-c3d9-4556-92ef-cc9838a07dbd"
   },
   "outputs": [
    {
     "data": {
      "text/plain": [
       "<AxesSubplot: >"
      ]
     },
     "execution_count": 140,
     "metadata": {},
     "output_type": "execute_result"
    },
    {
     "data": {
      "image/png": "[encoded data removed]",
      "text/plain": [
       "<Figure size 640x480 with 1 Axes>"
      ]
     },
     "metadata": {},
     "output_type": "display_data"
    }
   ],
   "source": [
    "X_train.boxplot('pH')"
   ]
  },
  {
   "cell_type": "markdown",
   "metadata": {},
   "source": [
    "Присутствует большое количество выбросов сверху и несколько выбросов снизу."
   ]
  },
  {
   "cell_type": "code",
   "execution_count": 141,
   "metadata": {
    "colab": {
     "base_uri": "https://localhost:8080/"
    },
    "id": "b8a6Ps1EYJWK",
    "outputId": "12e8ce23-307c-45f6-ed93-b5220d5d5a8e"
   },
   "outputs": [
    {
     "data": {
      "text/plain": [
       "count    4543.000000\n",
       "mean        0.529344\n",
       "std         0.148182\n",
       "min         0.220000\n",
       "25%         0.430000\n",
       "50%         0.500000\n",
       "75%         0.600000\n",
       "max         2.000000\n",
       "Name: sulphates, dtype: float64"
      ]
     },
     "execution_count": 141,
     "metadata": {},
     "output_type": "execute_result"
    }
   ],
   "source": [
    "X_train['sulphates'].describe()"
   ]
  },
  {
   "cell_type": "markdown",
   "metadata": {},
   "source": [
    "Мы вывели статистику для показателя содержания сульфатов. Как видим, распределение неравномерное (скошенное вправо). Большая часть значений лежит в диапозоне от 0.22 до 0.6 (75% перцентиль). Среднее значение - 0.53, стандартное отклонение - 0.15, максимальное значение равняется 2."
   ]
  },
  {
   "cell_type": "code",
   "execution_count": 142,
   "metadata": {
    "colab": {
     "base_uri": "https://localhost:8080/",
     "height": 309
    },
    "id": "jaj4JosmbgIj",
    "outputId": "e163255e-f14f-4ed6-dbcb-3599d81b9808"
   },
   "outputs": [
    {
     "data": {
      "text/plain": [
       "<AxesSubplot: xlabel='sulphates'>"
      ]
     },
     "execution_count": 142,
     "metadata": {},
     "output_type": "execute_result"
    },
    {
     "data": {
      "image/png": "[encoded data removed]",
      "text/plain": [
       "<Figure size 640x480 with 1 Axes>"
      ]
     },
     "metadata": {},
     "output_type": "display_data"
    }
   ],
   "source": [
    "sulphates_distribution = X_train.value_counts(subset = 'sulphates').head(n=30)\n",
    "sulphates_distribution.plot(kind='bar')"
   ]
  },
  {
   "cell_type": "markdown",
   "metadata": {},
   "source": [
    "Распределение бимодальное, но моды выражены не ярко."
   ]
  },
  {
   "cell_type": "code",
   "execution_count": 143,
   "metadata": {
    "colab": {
     "base_uri": "https://localhost:8080/",
     "height": 282
    },
    "id": "va95vKnmbgsF",
    "outputId": "9a0c33bd-64e4-4f0d-a348-4f23d497d031"
   },
   "outputs": [
    {
     "data": {
      "text/plain": [
       "<AxesSubplot: >"
      ]
     },
     "execution_count": 143,
     "metadata": {},
     "output_type": "execute_result"
    },
    {
     "data": {
      "image/png": "[encoded data removed]",
      "text/plain": [
       "<Figure size 640x480 with 1 Axes>"
      ]
     },
     "metadata": {},
     "output_type": "display_data"
    }
   ],
   "source": [
    "X_train.boxplot('sulphates')"
   ]
  },
  {
   "cell_type": "markdown",
   "metadata": {},
   "source": [
    "Присутствует большое количество выбросов сверху."
   ]
  },
  {
   "cell_type": "code",
   "execution_count": 144,
   "metadata": {
    "colab": {
     "base_uri": "https://localhost:8080/"
    },
    "id": "xWJ9_sBMYJft",
    "outputId": "f7c00fa3-f5ea-4788-e404-9e4b8b8f9ac2"
   },
   "outputs": [
    {
     "data": {
      "text/plain": [
       "count    4547.000000\n",
       "mean       10.512845\n",
       "std         1.202475\n",
       "min         8.000000\n",
       "25%         9.500000\n",
       "50%        10.300000\n",
       "75%        11.300000\n",
       "max        14.900000\n",
       "Name: alcohol, dtype: float64"
      ]
     },
     "execution_count": 144,
     "metadata": {},
     "output_type": "execute_result"
    }
   ],
   "source": [
    "X_train['alcohol'].describe()"
   ]
  },
  {
   "cell_type": "markdown",
   "metadata": {},
   "source": [
    "Мы вывели статистику для показателя содержания спирта. Как видим, распределение неравномерное (скошенное вправо). Большая часть значений лежит в диапозоне от 8 до 11.3 (75% перцентиль). Среднее значение - 10.5, стандартное отклонение - 1.2, максимальное значение равняется 14.9."
   ]
  },
  {
   "cell_type": "code",
   "execution_count": 145,
   "metadata": {
    "colab": {
     "base_uri": "https://localhost:8080/",
     "height": 309
    },
    "id": "XmeR-gyibxo5",
    "outputId": "a620e9df-7a3f-441f-e98f-4a8fa8cfa982"
   },
   "outputs": [
    {
     "data": {
      "text/plain": [
       "<AxesSubplot: xlabel='alcohol'>"
      ]
     },
     "execution_count": 145,
     "metadata": {},
     "output_type": "execute_result"
    },
    {
     "data": {
      "image/png": "[encoded data removed]",
      "text/plain": [
       "<Figure size 640x480 with 1 Axes>"
      ]
     },
     "metadata": {},
     "output_type": "display_data"
    }
   ],
   "source": [
    "alcohol_distribution = X_train.value_counts(subset = 'alcohol').head(n=30)\n",
    "alcohol_distribution.plot(kind='bar')"
   ]
  },
  {
   "cell_type": "markdown",
   "metadata": {},
   "source": [
    "Распределение юнимодальное."
   ]
  },
  {
   "cell_type": "code",
   "execution_count": 146,
   "metadata": {
    "colab": {
     "base_uri": "https://localhost:8080/",
     "height": 282
    },
    "id": "rEc2Ziwfb730",
    "outputId": "4a0b00bc-d550-4d03-a10f-9b3152df3156"
   },
   "outputs": [
    {
     "data": {
      "text/plain": [
       "<AxesSubplot: >"
      ]
     },
     "execution_count": 146,
     "metadata": {},
     "output_type": "execute_result"
    },
    {
     "data": {
      "image/png": "[encoded data removed]",
      "text/plain": [
       "<Figure size 640x480 with 1 Axes>"
      ]
     },
     "metadata": {},
     "output_type": "display_data"
    }
   ],
   "source": [
    "X_train.boxplot('alcohol')"
   ]
  },
  {
   "cell_type": "markdown",
   "metadata": {},
   "source": [
    "Присутствует несколько выбросов сверху."
   ]
  },
  {
   "cell_type": "code",
   "execution_count": 147,
   "metadata": {
    "colab": {
     "base_uri": "https://localhost:8080/"
    },
    "id": "5r7k85qmHjC7",
    "outputId": "978257c1-a937-45c1-c01c-265bade1b5cb"
   },
   "outputs": [
    {
     "data": {
      "text/plain": [
       "count    4547.000000\n",
       "mean        5.824280\n",
       "std         0.886001\n",
       "min         3.000000\n",
       "25%         5.000000\n",
       "50%         6.000000\n",
       "75%         6.000000\n",
       "max         9.000000\n",
       "Name: quality, dtype: float64"
      ]
     },
     "execution_count": 147,
     "metadata": {},
     "output_type": "execute_result"
    }
   ],
   "source": [
    "y_train.describe()"
   ]
  },
  {
   "cell_type": "markdown",
   "metadata": {},
   "source": [
    "Мы вывели статистику распределения оценок. Как видим, распределение неравномерное (скошенное вправо). Большая часть значений лежит в диапозоне от 3 до 6 (75% перцентиль). Среднее значение - 5.8, стандартное отклонение - 0.89, максимальное значение равняется 9."
   ]
  },
  {
   "cell_type": "code",
   "execution_count": 148,
   "metadata": {
    "colab": {
     "base_uri": "https://localhost:8080/",
     "height": 279
    },
    "id": "Ls2UUF-FHvk7",
    "outputId": "60e58cc0-caa1-4a93-ca06-054b79095ee8"
   },
   "outputs": [
    {
     "data": {
      "text/plain": [
       "<AxesSubplot: >"
      ]
     },
     "execution_count": 148,
     "metadata": {},
     "output_type": "execute_result"
    },
    {
     "data": {
      "image/png": "[encoded data removed]",
      "text/plain": [
       "<Figure size 640x480 with 1 Axes>"
      ]
     },
     "metadata": {},
     "output_type": "display_data"
    }
   ],
   "source": [
    "quality_distribution = y_train.value_counts().head(n=30)\n",
    "quality_distribution.plot(kind='bar')"
   ]
  },
  {
   "cell_type": "markdown",
   "metadata": {},
   "source": [
    "Распределение юнимодальное."
   ]
  },
  {
   "cell_type": "code",
   "execution_count": 149,
   "metadata": {
    "colab": {
     "base_uri": "https://localhost:8080/",
     "height": 282
    },
    "id": "-UKYgQTdHwGr",
    "outputId": "2ddb7eb9-145c-4bd7-b248-34bb8bb5cdd7"
   },
   "outputs": [
    {
     "data": {
      "text/plain": [
       "<AxesSubplot: >"
      ]
     },
     "execution_count": 149,
     "metadata": {},
     "output_type": "execute_result"
    },
    {
     "data": {
      "image/png": "[encoded data removed]",
      "text/plain": [
       "<Figure size 640x480 with 1 Axes>"
      ]
     },
     "metadata": {},
     "output_type": "display_data"
    }
   ],
   "source": [
    "y_train.plot.box()"
   ]
  },
  {
   "cell_type": "markdown",
   "metadata": {},
   "source": [
    "Присутствуют выбросы сверху и снизу."
   ]
  },
  {
   "cell_type": "markdown",
   "metadata": {},
   "source": [
    "## Корреляции"
   ]
  },
  {
   "cell_type": "code",
   "execution_count": 150,
   "metadata": {
    "colab": {
     "base_uri": "https://localhost:8080/",
     "height": 547
    },
    "id": "yt9_zKKX_S5k",
    "outputId": "5708d45d-add2-4444-856d-81cf2b096a00"
   },
   "outputs": [
    {
     "name": "stderr",
     "output_type": "stream",
     "text": [
      "C:\\Users\\mozg2\\AppData\\Local\\Temp\\ipykernel_16372\\2171886145.py:3: FutureWarning: The default value of numeric_only in DataFrame.corr is deprecated. In a future version, it will default to False. Select only valid columns or specify the value of numeric_only to silence this warning.\n",
      "  corr = wines_train_corr.corr()\n"
     ]
    },
    {
     "data": {
      "text/html": [
       "<style type=\"text/css\">\n",
       "#T_2efe0_row0_col0, #T_2efe0_row1_col1, #T_2efe0_row2_col2, #T_2efe0_row3_col3, #T_2efe0_row4_col4, #T_2efe0_row5_col5, #T_2efe0_row6_col6, #T_2efe0_row7_col7, #T_2efe0_row8_col8, #T_2efe0_row9_col9, #T_2efe0_row10_col10, #T_2efe0_row11_col11 {\n",
       "  background-color: #b40426;\n",
       "  color: #f1f1f1;\n",
       "}\n",
       "#T_2efe0_row0_col1, #T_2efe0_row0_col4 {\n",
       "  background-color: #d1dae9;\n",
       "  color: #000000;\n",
       "}\n",
       "#T_2efe0_row0_col2 {\n",
       "  background-color: #dfdbd9;\n",
       "  color: #000000;\n",
       "}\n",
       "#T_2efe0_row0_col3 {\n",
       "  background-color: #7699f6;\n",
       "  color: #f1f1f1;\n",
       "}\n",
       "#T_2efe0_row0_col5 {\n",
       "  background-color: #4c66d6;\n",
       "  color: #f1f1f1;\n",
       "}\n",
       "#T_2efe0_row0_col6, #T_2efe0_row3_col9 {\n",
       "  background-color: #4e68d8;\n",
       "  color: #f1f1f1;\n",
       "}\n",
       "#T_2efe0_row0_col7, #T_2efe0_row7_col3 {\n",
       "  background-color: #f7b497;\n",
       "  color: #000000;\n",
       "}\n",
       "#T_2efe0_row0_col8, #T_2efe0_row8_col0 {\n",
       "  background-color: #4a63d3;\n",
       "  color: #f1f1f1;\n",
       "}\n",
       "#T_2efe0_row0_col9 {\n",
       "  background-color: #ccd9ed;\n",
       "  color: #000000;\n",
       "}\n",
       "#T_2efe0_row0_col10 {\n",
       "  background-color: #b1cbfc;\n",
       "  color: #000000;\n",
       "}\n",
       "#T_2efe0_row0_col11 {\n",
       "  background-color: #7295f4;\n",
       "  color: #f1f1f1;\n",
       "}\n",
       "#T_2efe0_row1_col0 {\n",
       "  background-color: #c5d6f2;\n",
       "  color: #000000;\n",
       "}\n",
       "#T_2efe0_row1_col2, #T_2efe0_row1_col5, #T_2efe0_row1_col6, #T_2efe0_row2_col8, #T_2efe0_row6_col0, #T_2efe0_row6_col1, #T_2efe0_row6_col4, #T_2efe0_row6_col9, #T_2efe0_row7_col10, #T_2efe0_row7_col11, #T_2efe0_row10_col3, #T_2efe0_row10_col7 {\n",
       "  background-color: #3b4cc0;\n",
       "  color: #f1f1f1;\n",
       "}\n",
       "#T_2efe0_row1_col3, #T_2efe0_row4_col5 {\n",
       "  background-color: #6282ea;\n",
       "  color: #f1f1f1;\n",
       "}\n",
       "#T_2efe0_row1_col4 {\n",
       "  background-color: #e0dbd8;\n",
       "  color: #000000;\n",
       "}\n",
       "#T_2efe0_row1_col7 {\n",
       "  background-color: #ecd3c5;\n",
       "  color: #000000;\n",
       "}\n",
       "#T_2efe0_row1_col8 {\n",
       "  background-color: #cbd8ee;\n",
       "  color: #000000;\n",
       "}\n",
       "#T_2efe0_row1_col9, #T_2efe0_row2_col10 {\n",
       "  background-color: #c0d4f5;\n",
       "  color: #000000;\n",
       "}\n",
       "#T_2efe0_row1_col10 {\n",
       "  background-color: #bcd2f7;\n",
       "  color: #000000;\n",
       "}\n",
       "#T_2efe0_row1_col11, #T_2efe0_row2_col1, #T_2efe0_row5_col0 {\n",
       "  background-color: #455cce;\n",
       "  color: #f1f1f1;\n",
       "}\n",
       "#T_2efe0_row2_col0 {\n",
       "  background-color: #dbdcde;\n",
       "  color: #000000;\n",
       "}\n",
       "#T_2efe0_row2_col3, #T_2efe0_row3_col2 {\n",
       "  background-color: #b9d0f9;\n",
       "  color: #000000;\n",
       "}\n",
       "#T_2efe0_row2_col4 {\n",
       "  background-color: #8caffe;\n",
       "  color: #000000;\n",
       "}\n",
       "#T_2efe0_row2_col5 {\n",
       "  background-color: #b3cdfb;\n",
       "  color: #000000;\n",
       "}\n",
       "#T_2efe0_row2_col6 {\n",
       "  background-color: #cad8ef;\n",
       "  color: #000000;\n",
       "}\n",
       "#T_2efe0_row2_col7, #T_2efe0_row8_col1 {\n",
       "  background-color: #d5dbe5;\n",
       "  color: #000000;\n",
       "}\n",
       "#T_2efe0_row2_col9, #T_2efe0_row7_col8, #T_2efe0_row8_col4 {\n",
       "  background-color: #8fb1fe;\n",
       "  color: #000000;\n",
       "}\n",
       "#T_2efe0_row2_col11, #T_2efe0_row4_col2 {\n",
       "  background-color: #9ebeff;\n",
       "  color: #000000;\n",
       "}\n",
       "#T_2efe0_row3_col0, #T_2efe0_row8_col5 {\n",
       "  background-color: #6f92f3;\n",
       "  color: #f1f1f1;\n",
       "}\n",
       "#T_2efe0_row3_col1 {\n",
       "  background-color: #6c8ff1;\n",
       "  color: #f1f1f1;\n",
       "}\n",
       "#T_2efe0_row3_col4 {\n",
       "  background-color: #5f7fe8;\n",
       "  color: #f1f1f1;\n",
       "}\n",
       "#T_2efe0_row3_col5 {\n",
       "  background-color: #ead5c9;\n",
       "  color: #000000;\n",
       "}\n",
       "#T_2efe0_row3_col6 {\n",
       "  background-color: #f5c0a7;\n",
       "  color: #000000;\n",
       "}\n",
       "#T_2efe0_row3_col7 {\n",
       "  background-color: #f59d7e;\n",
       "  color: #000000;\n",
       "}\n",
       "#T_2efe0_row3_col8 {\n",
       "  background-color: #4961d2;\n",
       "  color: #f1f1f1;\n",
       "}\n",
       "#T_2efe0_row3_col10, #T_2efe0_row11_col0 {\n",
       "  background-color: #779af7;\n",
       "  color: #f1f1f1;\n",
       "}\n",
       "#T_2efe0_row3_col11, #T_2efe0_row6_col11 {\n",
       "  background-color: #7b9ff9;\n",
       "  color: #f1f1f1;\n",
       "}\n",
       "#T_2efe0_row4_col0, #T_2efe0_row8_col10 {\n",
       "  background-color: #d6dce4;\n",
       "  color: #000000;\n",
       "}\n",
       "#T_2efe0_row4_col1 {\n",
       "  background-color: #ebd3c6;\n",
       "  color: #000000;\n",
       "}\n",
       "#T_2efe0_row4_col3 {\n",
       "  background-color: #7396f5;\n",
       "  color: #f1f1f1;\n",
       "}\n",
       "#T_2efe0_row4_col6 {\n",
       "  background-color: #5977e3;\n",
       "  color: #f1f1f1;\n",
       "}\n",
       "#T_2efe0_row4_col7, #T_2efe0_row6_col3 {\n",
       "  background-color: #f4c5ad;\n",
       "  color: #000000;\n",
       "}\n",
       "#T_2efe0_row4_col8, #T_2efe0_row7_col5 {\n",
       "  background-color: #98b9ff;\n",
       "  color: #000000;\n",
       "}\n",
       "#T_2efe0_row4_col9 {\n",
       "  background-color: #e2dad5;\n",
       "  color: #000000;\n",
       "}\n",
       "#T_2efe0_row4_col10, #T_2efe0_row8_col11 {\n",
       "  background-color: #8db0fe;\n",
       "  color: #000000;\n",
       "}\n",
       "#T_2efe0_row4_col11, #T_2efe0_row6_col8, #T_2efe0_row8_col3 {\n",
       "  background-color: #516ddb;\n",
       "  color: #f1f1f1;\n",
       "}\n",
       "#T_2efe0_row5_col1 {\n",
       "  background-color: #465ecf;\n",
       "  color: #f1f1f1;\n",
       "}\n",
       "#T_2efe0_row5_col2 {\n",
       "  background-color: #b5cdfa;\n",
       "  color: #000000;\n",
       "}\n",
       "#T_2efe0_row5_col3, #T_2efe0_row9_col7 {\n",
       "  background-color: #ead4c8;\n",
       "  color: #000000;\n",
       "}\n",
       "#T_2efe0_row5_col4, #T_2efe0_row5_col9 {\n",
       "  background-color: #506bda;\n",
       "  color: #f1f1f1;\n",
       "}\n",
       "#T_2efe0_row5_col6 {\n",
       "  background-color: #ee8468;\n",
       "  color: #f1f1f1;\n",
       "}\n",
       "#T_2efe0_row5_col7 {\n",
       "  background-color: #c7d7f0;\n",
       "  color: #000000;\n",
       "}\n",
       "#T_2efe0_row5_col8 {\n",
       "  background-color: #6788ee;\n",
       "  color: #f1f1f1;\n",
       "}\n",
       "#T_2efe0_row5_col10 {\n",
       "  background-color: #9dbdff;\n",
       "  color: #000000;\n",
       "}\n",
       "#T_2efe0_row5_col11, #T_2efe0_row10_col1 {\n",
       "  background-color: #96b7ff;\n",
       "  color: #000000;\n",
       "}\n",
       "#T_2efe0_row6_col2, #T_2efe0_row9_col10 {\n",
       "  background-color: #c3d5f4;\n",
       "  color: #000000;\n",
       "}\n",
       "#T_2efe0_row6_col5 {\n",
       "  background-color: #ef886b;\n",
       "  color: #f1f1f1;\n",
       "}\n",
       "#T_2efe0_row6_col7 {\n",
       "  background-color: #c9d7f0;\n",
       "  color: #000000;\n",
       "}\n",
       "#T_2efe0_row6_col10 {\n",
       "  background-color: #8badfd;\n",
       "  color: #000000;\n",
       "}\n",
       "#T_2efe0_row7_col0 {\n",
       "  background-color: #f0cdbb;\n",
       "  color: #000000;\n",
       "}\n",
       "#T_2efe0_row7_col1 {\n",
       "  background-color: #d8dce2;\n",
       "  color: #000000;\n",
       "}\n",
       "#T_2efe0_row7_col2 {\n",
       "  background-color: #aec9fc;\n",
       "  color: #000000;\n",
       "}\n",
       "#T_2efe0_row7_col4 {\n",
       "  background-color: #dedcdb;\n",
       "  color: #000000;\n",
       "}\n",
       "#T_2efe0_row7_col6 {\n",
       "  background-color: #a5c3fe;\n",
       "  color: #000000;\n",
       "}\n",
       "#T_2efe0_row7_col9, #T_2efe0_row8_col7 {\n",
       "  background-color: #c4d5f3;\n",
       "  color: #000000;\n",
       "}\n",
       "#T_2efe0_row8_col2 {\n",
       "  background-color: #4358cb;\n",
       "  color: #f1f1f1;\n",
       "}\n",
       "#T_2efe0_row8_col6 {\n",
       "  background-color: #6485ec;\n",
       "  color: #f1f1f1;\n",
       "}\n",
       "#T_2efe0_row8_col9 {\n",
       "  background-color: #b7cff9;\n",
       "  color: #000000;\n",
       "}\n",
       "#T_2efe0_row9_col0, #T_2efe0_row9_col1 {\n",
       "  background-color: #d3dbe7;\n",
       "  color: #000000;\n",
       "}\n",
       "#T_2efe0_row9_col2 {\n",
       "  background-color: #a1c0ff;\n",
       "  color: #000000;\n",
       "}\n",
       "#T_2efe0_row9_col3, #T_2efe0_row9_col5, #T_2efe0_row10_col5 {\n",
       "  background-color: #6384eb;\n",
       "  color: #f1f1f1;\n",
       "}\n",
       "#T_2efe0_row9_col4 {\n",
       "  background-color: #e3d9d3;\n",
       "  color: #000000;\n",
       "}\n",
       "#T_2efe0_row9_col6, #T_2efe0_row10_col6 {\n",
       "  background-color: #5a78e4;\n",
       "  color: #f1f1f1;\n",
       "}\n",
       "#T_2efe0_row9_col8 {\n",
       "  background-color: #bfd3f6;\n",
       "  color: #000000;\n",
       "}\n",
       "#T_2efe0_row9_col11 {\n",
       "  background-color: #90b2fe;\n",
       "  color: #000000;\n",
       "}\n",
       "#T_2efe0_row10_col0 {\n",
       "  background-color: #7597f6;\n",
       "  color: #f1f1f1;\n",
       "}\n",
       "#T_2efe0_row10_col2, #T_2efe0_row11_col6, #T_2efe0_row11_col8 {\n",
       "  background-color: #92b4fe;\n",
       "  color: #000000;\n",
       "}\n",
       "#T_2efe0_row10_col4 {\n",
       "  background-color: #3e51c5;\n",
       "  color: #f1f1f1;\n",
       "}\n",
       "#T_2efe0_row10_col8 {\n",
       "  background-color: #aac7fd;\n",
       "  color: #000000;\n",
       "}\n",
       "#T_2efe0_row10_col9 {\n",
       "  background-color: #81a4fb;\n",
       "  color: #f1f1f1;\n",
       "}\n",
       "#T_2efe0_row10_col11 {\n",
       "  background-color: #edd2c3;\n",
       "  color: #000000;\n",
       "}\n",
       "#T_2efe0_row11_col1 {\n",
       "  background-color: #5e7de7;\n",
       "  color: #f1f1f1;\n",
       "}\n",
       "#T_2efe0_row11_col2 {\n",
       "  background-color: #a9c6fd;\n",
       "  color: #000000;\n",
       "}\n",
       "#T_2efe0_row11_col3 {\n",
       "  background-color: #88abfd;\n",
       "  color: #000000;\n",
       "}\n",
       "#T_2efe0_row11_col4 {\n",
       "  background-color: #4b64d5;\n",
       "  color: #f1f1f1;\n",
       "}\n",
       "#T_2efe0_row11_col5 {\n",
       "  background-color: #9fbfff;\n",
       "  color: #000000;\n",
       "}\n",
       "#T_2efe0_row11_col7 {\n",
       "  background-color: #84a7fc;\n",
       "  color: #f1f1f1;\n",
       "}\n",
       "#T_2efe0_row11_col9 {\n",
       "  background-color: #89acfd;\n",
       "  color: #000000;\n",
       "}\n",
       "#T_2efe0_row11_col10 {\n",
       "  background-color: #f7b89c;\n",
       "  color: #000000;\n",
       "}\n",
       "</style>\n",
       "<table id=\"T_2efe0\">\n",
       "  <thead>\n",
       "    <tr>\n",
       "      <th class=\"blank level0\" >&nbsp;</th>\n",
       "      <th id=\"T_2efe0_level0_col0\" class=\"col_heading level0 col0\" >fixed acidity</th>\n",
       "      <th id=\"T_2efe0_level0_col1\" class=\"col_heading level0 col1\" >volatile acidity</th>\n",
       "      <th id=\"T_2efe0_level0_col2\" class=\"col_heading level0 col2\" >citric acid</th>\n",
       "      <th id=\"T_2efe0_level0_col3\" class=\"col_heading level0 col3\" >residual sugar</th>\n",
       "      <th id=\"T_2efe0_level0_col4\" class=\"col_heading level0 col4\" >chlorides</th>\n",
       "      <th id=\"T_2efe0_level0_col5\" class=\"col_heading level0 col5\" >free sulfur dioxide</th>\n",
       "      <th id=\"T_2efe0_level0_col6\" class=\"col_heading level0 col6\" >total sulfur dioxide</th>\n",
       "      <th id=\"T_2efe0_level0_col7\" class=\"col_heading level0 col7\" >density</th>\n",
       "      <th id=\"T_2efe0_level0_col8\" class=\"col_heading level0 col8\" >pH</th>\n",
       "      <th id=\"T_2efe0_level0_col9\" class=\"col_heading level0 col9\" >sulphates</th>\n",
       "      <th id=\"T_2efe0_level0_col10\" class=\"col_heading level0 col10\" >alcohol</th>\n",
       "      <th id=\"T_2efe0_level0_col11\" class=\"col_heading level0 col11\" >quality</th>\n",
       "    </tr>\n",
       "  </thead>\n",
       "  <tbody>\n",
       "    <tr>\n",
       "      <th id=\"T_2efe0_level0_row0\" class=\"row_heading level0 row0\" >fixed acidity</th>\n",
       "      <td id=\"T_2efe0_row0_col0\" class=\"data row0 col0\" >1.000000</td>\n",
       "      <td id=\"T_2efe0_row0_col1\" class=\"data row0 col1\" >0.225994</td>\n",
       "      <td id=\"T_2efe0_row0_col2\" class=\"data row0 col2\" >0.330752</td>\n",
       "      <td id=\"T_2efe0_row0_col3\" class=\"data row0 col3\" >-0.108590</td>\n",
       "      <td id=\"T_2efe0_row0_col4\" class=\"data row0 col4\" >0.302367</td>\n",
       "      <td id=\"T_2efe0_row0_col5\" class=\"data row0 col5\" >-0.278315</td>\n",
       "      <td id=\"T_2efe0_row0_col6\" class=\"data row0 col6\" >-0.326179</td>\n",
       "      <td id=\"T_2efe0_row0_col7\" class=\"data row0 col7\" >0.455443</td>\n",
       "      <td id=\"T_2efe0_row0_col8\" class=\"data row0 col8\" >-0.255471</td>\n",
       "      <td id=\"T_2efe0_row0_col9\" class=\"data row0 col9\" >0.287962</td>\n",
       "      <td id=\"T_2efe0_row0_col10\" class=\"data row0 col10\" >-0.087524</td>\n",
       "      <td id=\"T_2efe0_row0_col11\" class=\"data row0 col11\" >-0.075220</td>\n",
       "    </tr>\n",
       "    <tr>\n",
       "      <th id=\"T_2efe0_level0_row1\" class=\"row_heading level0 row1\" >volatile acidity</th>\n",
       "      <td id=\"T_2efe0_row1_col0\" class=\"data row1 col0\" >0.225994</td>\n",
       "      <td id=\"T_2efe0_row1_col1\" class=\"data row1 col1\" >1.000000</td>\n",
       "      <td id=\"T_2efe0_row1_col2\" class=\"data row1 col2\" >-0.364397</td>\n",
       "      <td id=\"T_2efe0_row1_col3\" class=\"data row1 col3\" >-0.191319</td>\n",
       "      <td id=\"T_2efe0_row1_col4\" class=\"data row1 col4\" >0.379585</td>\n",
       "      <td id=\"T_2efe0_row1_col5\" class=\"data row1 col5\" >-0.358097</td>\n",
       "      <td id=\"T_2efe0_row1_col6\" class=\"data row1 col6\" >-0.416068</td>\n",
       "      <td id=\"T_2efe0_row1_col7\" class=\"data row1 col7\" >0.267019</td>\n",
       "      <td id=\"T_2efe0_row1_col8\" class=\"data row1 col8\" >0.252984</td>\n",
       "      <td id=\"T_2efe0_row1_col9\" class=\"data row1 col9\" >0.236982</td>\n",
       "      <td id=\"T_2efe0_row1_col10\" class=\"data row1 col10\" >-0.028822</td>\n",
       "      <td id=\"T_2efe0_row1_col11\" class=\"data row1 col11\" >-0.255418</td>\n",
       "    </tr>\n",
       "    <tr>\n",
       "      <th id=\"T_2efe0_level0_row2\" class=\"row_heading level0 row2\" >citric acid</th>\n",
       "      <td id=\"T_2efe0_row2_col0\" class=\"data row2 col0\" >0.330752</td>\n",
       "      <td id=\"T_2efe0_row2_col1\" class=\"data row2 col1\" >-0.364397</td>\n",
       "      <td id=\"T_2efe0_row2_col2\" class=\"data row2 col2\" >1.000000</td>\n",
       "      <td id=\"T_2efe0_row2_col3\" class=\"data row2 col3\" >0.149719</td>\n",
       "      <td id=\"T_2efe0_row2_col4\" class=\"data row2 col4\" >0.042131</td>\n",
       "      <td id=\"T_2efe0_row2_col5\" class=\"data row2 col5\" >0.135137</td>\n",
       "      <td id=\"T_2efe0_row2_col6\" class=\"data row2 col6\" >0.193096</td>\n",
       "      <td id=\"T_2efe0_row2_col7\" class=\"data row2 col7\" >0.108899</td>\n",
       "      <td id=\"T_2efe0_row2_col8\" class=\"data row2 col8\" >-0.323971</td>\n",
       "      <td id=\"T_2efe0_row2_col9\" class=\"data row2 col9\" >0.053754</td>\n",
       "      <td id=\"T_2efe0_row2_col10\" class=\"data row2 col10\" >-0.005208</td>\n",
       "      <td id=\"T_2efe0_row2_col11\" class=\"data row2 col11\" >0.085689</td>\n",
       "    </tr>\n",
       "    <tr>\n",
       "      <th id=\"T_2efe0_level0_row3\" class=\"row_heading level0 row3\" >residual sugar</th>\n",
       "      <td id=\"T_2efe0_row3_col0\" class=\"data row3 col0\" >-0.108590</td>\n",
       "      <td id=\"T_2efe0_row3_col1\" class=\"data row3 col1\" >-0.191319</td>\n",
       "      <td id=\"T_2efe0_row3_col2\" class=\"data row3 col2\" >0.149719</td>\n",
       "      <td id=\"T_2efe0_row3_col3\" class=\"data row3 col3\" >1.000000</td>\n",
       "      <td id=\"T_2efe0_row3_col4\" class=\"data row3 col4\" >-0.122427</td>\n",
       "      <td id=\"T_2efe0_row3_col5\" class=\"data row3 col5\" >0.392783</td>\n",
       "      <td id=\"T_2efe0_row3_col6\" class=\"data row3 col6\" >0.487824</td>\n",
       "      <td id=\"T_2efe0_row3_col7\" class=\"data row3 col7\" >0.562300</td>\n",
       "      <td id=\"T_2efe0_row3_col8\" class=\"data row3 col8\" >-0.260014</td>\n",
       "      <td id=\"T_2efe0_row3_col9\" class=\"data row3 col9\" >-0.187098</td>\n",
       "      <td id=\"T_2efe0_row3_col10\" class=\"data row3 col10\" >-0.363956</td>\n",
       "      <td id=\"T_2efe0_row3_col11\" class=\"data row3 col11\" >-0.042496</td>\n",
       "    </tr>\n",
       "    <tr>\n",
       "      <th id=\"T_2efe0_level0_row4\" class=\"row_heading level0 row4\" >chlorides</th>\n",
       "      <td id=\"T_2efe0_row4_col0\" class=\"data row4 col0\" >0.302367</td>\n",
       "      <td id=\"T_2efe0_row4_col1\" class=\"data row4 col1\" >0.379585</td>\n",
       "      <td id=\"T_2efe0_row4_col2\" class=\"data row4 col2\" >0.042131</td>\n",
       "      <td id=\"T_2efe0_row4_col3\" class=\"data row4 col3\" >-0.122427</td>\n",
       "      <td id=\"T_2efe0_row4_col4\" class=\"data row4 col4\" >1.000000</td>\n",
       "      <td id=\"T_2efe0_row4_col5\" class=\"data row4 col5\" >-0.184678</td>\n",
       "      <td id=\"T_2efe0_row4_col6\" class=\"data row4 col6\" >-0.276906</td>\n",
       "      <td id=\"T_2efe0_row4_col7\" class=\"data row4 col7\" >0.367657</td>\n",
       "      <td id=\"T_2efe0_row4_col8\" class=\"data row4 col8\" >0.048923</td>\n",
       "      <td id=\"T_2efe0_row4_col9\" class=\"data row4 col9\" >0.393074</td>\n",
       "      <td id=\"T_2efe0_row4_col10\" class=\"data row4 col10\" >-0.257485</td>\n",
       "      <td id=\"T_2efe0_row4_col11\" class=\"data row4 col11\" >-0.206340</td>\n",
       "    </tr>\n",
       "    <tr>\n",
       "      <th id=\"T_2efe0_level0_row5\" class=\"row_heading level0 row5\" >free sulfur dioxide</th>\n",
       "      <td id=\"T_2efe0_row5_col0\" class=\"data row5 col0\" >-0.278315</td>\n",
       "      <td id=\"T_2efe0_row5_col1\" class=\"data row5 col1\" >-0.358097</td>\n",
       "      <td id=\"T_2efe0_row5_col2\" class=\"data row5 col2\" >0.135137</td>\n",
       "      <td id=\"T_2efe0_row5_col3\" class=\"data row5 col3\" >0.392783</td>\n",
       "      <td id=\"T_2efe0_row5_col4\" class=\"data row5 col4\" >-0.184678</td>\n",
       "      <td id=\"T_2efe0_row5_col5\" class=\"data row5 col5\" >1.000000</td>\n",
       "      <td id=\"T_2efe0_row5_col6\" class=\"data row5 col6\" >0.717238</td>\n",
       "      <td id=\"T_2efe0_row5_col7\" class=\"data row5 col7\" >0.027991</td>\n",
       "      <td id=\"T_2efe0_row5_col8\" class=\"data row5 col8\" >-0.133869</td>\n",
       "      <td id=\"T_2efe0_row5_col9\" class=\"data row5 col9\" >-0.179526</td>\n",
       "      <td id=\"T_2efe0_row5_col10\" class=\"data row5 col10\" >-0.182742</td>\n",
       "      <td id=\"T_2efe0_row5_col11\" class=\"data row5 col11\" >0.054969</td>\n",
       "    </tr>\n",
       "    <tr>\n",
       "      <th id=\"T_2efe0_level0_row6\" class=\"row_heading level0 row6\" >total sulfur dioxide</th>\n",
       "      <td id=\"T_2efe0_row6_col0\" class=\"data row6 col0\" >-0.326179</td>\n",
       "      <td id=\"T_2efe0_row6_col1\" class=\"data row6 col1\" >-0.416068</td>\n",
       "      <td id=\"T_2efe0_row6_col2\" class=\"data row6 col2\" >0.193096</td>\n",
       "      <td id=\"T_2efe0_row6_col3\" class=\"data row6 col3\" >0.487824</td>\n",
       "      <td id=\"T_2efe0_row6_col4\" class=\"data row6 col4\" >-0.276906</td>\n",
       "      <td id=\"T_2efe0_row6_col5\" class=\"data row6 col5\" >0.717238</td>\n",
       "      <td id=\"T_2efe0_row6_col6\" class=\"data row6 col6\" >1.000000</td>\n",
       "      <td id=\"T_2efe0_row6_col7\" class=\"data row6 col7\" >0.037207</td>\n",
       "      <td id=\"T_2efe0_row6_col8\" class=\"data row6 col8\" >-0.223525</td>\n",
       "      <td id=\"T_2efe0_row6_col9\" class=\"data row6 col9\" >-0.270942</td>\n",
       "      <td id=\"T_2efe0_row6_col10\" class=\"data row6 col10\" >-0.269656</td>\n",
       "      <td id=\"T_2efe0_row6_col11\" class=\"data row6 col11\" >-0.040913</td>\n",
       "    </tr>\n",
       "    <tr>\n",
       "      <th id=\"T_2efe0_level0_row7\" class=\"row_heading level0 row7\" >density</th>\n",
       "      <td id=\"T_2efe0_row7_col0\" class=\"data row7 col0\" >0.455443</td>\n",
       "      <td id=\"T_2efe0_row7_col1\" class=\"data row7 col1\" >0.267019</td>\n",
       "      <td id=\"T_2efe0_row7_col2\" class=\"data row7 col2\" >0.108899</td>\n",
       "      <td id=\"T_2efe0_row7_col3\" class=\"data row7 col3\" >0.562300</td>\n",
       "      <td id=\"T_2efe0_row7_col4\" class=\"data row7 col4\" >0.367657</td>\n",
       "      <td id=\"T_2efe0_row7_col5\" class=\"data row7 col5\" >0.027991</td>\n",
       "      <td id=\"T_2efe0_row7_col6\" class=\"data row7 col6\" >0.037207</td>\n",
       "      <td id=\"T_2efe0_row7_col7\" class=\"data row7 col7\" >1.000000</td>\n",
       "      <td id=\"T_2efe0_row7_col8\" class=\"data row7 col8\" >0.013218</td>\n",
       "      <td id=\"T_2efe0_row7_col9\" class=\"data row7 col9\" >0.252972</td>\n",
       "      <td id=\"T_2efe0_row7_col10\" class=\"data row7 col10\" >-0.681501</td>\n",
       "      <td id=\"T_2efe0_row7_col11\" class=\"data row7 col11\" >-0.303468</td>\n",
       "    </tr>\n",
       "    <tr>\n",
       "      <th id=\"T_2efe0_level0_row8\" class=\"row_heading level0 row8\" >pH</th>\n",
       "      <td id=\"T_2efe0_row8_col0\" class=\"data row8 col0\" >-0.255471</td>\n",
       "      <td id=\"T_2efe0_row8_col1\" class=\"data row8 col1\" >0.252984</td>\n",
       "      <td id=\"T_2efe0_row8_col2\" class=\"data row8 col2\" >-0.323971</td>\n",
       "      <td id=\"T_2efe0_row8_col3\" class=\"data row8 col3\" >-0.260014</td>\n",
       "      <td id=\"T_2efe0_row8_col4\" class=\"data row8 col4\" >0.048923</td>\n",
       "      <td id=\"T_2efe0_row8_col5\" class=\"data row8 col5\" >-0.133869</td>\n",
       "      <td id=\"T_2efe0_row8_col6\" class=\"data row8 col6\" >-0.223525</td>\n",
       "      <td id=\"T_2efe0_row8_col7\" class=\"data row8 col7\" >0.013218</td>\n",
       "      <td id=\"T_2efe0_row8_col8\" class=\"data row8 col8\" >1.000000</td>\n",
       "      <td id=\"T_2efe0_row8_col9\" class=\"data row8 col9\" >0.200805</td>\n",
       "      <td id=\"T_2efe0_row8_col10\" class=\"data row8 col10\" >0.118100</td>\n",
       "      <td id=\"T_2efe0_row8_col11\" class=\"data row8 col11\" >0.025246</td>\n",
       "    </tr>\n",
       "    <tr>\n",
       "      <th id=\"T_2efe0_level0_row9\" class=\"row_heading level0 row9\" >sulphates</th>\n",
       "      <td id=\"T_2efe0_row9_col0\" class=\"data row9 col0\" >0.287962</td>\n",
       "      <td id=\"T_2efe0_row9_col1\" class=\"data row9 col1\" >0.236982</td>\n",
       "      <td id=\"T_2efe0_row9_col2\" class=\"data row9 col2\" >0.053754</td>\n",
       "      <td id=\"T_2efe0_row9_col3\" class=\"data row9 col3\" >-0.187098</td>\n",
       "      <td id=\"T_2efe0_row9_col4\" class=\"data row9 col4\" >0.393074</td>\n",
       "      <td id=\"T_2efe0_row9_col5\" class=\"data row9 col5\" >-0.179526</td>\n",
       "      <td id=\"T_2efe0_row9_col6\" class=\"data row9 col6\" >-0.270942</td>\n",
       "      <td id=\"T_2efe0_row9_col7\" class=\"data row9 col7\" >0.252972</td>\n",
       "      <td id=\"T_2efe0_row9_col8\" class=\"data row9 col8\" >0.200805</td>\n",
       "      <td id=\"T_2efe0_row9_col9\" class=\"data row9 col9\" >1.000000</td>\n",
       "      <td id=\"T_2efe0_row9_col10\" class=\"data row9 col10\" >0.002440</td>\n",
       "      <td id=\"T_2efe0_row9_col11\" class=\"data row9 col11\" >0.033691</td>\n",
       "    </tr>\n",
       "    <tr>\n",
       "      <th id=\"T_2efe0_level0_row10\" class=\"row_heading level0 row10\" >alcohol</th>\n",
       "      <td id=\"T_2efe0_row10_col0\" class=\"data row10 col0\" >-0.087524</td>\n",
       "      <td id=\"T_2efe0_row10_col1\" class=\"data row10 col1\" >-0.028822</td>\n",
       "      <td id=\"T_2efe0_row10_col2\" class=\"data row10 col2\" >-0.005208</td>\n",
       "      <td id=\"T_2efe0_row10_col3\" class=\"data row10 col3\" >-0.363956</td>\n",
       "      <td id=\"T_2efe0_row10_col4\" class=\"data row10 col4\" >-0.257485</td>\n",
       "      <td id=\"T_2efe0_row10_col5\" class=\"data row10 col5\" >-0.182742</td>\n",
       "      <td id=\"T_2efe0_row10_col6\" class=\"data row10 col6\" >-0.269656</td>\n",
       "      <td id=\"T_2efe0_row10_col7\" class=\"data row10 col7\" >-0.681501</td>\n",
       "      <td id=\"T_2efe0_row10_col8\" class=\"data row10 col8\" >0.118100</td>\n",
       "      <td id=\"T_2efe0_row10_col9\" class=\"data row10 col9\" >0.002440</td>\n",
       "      <td id=\"T_2efe0_row10_col10\" class=\"data row10 col10\" >1.000000</td>\n",
       "      <td id=\"T_2efe0_row10_col11\" class=\"data row10 col11\" >0.436210</td>\n",
       "    </tr>\n",
       "    <tr>\n",
       "      <th id=\"T_2efe0_level0_row11\" class=\"row_heading level0 row11\" >quality</th>\n",
       "      <td id=\"T_2efe0_row11_col0\" class=\"data row11 col0\" >-0.075220</td>\n",
       "      <td id=\"T_2efe0_row11_col1\" class=\"data row11 col1\" >-0.255418</td>\n",
       "      <td id=\"T_2efe0_row11_col2\" class=\"data row11 col2\" >0.085689</td>\n",
       "      <td id=\"T_2efe0_row11_col3\" class=\"data row11 col3\" >-0.042496</td>\n",
       "      <td id=\"T_2efe0_row11_col4\" class=\"data row11 col4\" >-0.206340</td>\n",
       "      <td id=\"T_2efe0_row11_col5\" class=\"data row11 col5\" >0.054969</td>\n",
       "      <td id=\"T_2efe0_row11_col6\" class=\"data row11 col6\" >-0.040913</td>\n",
       "      <td id=\"T_2efe0_row11_col7\" class=\"data row11 col7\" >-0.303468</td>\n",
       "      <td id=\"T_2efe0_row11_col8\" class=\"data row11 col8\" >0.025246</td>\n",
       "      <td id=\"T_2efe0_row11_col9\" class=\"data row11 col9\" >0.033691</td>\n",
       "      <td id=\"T_2efe0_row11_col10\" class=\"data row11 col10\" >0.436210</td>\n",
       "      <td id=\"T_2efe0_row11_col11\" class=\"data row11 col11\" >1.000000</td>\n",
       "    </tr>\n",
       "  </tbody>\n",
       "</table>\n"
      ],
      "text/plain": [
       "<pandas.io.formats.style.Styler at 0x2787608e850>"
      ]
     },
     "execution_count": 150,
     "metadata": {},
     "output_type": "execute_result"
    }
   ],
   "source": [
    "wines_train_corr = copy.deepcopy(X_train)\n",
    "wines_train_corr['quality'] = copy.deepcopy(y_train)\n",
    "corr = wines_train_corr.corr()\n",
    "corr.style.background_gradient(cmap='coolwarm')"
   ]
  },
  {
   "cell_type": "markdown",
   "metadata": {},
   "source": [
    "Как видим, наиболее коррелирующие с оценками признаки - это volatile acidity, chlorides, density и alcohol."
   ]
  },
  {
   "cell_type": "code",
   "execution_count": 151,
   "metadata": {
    "colab": {
     "base_uri": "https://localhost:8080/",
     "height": 296
    },
    "id": "xZUfPQXbBbst",
    "outputId": "deba49d5-c079-40ce-f34f-9c1cf195e61a"
   },
   "outputs": [
    {
     "data": {
      "text/plain": [
       "<AxesSubplot: xlabel='volatile acidity', ylabel='quality'>"
      ]
     },
     "execution_count": 151,
     "metadata": {},
     "output_type": "execute_result"
    },
    {
     "data": {
      "image/png": "[encoded data removed]",
      "text/plain": [
       "<Figure size 640x480 with 1 Axes>"
      ]
     },
     "metadata": {},
     "output_type": "display_data"
    }
   ],
   "source": [
    "wines_train_corr.plot(x = 'volatile acidity', y = 'quality', kind=\"scatter\")"
   ]
  },
  {
   "cell_type": "code",
   "execution_count": 152,
   "metadata": {
    "colab": {
     "base_uri": "https://localhost:8080/",
     "height": 296
    },
    "id": "_kXKBHL_BzlR",
    "outputId": "c2982d87-86d2-4bbb-c363-e93d9f0c42e2"
   },
   "outputs": [
    {
     "data": {
      "text/plain": [
       "<AxesSubplot: xlabel='chlorides', ylabel='quality'>"
      ]
     },
     "execution_count": 152,
     "metadata": {},
     "output_type": "execute_result"
    },
    {
     "data": {
      "image/png": "[encoded data removed]",
      "text/plain": [
       "<Figure size 640x480 with 1 Axes>"
      ]
     },
     "metadata": {},
     "output_type": "display_data"
    }
   ],
   "source": [
    "wines_train_corr.plot(x = 'chlorides', y = 'quality', kind=\"scatter\")"
   ]
  },
  {
   "cell_type": "code",
   "execution_count": 153,
   "metadata": {
    "colab": {
     "base_uri": "https://localhost:8080/",
     "height": 296
    },
    "id": "pqCX-iPpB8nY",
    "outputId": "a5e16413-3940-42c4-bc41-bde9c3ff5cca"
   },
   "outputs": [
    {
     "data": {
      "text/plain": [
       "<AxesSubplot: xlabel='density', ylabel='quality'>"
      ]
     },
     "execution_count": 153,
     "metadata": {},
     "output_type": "execute_result"
    },
    {
     "data": {
      "image/png": "[encoded data removed]",
      "text/plain": [
       "<Figure size 640x480 with 1 Axes>"
      ]
     },
     "metadata": {},
     "output_type": "display_data"
    }
   ],
   "source": [
    "wines_train_corr.plot(x = 'density', y = 'quality', kind=\"scatter\")"
   ]
  },
  {
   "cell_type": "code",
   "execution_count": 154,
   "metadata": {
    "colab": {
     "base_uri": "https://localhost:8080/",
     "height": 296
    },
    "id": "KovsjJ1TCC2G",
    "outputId": "53c96e9d-8da3-41d3-f50d-04b3efc9567e"
   },
   "outputs": [
    {
     "data": {
      "text/plain": [
       "<AxesSubplot: xlabel='alcohol', ylabel='quality'>"
      ]
     },
     "execution_count": 154,
     "metadata": {},
     "output_type": "execute_result"
    },
    {
     "data": {
      "image/png": "[encoded data removed]",
      "text/plain": [
       "<Figure size 640x480 with 1 Axes>"
      ]
     },
     "metadata": {},
     "output_type": "display_data"
    }
   ],
   "source": [
    "wines_train_corr.plot(x = 'alcohol', y = 'quality', kind=\"scatter\")"
   ]
  },
  {
   "cell_type": "markdown",
   "metadata": {},
   "source": [
    "## Пропущенные значения"
   ]
  },
  {
   "cell_type": "code",
   "execution_count": 155,
   "metadata": {
    "colab": {
     "base_uri": "https://localhost:8080/"
    },
    "id": "LDcuyOd8Ca8U",
    "outputId": "4da0242d-77b7-47a0-92d1-64634c5f8812"
   },
   "outputs": [
    {
     "data": {
      "text/plain": [
       "type                    0\n",
       "fixed acidity           9\n",
       "volatile acidity        8\n",
       "citric acid             2\n",
       "residual sugar          1\n",
       "chlorides               2\n",
       "free sulfur dioxide     0\n",
       "total sulfur dioxide    0\n",
       "density                 0\n",
       "pH                      6\n",
       "sulphates               4\n",
       "alcohol                 0\n",
       "dtype: int64"
      ]
     },
     "execution_count": 155,
     "metadata": {},
     "output_type": "execute_result"
    }
   ],
   "source": [
    "X_train.isnull().sum()"
   ]
  },
  {
   "cell_type": "code",
   "execution_count": 156,
   "metadata": {
    "id": "HuANc5_rDrwa"
   },
   "outputs": [],
   "source": [
    "X_train[['fixed acidity', 'volatile acidity', 'citric acid', 'residual sugar', 'chlorides', 'pH', 'sulphates']] = X_train[['fixed acidity', 'volatile acidity', 'citric acid', 'residual sugar', 'chlorides', 'pH', 'sulphates']].fillna(X_train[['fixed acidity', 'volatile acidity', 'citric acid', 'residual sugar', 'chlorides', 'pH', 'sulphates']].median(axis = 0), axis=0)"
   ]
  },
  {
   "cell_type": "markdown",
   "metadata": {},
   "source": [
    "Пропущенные значения на тренировочной выборке заполняем медианой."
   ]
  },
  {
   "cell_type": "code",
   "execution_count": 66,
   "metadata": {
    "colab": {
     "base_uri": "https://localhost:8080/"
    },
    "id": "-EeGcZyvEmiq",
    "outputId": "a5021062-6c52-4f25-9128-7cd674e19a72"
   },
   "outputs": [
    {
     "data": {
      "text/plain": [
       "type                    0\n",
       "fixed acidity           0\n",
       "volatile acidity        0\n",
       "citric acid             0\n",
       "residual sugar          0\n",
       "chlorides               0\n",
       "free sulfur dioxide     0\n",
       "total sulfur dioxide    0\n",
       "density                 0\n",
       "pH                      0\n",
       "sulphates               0\n",
       "alcohol                 0\n",
       "dtype: int64"
      ]
     },
     "execution_count": 66,
     "metadata": {},
     "output_type": "execute_result"
    }
   ],
   "source": [
    "X_train.isnull().sum()"
   ]
  },
  {
   "cell_type": "code",
   "execution_count": 67,
   "metadata": {
    "colab": {
     "base_uri": "https://localhost:8080/"
    },
    "id": "PFVb83vdc6bM",
    "outputId": "c85e7675-4deb-4489-9607-f601999b9461"
   },
   "outputs": [
    {
     "data": {
      "text/plain": [
       "type                    0\n",
       "fixed acidity           1\n",
       "volatile acidity        0\n",
       "citric acid             1\n",
       "residual sugar          1\n",
       "chlorides               0\n",
       "free sulfur dioxide     0\n",
       "total sulfur dioxide    0\n",
       "density                 0\n",
       "pH                      3\n",
       "sulphates               0\n",
       "alcohol                 0\n",
       "dtype: int64"
      ]
     },
     "execution_count": 67,
     "metadata": {},
     "output_type": "execute_result"
    }
   ],
   "source": [
    "X_test.isnull().sum()"
   ]
  },
  {
   "cell_type": "code",
   "execution_count": 68,
   "metadata": {
    "id": "6hTuMXRIdTB2"
   },
   "outputs": [],
   "source": [
    "X_test.dropna(inplace=True)"
   ]
  },
  {
   "cell_type": "markdown",
   "metadata": {},
   "source": [
    "Пропущенные значения на тестовой выборке отбрасываем (для объективности последующей оценки модели)."
   ]
  },
  {
   "cell_type": "code",
   "execution_count": 69,
   "metadata": {
    "colab": {
     "base_uri": "https://localhost:8080/"
    },
    "id": "1x8nRzKIc-LF",
    "outputId": "6326c5db-20f9-4636-9255-9297d7cb037a"
   },
   "outputs": [
    {
     "data": {
      "text/plain": [
       "type                    0\n",
       "fixed acidity           0\n",
       "volatile acidity        0\n",
       "citric acid             0\n",
       "residual sugar          0\n",
       "chlorides               0\n",
       "free sulfur dioxide     0\n",
       "total sulfur dioxide    0\n",
       "density                 0\n",
       "pH                      0\n",
       "sulphates               0\n",
       "alcohol                 0\n",
       "dtype: int64"
      ]
     },
     "execution_count": 69,
     "metadata": {},
     "output_type": "execute_result"
    }
   ],
   "source": [
    "X_test.isnull().sum()"
   ]
  },
  {
   "cell_type": "code",
   "execution_count": 70,
   "metadata": {
    "id": "uwIrWv0BeQgQ"
   },
   "outputs": [],
   "source": [
    "y_test = y_test.drop(index = [i for i in y_test.index if i not in X_test.index])"
   ]
  },
  {
   "cell_type": "markdown",
   "metadata": {},
   "source": [
    "Для тестовой выборки отбрасываем значения целевого параметра, соответствующие отброшенным строкам."
   ]
  },
  {
   "cell_type": "markdown",
   "metadata": {},
   "source": [
    "## Выбросы"
   ]
  },
  {
   "cell_type": "code",
   "execution_count": 157,
   "metadata": {
    "id": "CxkTkmSeHJBM"
   },
   "outputs": [],
   "source": [
    "rows_to_drop = X_train[\n",
    "    (X_train['fixed acidity'] < X_train['fixed acidity'].quantile(0.005)) | (X_train['fixed acidity'] > X_train['fixed acidity'].quantile(0.995)) | \n",
    "    (X_train['volatile acidity'] < X_train['volatile acidity'].quantile(0.005)) | (X_train['volatile acidity'] > X_train['volatile acidity'].quantile(0.995)) | \n",
    "    (X_train['citric acid'] < X_train['citric acid'].quantile(0.005)) | (X_train['citric acid'] > X_train['citric acid'].quantile(0.995)) | \n",
    "    (X_train['residual sugar'] < X_train['residual sugar'].quantile(0.005)) | (X_train['residual sugar'] > X_train['residual sugar'].quantile(0.995)) | \n",
    "    (X_train['chlorides'] < X_train['chlorides'].quantile(0.005)) | (X_train['chlorides'] > X_train['chlorides'].quantile(0.995)) | \n",
    "    (X_train['free sulfur dioxide'] < X_train['free sulfur dioxide'].quantile(0.005)) | (X_train['free sulfur dioxide'] > X_train['free sulfur dioxide'].quantile(0.995)) | \n",
    "    (X_train['total sulfur dioxide'] < X_train['total sulfur dioxide'].quantile(0.005)) | (X_train['total sulfur dioxide'] > X_train['total sulfur dioxide'].quantile(0.995)) | \n",
    "    (X_train['density'] < X_train['density'].quantile(0.005)) | (X_train['density'] > X_train['density'].quantile(0.995)) | \n",
    "    (X_train['pH'] < X_train['pH'].quantile(0.005)) | (X_train['pH'] > X_train['pH'].quantile(0.995)) | \n",
    "    (X_train['sulphates'] < X_train['sulphates'].quantile(0.005)) | (X_train['sulphates'] > X_train['sulphates'].quantile(0.995)) | \n",
    "    (X_train['alcohol']  < X_train['alcohol'].quantile(0.005)) | (X_train['alcohol']  > X_train['alcohol'].quantile(0.995))].index\n",
    "X_train = X_train.drop(rows_to_drop)"
   ]
  },
  {
   "cell_type": "markdown",
   "metadata": {},
   "source": [
    "Удаляем выбросы."
   ]
  },
  {
   "cell_type": "code",
   "execution_count": 159,
   "metadata": {
    "id": "IIladsHPYIpK"
   },
   "outputs": [],
   "source": [
    "y_train = y_train.drop(index = [i for i in y_train.index if i not in X_train.index])"
   ]
  },
  {
   "cell_type": "markdown",
   "metadata": {},
   "source": [
    "Удаляем значения целевого параметра, соответствующие выбросам."
   ]
  },
  {
   "cell_type": "code",
   "execution_count": 160,
   "metadata": {
    "colab": {
     "base_uri": "https://localhost:8080/",
     "height": 282
    },
    "id": "4sdG-d5dItLH",
    "outputId": "58331eb3-9179-4d74-aaf2-aaaf3b16420e"
   },
   "outputs": [
    {
     "data": {
      "text/plain": [
       "<AxesSubplot: >"
      ]
     },
     "execution_count": 160,
     "metadata": {},
     "output_type": "execute_result"
    },
    {
     "data": {
      "image/png": "[encoded data removed]",
      "text/plain": [
       "<Figure size 640x480 with 1 Axes>"
      ]
     },
     "metadata": {},
     "output_type": "display_data"
    }
   ],
   "source": [
    "X_train.boxplot('alcohol')"
   ]
  },
  {
   "cell_type": "code",
   "execution_count": 161,
   "metadata": {
    "colab": {
     "base_uri": "https://localhost:8080/",
     "height": 282
    },
    "id": "tCQoAkRMO9vB",
    "outputId": "e9131f47-72b6-4307-9938-50aa43970dc6"
   },
   "outputs": [
    {
     "data": {
      "text/plain": [
       "<AxesSubplot: >"
      ]
     },
     "execution_count": 161,
     "metadata": {},
     "output_type": "execute_result"
    },
    {
     "data": {
      "image/png": "[encoded data removed]",
      "text/plain": [
       "<Figure size 640x480 with 1 Axes>"
      ]
     },
     "metadata": {},
     "output_type": "display_data"
    }
   ],
   "source": [
    "X_train.boxplot('sulphates')"
   ]
  },
  {
   "cell_type": "code",
   "execution_count": 162,
   "metadata": {
    "colab": {
     "base_uri": "https://localhost:8080/",
     "height": 282
    },
    "id": "2SpszUJoPD0v",
    "outputId": "99678c0a-476d-4e64-d9a0-90891d6cda90"
   },
   "outputs": [
    {
     "data": {
      "text/plain": [
       "<AxesSubplot: >"
      ]
     },
     "execution_count": 162,
     "metadata": {},
     "output_type": "execute_result"
    },
    {
     "data": {
      "image/png": "[encoded data removed]",
      "text/plain": [
       "<Figure size 640x480 with 1 Axes>"
      ]
     },
     "metadata": {},
     "output_type": "display_data"
    }
   ],
   "source": [
    "X_train.boxplot('pH')"
   ]
  },
  {
   "cell_type": "code",
   "execution_count": 163,
   "metadata": {
    "colab": {
     "base_uri": "https://localhost:8080/",
     "height": 282
    },
    "id": "-w_2nRwlPEYc",
    "outputId": "47bbde2e-a2ca-4765-eaca-4cc3bbf4c183"
   },
   "outputs": [
    {
     "data": {
      "text/plain": [
       "<AxesSubplot: >"
      ]
     },
     "execution_count": 163,
     "metadata": {},
     "output_type": "execute_result"
    },
    {
     "data": {
      "image/png": "[encoded data removed]",
      "text/plain": [
       "<Figure size 640x480 with 1 Axes>"
      ]
     },
     "metadata": {},
     "output_type": "display_data"
    }
   ],
   "source": [
    "X_train.boxplot('density')"
   ]
  },
  {
   "cell_type": "code",
   "execution_count": 164,
   "metadata": {
    "colab": {
     "base_uri": "https://localhost:8080/",
     "height": 282
    },
    "id": "YMbXERW6PE5g",
    "outputId": "7a7bd777-8d94-4b72-d556-a3c152a01732"
   },
   "outputs": [
    {
     "data": {
      "text/plain": [
       "<AxesSubplot: >"
      ]
     },
     "execution_count": 164,
     "metadata": {},
     "output_type": "execute_result"
    },
    {
     "data": {
      "image/png": "[encoded data removed]",
      "text/plain": [
       "<Figure size 640x480 with 1 Axes>"
      ]
     },
     "metadata": {},
     "output_type": "display_data"
    }
   ],
   "source": [
    "X_train.boxplot('total sulfur dioxide')"
   ]
  },
  {
   "cell_type": "code",
   "execution_count": 165,
   "metadata": {
    "colab": {
     "base_uri": "https://localhost:8080/",
     "height": 282
    },
    "id": "lqCLjjKHPFZP",
    "outputId": "cbc9b538-4966-45fa-cc58-eda176d7b114"
   },
   "outputs": [
    {
     "data": {
      "text/plain": [
       "<AxesSubplot: >"
      ]
     },
     "execution_count": 165,
     "metadata": {},
     "output_type": "execute_result"
    },
    {
     "data": {
      "image/png": "[encoded data removed]",
      "text/plain": [
       "<Figure size 640x480 with 1 Axes>"
      ]
     },
     "metadata": {},
     "output_type": "display_data"
    }
   ],
   "source": [
    "X_train.boxplot('free sulfur dioxide')"
   ]
  },
  {
   "cell_type": "code",
   "execution_count": 166,
   "metadata": {
    "colab": {
     "base_uri": "https://localhost:8080/",
     "height": 282
    },
    "id": "7QyLTRTpPHvW",
    "outputId": "77762ab1-3560-43c9-d143-59b80ac84756"
   },
   "outputs": [
    {
     "data": {
      "text/plain": [
       "<AxesSubplot: >"
      ]
     },
     "execution_count": 166,
     "metadata": {},
     "output_type": "execute_result"
    },
    {
     "data": {
      "image/png": "[encoded data removed]",
      "text/plain": [
       "<Figure size 640x480 with 1 Axes>"
      ]
     },
     "metadata": {},
     "output_type": "display_data"
    }
   ],
   "source": [
    "X_train.boxplot('chlorides')"
   ]
  },
  {
   "cell_type": "code",
   "execution_count": 167,
   "metadata": {
    "colab": {
     "base_uri": "https://localhost:8080/",
     "height": 285
    },
    "id": "cyt-xN0vPF_H",
    "outputId": "70852969-0111-44ea-e6a8-2bcb44779d78"
   },
   "outputs": [
    {
     "data": {
      "text/plain": [
       "<AxesSubplot: >"
      ]
     },
     "execution_count": 167,
     "metadata": {},
     "output_type": "execute_result"
    },
    {
     "data": {
      "image/png": "[encoded data removed]",
      "text/plain": [
       "<Figure size 640x480 with 1 Axes>"
      ]
     },
     "metadata": {},
     "output_type": "display_data"
    }
   ],
   "source": [
    "X_train.boxplot('residual sugar')"
   ]
  },
  {
   "cell_type": "code",
   "execution_count": 168,
   "metadata": {
    "colab": {
     "base_uri": "https://localhost:8080/",
     "height": 282
    },
    "id": "vHKph1rdPGXJ",
    "outputId": "9753d58f-475b-41a9-d870-6322f19e073b"
   },
   "outputs": [
    {
     "data": {
      "text/plain": [
       "<AxesSubplot: >"
      ]
     },
     "execution_count": 168,
     "metadata": {},
     "output_type": "execute_result"
    },
    {
     "data": {
      "image/png": "[encoded data removed]",
      "text/plain": [
       "<Figure size 640x480 with 1 Axes>"
      ]
     },
     "metadata": {},
     "output_type": "display_data"
    }
   ],
   "source": [
    "X_train.boxplot('citric acid')"
   ]
  },
  {
   "cell_type": "code",
   "execution_count": 169,
   "metadata": {
    "colab": {
     "base_uri": "https://localhost:8080/",
     "height": 286
    },
    "id": "Eut5XucJPGrU",
    "outputId": "2666b16f-bafd-46bf-b144-fafffe8578e7"
   },
   "outputs": [
    {
     "data": {
      "text/plain": [
       "<AxesSubplot: >"
      ]
     },
     "execution_count": 169,
     "metadata": {},
     "output_type": "execute_result"
    },
    {
     "data": {
      "image/png": "[encoded data removed]",
      "text/plain": [
       "<Figure size 640x480 with 1 Axes>"
      ]
     },
     "metadata": {},
     "output_type": "display_data"
    }
   ],
   "source": [
    "X_train.boxplot('volatile acidity')"
   ]
  },
  {
   "cell_type": "code",
   "execution_count": 170,
   "metadata": {
    "colab": {
     "base_uri": "https://localhost:8080/",
     "height": 282
    },
    "id": "0RYm3V7QPHLh",
    "outputId": "3a26fe5c-5b7f-415b-ee65-aab3a038c1cd"
   },
   "outputs": [
    {
     "data": {
      "text/plain": [
       "<AxesSubplot: >"
      ]
     },
     "execution_count": 170,
     "metadata": {},
     "output_type": "execute_result"
    },
    {
     "data": {
      "image/png": "[encoded data removed]",
      "text/plain": [
       "<Figure size 640x480 with 1 Axes>"
      ]
     },
     "metadata": {},
     "output_type": "display_data"
    }
   ],
   "source": [
    "X_train.boxplot('fixed acidity')"
   ]
  },
  {
   "cell_type": "markdown",
   "metadata": {},
   "source": [
    "## Корреляции x2"
   ]
  },
  {
   "cell_type": "code",
   "execution_count": 171,
   "metadata": {
    "colab": {
     "base_uri": "https://localhost:8080/",
     "height": 547
    },
    "id": "99q2gjCcVLdR",
    "outputId": "8d5bb927-d4f6-4cd4-b4f9-5638284cff60"
   },
   "outputs": [
    {
     "name": "stderr",
     "output_type": "stream",
     "text": [
      "C:\\Users\\mozg2\\AppData\\Local\\Temp\\ipykernel_16372\\2171886145.py:3: FutureWarning: The default value of numeric_only in DataFrame.corr is deprecated. In a future version, it will default to False. Select only valid columns or specify the value of numeric_only to silence this warning.\n",
      "  corr = wines_train_corr.corr()\n"
     ]
    },
    {
     "data": {
      "text/html": [
       "<style type=\"text/css\">\n",
       "#T_ed753_row0_col0, #T_ed753_row1_col1, #T_ed753_row2_col2, #T_ed753_row3_col3, #T_ed753_row4_col4, #T_ed753_row5_col5, #T_ed753_row6_col6, #T_ed753_row7_col7, #T_ed753_row8_col8, #T_ed753_row9_col9, #T_ed753_row10_col10, #T_ed753_row11_col11 {\n",
       "  background-color: #b40426;\n",
       "  color: #f1f1f1;\n",
       "}\n",
       "#T_ed753_row0_col1, #T_ed753_row8_col10, #T_ed753_row9_col0 {\n",
       "  background-color: #d5dbe5;\n",
       "  color: #000000;\n",
       "}\n",
       "#T_ed753_row0_col2 {\n",
       "  background-color: #dddcdc;\n",
       "  color: #000000;\n",
       "}\n",
       "#T_ed753_row0_col3 {\n",
       "  background-color: #7597f6;\n",
       "  color: #f1f1f1;\n",
       "}\n",
       "#T_ed753_row0_col4 {\n",
       "  background-color: #e0dbd8;\n",
       "  color: #000000;\n",
       "}\n",
       "#T_ed753_row0_col5, #T_ed753_row8_col2 {\n",
       "  background-color: #4c66d6;\n",
       "  color: #f1f1f1;\n",
       "}\n",
       "#T_ed753_row0_col6, #T_ed753_row4_col6 {\n",
       "  background-color: #4f69d9;\n",
       "  color: #f1f1f1;\n",
       "}\n",
       "#T_ed753_row0_col7 {\n",
       "  background-color: #f7b79b;\n",
       "  color: #000000;\n",
       "}\n",
       "#T_ed753_row0_col8, #T_ed753_row5_col4, #T_ed753_row11_col4 {\n",
       "  background-color: #536edd;\n",
       "  color: #f1f1f1;\n",
       "}\n",
       "#T_ed753_row0_col9, #T_ed753_row2_col6, #T_ed753_row2_col7 {\n",
       "  background-color: #d1dae9;\n",
       "  color: #000000;\n",
       "}\n",
       "#T_ed753_row0_col10 {\n",
       "  background-color: #b9d0f9;\n",
       "  color: #000000;\n",
       "}\n",
       "#T_ed753_row0_col11 {\n",
       "  background-color: #7699f6;\n",
       "  color: #f1f1f1;\n",
       "}\n",
       "#T_ed753_row1_col0, #T_ed753_row9_col10 {\n",
       "  background-color: #cad8ef;\n",
       "  color: #000000;\n",
       "}\n",
       "#T_ed753_row1_col2, #T_ed753_row1_col5, #T_ed753_row1_col6, #T_ed753_row2_col8, #T_ed753_row6_col0, #T_ed753_row6_col1, #T_ed753_row6_col4, #T_ed753_row6_col9, #T_ed753_row7_col10, #T_ed753_row7_col11, #T_ed753_row10_col3, #T_ed753_row10_col7 {\n",
       "  background-color: #3b4cc0;\n",
       "  color: #f1f1f1;\n",
       "}\n",
       "#T_ed753_row1_col3, #T_ed753_row9_col5 {\n",
       "  background-color: #6282ea;\n",
       "  color: #f1f1f1;\n",
       "}\n",
       "#T_ed753_row1_col4, #T_ed753_row7_col4 {\n",
       "  background-color: #f0cdbb;\n",
       "  color: #000000;\n",
       "}\n",
       "#T_ed753_row1_col7, #T_ed753_row7_col0 {\n",
       "  background-color: #eed0c0;\n",
       "  color: #000000;\n",
       "}\n",
       "#T_ed753_row1_col8 {\n",
       "  background-color: #cedaeb;\n",
       "  color: #000000;\n",
       "}\n",
       "#T_ed753_row1_col9, #T_ed753_row5_col2 {\n",
       "  background-color: #c3d5f4;\n",
       "  color: #000000;\n",
       "}\n",
       "#T_ed753_row1_col10, #T_ed753_row2_col5, #T_ed753_row3_col2 {\n",
       "  background-color: #bed2f6;\n",
       "  color: #000000;\n",
       "}\n",
       "#T_ed753_row1_col11, #T_ed753_row6_col8 {\n",
       "  background-color: #4a63d3;\n",
       "  color: #f1f1f1;\n",
       "}\n",
       "#T_ed753_row2_col0, #T_ed753_row9_col4 {\n",
       "  background-color: #d6dce4;\n",
       "  color: #000000;\n",
       "}\n",
       "#T_ed753_row2_col1 {\n",
       "  background-color: #3f53c6;\n",
       "  color: #f1f1f1;\n",
       "}\n",
       "#T_ed753_row2_col3 {\n",
       "  background-color: #bbd1f8;\n",
       "  color: #000000;\n",
       "}\n",
       "#T_ed753_row2_col4, #T_ed753_row10_col0 {\n",
       "  background-color: #7a9df8;\n",
       "  color: #f1f1f1;\n",
       "}\n",
       "#T_ed753_row2_col9, #T_ed753_row11_col8 {\n",
       "  background-color: #8db0fe;\n",
       "  color: #000000;\n",
       "}\n",
       "#T_ed753_row2_col10 {\n",
       "  background-color: #c7d7f0;\n",
       "  color: #000000;\n",
       "}\n",
       "#T_ed753_row2_col11, #T_ed753_row5_col10, #T_ed753_row9_col2 {\n",
       "  background-color: #a1c0ff;\n",
       "  color: #000000;\n",
       "}\n",
       "#T_ed753_row3_col0 {\n",
       "  background-color: #6a8bef;\n",
       "  color: #f1f1f1;\n",
       "}\n",
       "#T_ed753_row3_col1 {\n",
       "  background-color: #6c8ff1;\n",
       "  color: #f1f1f1;\n",
       "}\n",
       "#T_ed753_row3_col4 {\n",
       "  background-color: #6687ed;\n",
       "  color: #f1f1f1;\n",
       "}\n",
       "#T_ed753_row3_col5 {\n",
       "  background-color: #efcebd;\n",
       "  color: #000000;\n",
       "}\n",
       "#T_ed753_row3_col6 {\n",
       "  background-color: #f7bca1;\n",
       "  color: #000000;\n",
       "}\n",
       "#T_ed753_row3_col7 {\n",
       "  background-color: #f59f80;\n",
       "  color: #000000;\n",
       "}\n",
       "#T_ed753_row3_col8, #T_ed753_row5_col0 {\n",
       "  background-color: #455cce;\n",
       "  color: #f1f1f1;\n",
       "}\n",
       "#T_ed753_row3_col9 {\n",
       "  background-color: #516ddb;\n",
       "  color: #f1f1f1;\n",
       "}\n",
       "#T_ed753_row3_col10 {\n",
       "  background-color: #799cf8;\n",
       "  color: #f1f1f1;\n",
       "}\n",
       "#T_ed753_row3_col11 {\n",
       "  background-color: #7da0f9;\n",
       "  color: #f1f1f1;\n",
       "}\n",
       "#T_ed753_row4_col0 {\n",
       "  background-color: #e1dad6;\n",
       "  color: #000000;\n",
       "}\n",
       "#T_ed753_row4_col1 {\n",
       "  background-color: #f3c7b1;\n",
       "  color: #000000;\n",
       "}\n",
       "#T_ed753_row4_col2, #T_ed753_row11_col7 {\n",
       "  background-color: #88abfd;\n",
       "  color: #000000;\n",
       "}\n",
       "#T_ed753_row4_col3 {\n",
       "  background-color: #7093f3;\n",
       "  color: #f1f1f1;\n",
       "}\n",
       "#T_ed753_row4_col5 {\n",
       "  background-color: #5a78e4;\n",
       "  color: #f1f1f1;\n",
       "}\n",
       "#T_ed753_row4_col7 {\n",
       "  background-color: #f7b497;\n",
       "  color: #000000;\n",
       "}\n",
       "#T_ed753_row4_col8 {\n",
       "  background-color: #aec9fc;\n",
       "  color: #000000;\n",
       "}\n",
       "#T_ed753_row4_col9, #T_ed753_row9_col1 {\n",
       "  background-color: #d3dbe7;\n",
       "  color: #000000;\n",
       "}\n",
       "#T_ed753_row4_col10 {\n",
       "  background-color: #8badfd;\n",
       "  color: #000000;\n",
       "}\n",
       "#T_ed753_row4_col11 {\n",
       "  background-color: #4e68d8;\n",
       "  color: #f1f1f1;\n",
       "}\n",
       "#T_ed753_row5_col1 {\n",
       "  background-color: #485fd1;\n",
       "  color: #f1f1f1;\n",
       "}\n",
       "#T_ed753_row5_col3 {\n",
       "  background-color: #f1cdba;\n",
       "  color: #000000;\n",
       "}\n",
       "#T_ed753_row5_col6 {\n",
       "  background-color: #ec8165;\n",
       "  color: #f1f1f1;\n",
       "}\n",
       "#T_ed753_row5_col7, #T_ed753_row6_col2, #T_ed753_row8_col7 {\n",
       "  background-color: #cdd9ec;\n",
       "  color: #000000;\n",
       "}\n",
       "#T_ed753_row5_col8 {\n",
       "  background-color: #5f7fe8;\n",
       "  color: #f1f1f1;\n",
       "}\n",
       "#T_ed753_row5_col9, #T_ed753_row8_col3 {\n",
       "  background-color: #5470de;\n",
       "  color: #f1f1f1;\n",
       "}\n",
       "#T_ed753_row5_col11, #T_ed753_row10_col2 {\n",
       "  background-color: #9dbdff;\n",
       "  color: #000000;\n",
       "}\n",
       "#T_ed753_row6_col3 {\n",
       "  background-color: #f6bfa6;\n",
       "  color: #000000;\n",
       "}\n",
       "#T_ed753_row6_col5 {\n",
       "  background-color: #ee8468;\n",
       "  color: #f1f1f1;\n",
       "}\n",
       "#T_ed753_row6_col7 {\n",
       "  background-color: #ccd9ed;\n",
       "  color: #000000;\n",
       "}\n",
       "#T_ed753_row6_col10 {\n",
       "  background-color: #8fb1fe;\n",
       "  color: #000000;\n",
       "}\n",
       "#T_ed753_row6_col11 {\n",
       "  background-color: #7ea1fa;\n",
       "  color: #f1f1f1;\n",
       "}\n",
       "#T_ed753_row7_col1 {\n",
       "  background-color: #dbdcde;\n",
       "  color: #000000;\n",
       "}\n",
       "#T_ed753_row7_col2 {\n",
       "  background-color: #abc8fd;\n",
       "  color: #000000;\n",
       "}\n",
       "#T_ed753_row7_col3, #T_ed753_row11_col10 {\n",
       "  background-color: #f7b599;\n",
       "  color: #000000;\n",
       "}\n",
       "#T_ed753_row7_col5 {\n",
       "  background-color: #9fbfff;\n",
       "  color: #000000;\n",
       "}\n",
       "#T_ed753_row7_col6 {\n",
       "  background-color: #a9c6fd;\n",
       "  color: #000000;\n",
       "}\n",
       "#T_ed753_row7_col8, #T_ed753_row9_col11, #T_ed753_row11_col6 {\n",
       "  background-color: #96b7ff;\n",
       "  color: #000000;\n",
       "}\n",
       "#T_ed753_row7_col9 {\n",
       "  background-color: #c6d6f1;\n",
       "  color: #000000;\n",
       "}\n",
       "#T_ed753_row8_col0, #T_ed753_row9_col6 {\n",
       "  background-color: #5673e0;\n",
       "  color: #f1f1f1;\n",
       "}\n",
       "#T_ed753_row8_col1 {\n",
       "  background-color: #dadce0;\n",
       "  color: #000000;\n",
       "}\n",
       "#T_ed753_row8_col4, #T_ed753_row11_col2 {\n",
       "  background-color: #b1cbfc;\n",
       "  color: #000000;\n",
       "}\n",
       "#T_ed753_row8_col5 {\n",
       "  background-color: #6b8df0;\n",
       "  color: #f1f1f1;\n",
       "}\n",
       "#T_ed753_row8_col6, #T_ed753_row10_col5, #T_ed753_row11_col1 {\n",
       "  background-color: #6384eb;\n",
       "  color: #f1f1f1;\n",
       "}\n",
       "#T_ed753_row8_col9 {\n",
       "  background-color: #c9d7f0;\n",
       "  color: #000000;\n",
       "}\n",
       "#T_ed753_row8_col11, #T_ed753_row10_col9, #T_ed753_row11_col3 {\n",
       "  background-color: #8caffe;\n",
       "  color: #000000;\n",
       "}\n",
       "#T_ed753_row9_col3 {\n",
       "  background-color: #6485ec;\n",
       "  color: #f1f1f1;\n",
       "}\n",
       "#T_ed753_row9_col7 {\n",
       "  background-color: #ebd3c6;\n",
       "  color: #000000;\n",
       "}\n",
       "#T_ed753_row9_col8 {\n",
       "  background-color: #cbd8ee;\n",
       "  color: #000000;\n",
       "}\n",
       "#T_ed753_row10_col1 {\n",
       "  background-color: #94b6ff;\n",
       "  color: #000000;\n",
       "}\n",
       "#T_ed753_row10_col4 {\n",
       "  background-color: #4358cb;\n",
       "  color: #f1f1f1;\n",
       "}\n",
       "#T_ed753_row10_col6 {\n",
       "  background-color: #5b7ae5;\n",
       "  color: #f1f1f1;\n",
       "}\n",
       "#T_ed753_row10_col8 {\n",
       "  background-color: #a2c1ff;\n",
       "  color: #000000;\n",
       "}\n",
       "#T_ed753_row10_col11 {\n",
       "  background-color: #edd1c2;\n",
       "  color: #000000;\n",
       "}\n",
       "#T_ed753_row11_col0 {\n",
       "  background-color: #7b9ff9;\n",
       "  color: #f1f1f1;\n",
       "}\n",
       "#T_ed753_row11_col5 {\n",
       "  background-color: #a7c5fe;\n",
       "  color: #000000;\n",
       "}\n",
       "#T_ed753_row11_col9 {\n",
       "  background-color: #93b5fe;\n",
       "  color: #000000;\n",
       "}\n",
       "</style>\n",
       "<table id=\"T_ed753\">\n",
       "  <thead>\n",
       "    <tr>\n",
       "      <th class=\"blank level0\" >&nbsp;</th>\n",
       "      <th id=\"T_ed753_level0_col0\" class=\"col_heading level0 col0\" >fixed acidity</th>\n",
       "      <th id=\"T_ed753_level0_col1\" class=\"col_heading level0 col1\" >volatile acidity</th>\n",
       "      <th id=\"T_ed753_level0_col2\" class=\"col_heading level0 col2\" >citric acid</th>\n",
       "      <th id=\"T_ed753_level0_col3\" class=\"col_heading level0 col3\" >residual sugar</th>\n",
       "      <th id=\"T_ed753_level0_col4\" class=\"col_heading level0 col4\" >chlorides</th>\n",
       "      <th id=\"T_ed753_level0_col5\" class=\"col_heading level0 col5\" >free sulfur dioxide</th>\n",
       "      <th id=\"T_ed753_level0_col6\" class=\"col_heading level0 col6\" >total sulfur dioxide</th>\n",
       "      <th id=\"T_ed753_level0_col7\" class=\"col_heading level0 col7\" >density</th>\n",
       "      <th id=\"T_ed753_level0_col8\" class=\"col_heading level0 col8\" >pH</th>\n",
       "      <th id=\"T_ed753_level0_col9\" class=\"col_heading level0 col9\" >sulphates</th>\n",
       "      <th id=\"T_ed753_level0_col10\" class=\"col_heading level0 col10\" >alcohol</th>\n",
       "      <th id=\"T_ed753_level0_col11\" class=\"col_heading level0 col11\" >quality</th>\n",
       "    </tr>\n",
       "  </thead>\n",
       "  <tbody>\n",
       "    <tr>\n",
       "      <th id=\"T_ed753_level0_row0\" class=\"row_heading level0 row0\" >fixed acidity</th>\n",
       "      <td id=\"T_ed753_row0_col0\" class=\"data row0 col0\" >1.000000</td>\n",
       "      <td id=\"T_ed753_row0_col1\" class=\"data row0 col1\" >0.239161</td>\n",
       "      <td id=\"T_ed753_row0_col2\" class=\"data row0 col2\" >0.298910</td>\n",
       "      <td id=\"T_ed753_row0_col3\" class=\"data row0 col3\" >-0.132778</td>\n",
       "      <td id=\"T_ed753_row0_col4\" class=\"data row0 col4\" >0.353389</td>\n",
       "      <td id=\"T_ed753_row0_col5\" class=\"data row0 col5\" >-0.286390</td>\n",
       "      <td id=\"T_ed753_row0_col6\" class=\"data row0 col6\" >-0.335171</td>\n",
       "      <td id=\"T_ed753_row0_col7\" class=\"data row0 col7\" >0.434032</td>\n",
       "      <td id=\"T_ed753_row0_col8\" class=\"data row0 col8\" >-0.214295</td>\n",
       "      <td id=\"T_ed753_row0_col9\" class=\"data row0 col9\" >0.292170</td>\n",
       "      <td id=\"T_ed753_row0_col10\" class=\"data row0 col10\" >-0.071354</td>\n",
       "      <td id=\"T_ed753_row0_col11\" class=\"data row0 col11\" >-0.067105</td>\n",
       "    </tr>\n",
       "    <tr>\n",
       "      <th id=\"T_ed753_level0_row1\" class=\"row_heading level0 row1\" >volatile acidity</th>\n",
       "      <td id=\"T_ed753_row1_col0\" class=\"data row1 col0\" >0.239161</td>\n",
       "      <td id=\"T_ed753_row1_col1\" class=\"data row1 col1\" >1.000000</td>\n",
       "      <td id=\"T_ed753_row1_col2\" class=\"data row1 col2\" >-0.406297</td>\n",
       "      <td id=\"T_ed753_row1_col3\" class=\"data row1 col3\" >-0.209097</td>\n",
       "      <td id=\"T_ed753_row1_col4\" class=\"data row1 col4\" >0.450234</td>\n",
       "      <td id=\"T_ed753_row1_col5\" class=\"data row1 col5\" >-0.367987</td>\n",
       "      <td id=\"T_ed753_row1_col6\" class=\"data row1 col6\" >-0.434298</td>\n",
       "      <td id=\"T_ed753_row1_col7\" class=\"data row1 col7\" >0.275123</td>\n",
       "      <td id=\"T_ed753_row1_col8\" class=\"data row1 col8\" >0.270647</td>\n",
       "      <td id=\"T_ed753_row1_col9\" class=\"data row1 col9\" >0.228668</td>\n",
       "      <td id=\"T_ed753_row1_col10\" class=\"data row1 col10\" >-0.045024</td>\n",
       "      <td id=\"T_ed753_row1_col11\" class=\"data row1 col11\" >-0.244377</td>\n",
       "    </tr>\n",
       "    <tr>\n",
       "      <th id=\"T_ed753_level0_row2\" class=\"row_heading level0 row2\" >citric acid</th>\n",
       "      <td id=\"T_ed753_row2_col0\" class=\"data row2 col0\" >0.298910</td>\n",
       "      <td id=\"T_ed753_row2_col1\" class=\"data row2 col1\" >-0.406297</td>\n",
       "      <td id=\"T_ed753_row2_col2\" class=\"data row2 col2\" >1.000000</td>\n",
       "      <td id=\"T_ed753_row2_col3\" class=\"data row2 col3\" >0.146674</td>\n",
       "      <td id=\"T_ed753_row2_col4\" class=\"data row2 col4\" >-0.072437</td>\n",
       "      <td id=\"T_ed753_row2_col5\" class=\"data row2 col5\" >0.167498</td>\n",
       "      <td id=\"T_ed753_row2_col6\" class=\"data row2 col6\" >0.218664</td>\n",
       "      <td id=\"T_ed753_row2_col7\" class=\"data row2 col7\" >0.068108</td>\n",
       "      <td id=\"T_ed753_row2_col8\" class=\"data row2 col8\" >-0.318946</td>\n",
       "      <td id=\"T_ed753_row2_col9\" class=\"data row2 col9\" >0.026386</td>\n",
       "      <td id=\"T_ed753_row2_col10\" class=\"data row2 col10\" >0.008283</td>\n",
       "      <td id=\"T_ed753_row2_col11\" class=\"data row2 col11\" >0.089002</td>\n",
       "    </tr>\n",
       "    <tr>\n",
       "      <th id=\"T_ed753_level0_row3\" class=\"row_heading level0 row3\" >residual sugar</th>\n",
       "      <td id=\"T_ed753_row3_col0\" class=\"data row3 col0\" >-0.132778</td>\n",
       "      <td id=\"T_ed753_row3_col1\" class=\"data row3 col1\" >-0.209097</td>\n",
       "      <td id=\"T_ed753_row3_col2\" class=\"data row3 col2\" >0.146674</td>\n",
       "      <td id=\"T_ed753_row3_col3\" class=\"data row3 col3\" >1.000000</td>\n",
       "      <td id=\"T_ed753_row3_col4\" class=\"data row3 col4\" >-0.149929</td>\n",
       "      <td id=\"T_ed753_row3_col5\" class=\"data row3 col5\" >0.432273</td>\n",
       "      <td id=\"T_ed753_row3_col6\" class=\"data row3 col6\" >0.501905</td>\n",
       "      <td id=\"T_ed753_row3_col7\" class=\"data row3 col7\" >0.547698</td>\n",
       "      <td id=\"T_ed753_row3_col8\" class=\"data row3 col8\" >-0.271779</td>\n",
       "      <td id=\"T_ed753_row3_col9\" class=\"data row3 col9\" >-0.200175</td>\n",
       "      <td id=\"T_ed753_row3_col10\" class=\"data row3 col10\" >-0.386988</td>\n",
       "      <td id=\"T_ed753_row3_col11\" class=\"data row3 col11\" >-0.045084</td>\n",
       "    </tr>\n",
       "    <tr>\n",
       "      <th id=\"T_ed753_level0_row4\" class=\"row_heading level0 row4\" >chlorides</th>\n",
       "      <td id=\"T_ed753_row4_col0\" class=\"data row4 col0\" >0.353389</td>\n",
       "      <td id=\"T_ed753_row4_col1\" class=\"data row4 col1\" >0.450234</td>\n",
       "      <td id=\"T_ed753_row4_col2\" class=\"data row4 col2\" >-0.072437</td>\n",
       "      <td id=\"T_ed753_row4_col3\" class=\"data row4 col3\" >-0.149929</td>\n",
       "      <td id=\"T_ed753_row4_col4\" class=\"data row4 col4\" >1.000000</td>\n",
       "      <td id=\"T_ed753_row4_col5\" class=\"data row4 col5\" >-0.227208</td>\n",
       "      <td id=\"T_ed753_row4_col6\" class=\"data row4 col6\" >-0.333984</td>\n",
       "      <td id=\"T_ed753_row4_col7\" class=\"data row4 col7\" >0.447968</td>\n",
       "      <td id=\"T_ed753_row4_col8\" class=\"data row4 col8\" >0.137129</td>\n",
       "      <td id=\"T_ed753_row4_col9\" class=\"data row4 col9\" >0.300896</td>\n",
       "      <td id=\"T_ed753_row4_col10\" class=\"data row4 col10\" >-0.297217</td>\n",
       "      <td id=\"T_ed753_row4_col11\" class=\"data row4 col11\" >-0.225183</td>\n",
       "    </tr>\n",
       "    <tr>\n",
       "      <th id=\"T_ed753_level0_row5\" class=\"row_heading level0 row5\" >free sulfur dioxide</th>\n",
       "      <td id=\"T_ed753_row5_col0\" class=\"data row5 col0\" >-0.286390</td>\n",
       "      <td id=\"T_ed753_row5_col1\" class=\"data row5 col1\" >-0.367987</td>\n",
       "      <td id=\"T_ed753_row5_col2\" class=\"data row5 col2\" >0.167498</td>\n",
       "      <td id=\"T_ed753_row5_col3\" class=\"data row5 col3\" >0.432273</td>\n",
       "      <td id=\"T_ed753_row5_col4\" class=\"data row5 col4\" >-0.227208</td>\n",
       "      <td id=\"T_ed753_row5_col5\" class=\"data row5 col5\" >1.000000</td>\n",
       "      <td id=\"T_ed753_row5_col6\" class=\"data row5 col6\" >0.722976</td>\n",
       "      <td id=\"T_ed753_row5_col7\" class=\"data row5 col7\" >0.047767</td>\n",
       "      <td id=\"T_ed753_row5_col8\" class=\"data row5 col8\" >-0.159424</td>\n",
       "      <td id=\"T_ed753_row5_col9\" class=\"data row5 col9\" >-0.193639</td>\n",
       "      <td id=\"T_ed753_row5_col10\" class=\"data row5 col10\" >-0.190831</td>\n",
       "      <td id=\"T_ed753_row5_col11\" class=\"data row5 col11\" >0.077299</td>\n",
       "    </tr>\n",
       "    <tr>\n",
       "      <th id=\"T_ed753_level0_row6\" class=\"row_heading level0 row6\" >total sulfur dioxide</th>\n",
       "      <td id=\"T_ed753_row6_col0\" class=\"data row6 col0\" >-0.335171</td>\n",
       "      <td id=\"T_ed753_row6_col1\" class=\"data row6 col1\" >-0.434298</td>\n",
       "      <td id=\"T_ed753_row6_col2\" class=\"data row6 col2\" >0.218664</td>\n",
       "      <td id=\"T_ed753_row6_col3\" class=\"data row6 col3\" >0.501905</td>\n",
       "      <td id=\"T_ed753_row6_col4\" class=\"data row6 col4\" >-0.333984</td>\n",
       "      <td id=\"T_ed753_row6_col5\" class=\"data row6 col5\" >0.722976</td>\n",
       "      <td id=\"T_ed753_row6_col6\" class=\"data row6 col6\" >1.000000</td>\n",
       "      <td id=\"T_ed753_row6_col7\" class=\"data row6 col7\" >0.036981</td>\n",
       "      <td id=\"T_ed753_row6_col8\" class=\"data row6 col8\" >-0.249073</td>\n",
       "      <td id=\"T_ed753_row6_col9\" class=\"data row6 col9\" >-0.301351</td>\n",
       "      <td id=\"T_ed753_row6_col10\" class=\"data row6 col10\" >-0.277706</td>\n",
       "      <td id=\"T_ed753_row6_col11\" class=\"data row6 col11\" >-0.037163</td>\n",
       "    </tr>\n",
       "    <tr>\n",
       "      <th id=\"T_ed753_level0_row7\" class=\"row_heading level0 row7\" >density</th>\n",
       "      <td id=\"T_ed753_row7_col0\" class=\"data row7 col0\" >0.434032</td>\n",
       "      <td id=\"T_ed753_row7_col1\" class=\"data row7 col1\" >0.275123</td>\n",
       "      <td id=\"T_ed753_row7_col2\" class=\"data row7 col2\" >0.068108</td>\n",
       "      <td id=\"T_ed753_row7_col3\" class=\"data row7 col3\" >0.547698</td>\n",
       "      <td id=\"T_ed753_row7_col4\" class=\"data row7 col4\" >0.447968</td>\n",
       "      <td id=\"T_ed753_row7_col5\" class=\"data row7 col5\" >0.047767</td>\n",
       "      <td id=\"T_ed753_row7_col6\" class=\"data row7 col6\" >0.036981</td>\n",
       "      <td id=\"T_ed753_row7_col7\" class=\"data row7 col7\" >1.000000</td>\n",
       "      <td id=\"T_ed753_row7_col8\" class=\"data row7 col8\" >0.046180</td>\n",
       "      <td id=\"T_ed753_row7_col9\" class=\"data row7 col9\" >0.247448</td>\n",
       "      <td id=\"T_ed753_row7_col10\" class=\"data row7 col10\" >-0.716078</td>\n",
       "      <td id=\"T_ed753_row7_col11\" class=\"data row7 col11\" >-0.312008</td>\n",
       "    </tr>\n",
       "    <tr>\n",
       "      <th id=\"T_ed753_level0_row8\" class=\"row_heading level0 row8\" >pH</th>\n",
       "      <td id=\"T_ed753_row8_col0\" class=\"data row8 col0\" >-0.214295</td>\n",
       "      <td id=\"T_ed753_row8_col1\" class=\"data row8 col1\" >0.270647</td>\n",
       "      <td id=\"T_ed753_row8_col2\" class=\"data row8 col2\" >-0.318946</td>\n",
       "      <td id=\"T_ed753_row8_col3\" class=\"data row8 col3\" >-0.271779</td>\n",
       "      <td id=\"T_ed753_row8_col4\" class=\"data row8 col4\" >0.137129</td>\n",
       "      <td id=\"T_ed753_row8_col5\" class=\"data row8 col5\" >-0.159424</td>\n",
       "      <td id=\"T_ed753_row8_col6\" class=\"data row8 col6\" >-0.249073</td>\n",
       "      <td id=\"T_ed753_row8_col7\" class=\"data row8 col7\" >0.046180</td>\n",
       "      <td id=\"T_ed753_row8_col8\" class=\"data row8 col8\" >1.000000</td>\n",
       "      <td id=\"T_ed753_row8_col9\" class=\"data row8 col9\" >0.255200</td>\n",
       "      <td id=\"T_ed753_row8_col10\" class=\"data row8 col10\" >0.091582</td>\n",
       "      <td id=\"T_ed753_row8_col11\" class=\"data row8 col11\" >0.012768</td>\n",
       "    </tr>\n",
       "    <tr>\n",
       "      <th id=\"T_ed753_level0_row9\" class=\"row_heading level0 row9\" >sulphates</th>\n",
       "      <td id=\"T_ed753_row9_col0\" class=\"data row9 col0\" >0.292170</td>\n",
       "      <td id=\"T_ed753_row9_col1\" class=\"data row9 col1\" >0.228668</td>\n",
       "      <td id=\"T_ed753_row9_col2\" class=\"data row9 col2\" >0.026386</td>\n",
       "      <td id=\"T_ed753_row9_col3\" class=\"data row9 col3\" >-0.200175</td>\n",
       "      <td id=\"T_ed753_row9_col4\" class=\"data row9 col4\" >0.300896</td>\n",
       "      <td id=\"T_ed753_row9_col5\" class=\"data row9 col5\" >-0.193639</td>\n",
       "      <td id=\"T_ed753_row9_col6\" class=\"data row9 col6\" >-0.301351</td>\n",
       "      <td id=\"T_ed753_row9_col7\" class=\"data row9 col7\" >0.247448</td>\n",
       "      <td id=\"T_ed753_row9_col8\" class=\"data row9 col8\" >0.255200</td>\n",
       "      <td id=\"T_ed753_row9_col9\" class=\"data row9 col9\" >1.000000</td>\n",
       "      <td id=\"T_ed753_row9_col10\" class=\"data row9 col10\" >0.021788</td>\n",
       "      <td id=\"T_ed753_row9_col11\" class=\"data row9 col11\" >0.048671</td>\n",
       "    </tr>\n",
       "    <tr>\n",
       "      <th id=\"T_ed753_level0_row10\" class=\"row_heading level0 row10\" >alcohol</th>\n",
       "      <td id=\"T_ed753_row10_col0\" class=\"data row10 col0\" >-0.071354</td>\n",
       "      <td id=\"T_ed753_row10_col1\" class=\"data row10 col1\" >-0.045024</td>\n",
       "      <td id=\"T_ed753_row10_col2\" class=\"data row10 col2\" >0.008283</td>\n",
       "      <td id=\"T_ed753_row10_col3\" class=\"data row10 col3\" >-0.386988</td>\n",
       "      <td id=\"T_ed753_row10_col4\" class=\"data row10 col4\" >-0.297217</td>\n",
       "      <td id=\"T_ed753_row10_col5\" class=\"data row10 col5\" >-0.190831</td>\n",
       "      <td id=\"T_ed753_row10_col6\" class=\"data row10 col6\" >-0.277706</td>\n",
       "      <td id=\"T_ed753_row10_col7\" class=\"data row10 col7\" >-0.716078</td>\n",
       "      <td id=\"T_ed753_row10_col8\" class=\"data row10 col8\" >0.091582</td>\n",
       "      <td id=\"T_ed753_row10_col9\" class=\"data row10 col9\" >0.021788</td>\n",
       "      <td id=\"T_ed753_row10_col10\" class=\"data row10 col10\" >1.000000</td>\n",
       "      <td id=\"T_ed753_row10_col11\" class=\"data row10 col11\" >0.437820</td>\n",
       "    </tr>\n",
       "    <tr>\n",
       "      <th id=\"T_ed753_level0_row11\" class=\"row_heading level0 row11\" >quality</th>\n",
       "      <td id=\"T_ed753_row11_col0\" class=\"data row11 col0\" >-0.067105</td>\n",
       "      <td id=\"T_ed753_row11_col1\" class=\"data row11 col1\" >-0.244377</td>\n",
       "      <td id=\"T_ed753_row11_col2\" class=\"data row11 col2\" >0.089002</td>\n",
       "      <td id=\"T_ed753_row11_col3\" class=\"data row11 col3\" >-0.045084</td>\n",
       "      <td id=\"T_ed753_row11_col4\" class=\"data row11 col4\" >-0.225183</td>\n",
       "      <td id=\"T_ed753_row11_col5\" class=\"data row11 col5\" >0.077299</td>\n",
       "      <td id=\"T_ed753_row11_col6\" class=\"data row11 col6\" >-0.037163</td>\n",
       "      <td id=\"T_ed753_row11_col7\" class=\"data row11 col7\" >-0.312008</td>\n",
       "      <td id=\"T_ed753_row11_col8\" class=\"data row11 col8\" >0.012768</td>\n",
       "      <td id=\"T_ed753_row11_col9\" class=\"data row11 col9\" >0.048671</td>\n",
       "      <td id=\"T_ed753_row11_col10\" class=\"data row11 col10\" >0.437820</td>\n",
       "      <td id=\"T_ed753_row11_col11\" class=\"data row11 col11\" >1.000000</td>\n",
       "    </tr>\n",
       "  </tbody>\n",
       "</table>\n"
      ],
      "text/plain": [
       "<pandas.io.formats.style.Styler at 0x2787897af40>"
      ]
     },
     "execution_count": 171,
     "metadata": {},
     "output_type": "execute_result"
    }
   ],
   "source": [
    "wines_train_corr = copy.deepcopy(X_train)\n",
    "wines_train_corr['quality'] = copy.deepcopy(y_train)\n",
    "corr = wines_train_corr.corr()\n",
    "corr.style.background_gradient(cmap='coolwarm')"
   ]
  },
  {
   "cell_type": "markdown",
   "metadata": {},
   "source": [
    "## Категориальные значения"
   ]
  },
  {
   "cell_type": "code",
   "execution_count": 172,
   "metadata": {
    "id": "FWAzqEkKQEdC"
   },
   "outputs": [],
   "source": [
    "X_train['type'] = X_train['type'].map({'white': 1, 'red': 0})"
   ]
  },
  {
   "cell_type": "code",
   "execution_count": 173,
   "metadata": {
    "id": "KJBPVMSdT06T"
   },
   "outputs": [],
   "source": [
    "X_test['type'] = X_test['type'].map({'white': 1, 'red': 0})"
   ]
  },
  {
   "cell_type": "markdown",
   "metadata": {},
   "source": [
    "Заменяем категориальные значения (type) на 0/1."
   ]
  },
  {
   "cell_type": "markdown",
   "metadata": {},
   "source": [
    "## Масштабирование"
   ]
  },
  {
   "cell_type": "code",
   "execution_count": 174,
   "metadata": {
    "id": "6gY0UpWGUfve"
   },
   "outputs": [],
   "source": [
    "train_index = X_train.index"
   ]
  },
  {
   "cell_type": "code",
   "execution_count": 175,
   "metadata": {
    "id": "HAAePckWUgD_"
   },
   "outputs": [],
   "source": [
    "test_index = X_test.index"
   ]
  },
  {
   "cell_type": "code",
   "execution_count": 176,
   "metadata": {
    "id": "-_PsvIS4RtGr"
   },
   "outputs": [],
   "source": [
    "scaler = StandardScaler()"
   ]
  },
  {
   "cell_type": "code",
   "execution_count": 177,
   "metadata": {
    "id": "J8Vc0Ab_Tat0"
   },
   "outputs": [],
   "source": [
    "X_train = scaler.fit_transform(X_train)"
   ]
  },
  {
   "cell_type": "code",
   "execution_count": 178,
   "metadata": {
    "id": "EE7t2ZlpTjHm"
   },
   "outputs": [],
   "source": [
    "X_test = scaler.transform(X_test)"
   ]
  },
  {
   "cell_type": "code",
   "execution_count": 179,
   "metadata": {
    "id": "vy6dFq64UayP"
   },
   "outputs": [],
   "source": [
    "X_train = pd.DataFrame(X_train, index=train_index, columns=['type', 'fixed acidity', 'volatile acidity', 'citric acid',\n",
    "       'residual sugar', 'chlorides', 'free sulfur dioxide',\n",
    "       'total sulfur dioxide', 'density', 'pH', 'sulphates', 'alcohol'])"
   ]
  },
  {
   "cell_type": "code",
   "execution_count": 180,
   "metadata": {
    "id": "MvMYhDxSUbE_"
   },
   "outputs": [],
   "source": [
    "X_test = pd.DataFrame(X_test, index=test_index, columns = ['type', 'fixed acidity', 'volatile acidity', 'citric acid',\n",
    "       'residual sugar', 'chlorides', 'free sulfur dioxide',\n",
    "       'total sulfur dioxide', 'density', 'pH', 'sulphates', 'alcohol'])"
   ]
  },
  {
   "cell_type": "markdown",
   "metadata": {},
   "source": [
    "В связи с разностью шкал наших признаков, проводим масштабирование."
   ]
  },
  {
   "cell_type": "markdown",
   "metadata": {},
   "source": [
    "## Корреляции x3"
   ]
  },
  {
   "cell_type": "code",
   "execution_count": 181,
   "metadata": {
    "colab": {
     "base_uri": "https://localhost:8080/",
     "height": 613
    },
    "id": "b0tmFWf7UFPH",
    "outputId": "9ba778d9-2e9b-4158-e811-0c27090b16ea"
   },
   "outputs": [
    {
     "data": {
      "text/html": [
       "<style type=\"text/css\">\n",
       "#T_fe9b9_row0_col0, #T_fe9b9_row1_col1, #T_fe9b9_row2_col2, #T_fe9b9_row3_col3, #T_fe9b9_row4_col4, #T_fe9b9_row5_col5, #T_fe9b9_row6_col6, #T_fe9b9_row7_col7, #T_fe9b9_row8_col8, #T_fe9b9_row9_col9, #T_fe9b9_row10_col10, #T_fe9b9_row11_col11, #T_fe9b9_row12_col12 {\n",
       "  background-color: #b40426;\n",
       "  color: #f1f1f1;\n",
       "}\n",
       "#T_fe9b9_row0_col1, #T_fe9b9_row0_col2, #T_fe9b9_row0_col5, #T_fe9b9_row0_col9, #T_fe9b9_row0_col10, #T_fe9b9_row2_col0, #T_fe9b9_row2_col3, #T_fe9b9_row2_col6, #T_fe9b9_row2_col7, #T_fe9b9_row8_col11, #T_fe9b9_row8_col12, #T_fe9b9_row11_col4, #T_fe9b9_row11_col8 {\n",
       "  background-color: #3b4cc0;\n",
       "  color: #f1f1f1;\n",
       "}\n",
       "#T_fe9b9_row0_col3, #T_fe9b9_row6_col8, #T_fe9b9_row7_col3, #T_fe9b9_row9_col8 {\n",
       "  background-color: #cdd9ec;\n",
       "  color: #000000;\n",
       "}\n",
       "#T_fe9b9_row0_col4, #T_fe9b9_row10_col2 {\n",
       "  background-color: #e6d7cf;\n",
       "  color: #000000;\n",
       "}\n",
       "#T_fe9b9_row0_col6, #T_fe9b9_row4_col0 {\n",
       "  background-color: #f3c7b1;\n",
       "  color: #000000;\n",
       "}\n",
       "#T_fe9b9_row0_col7, #T_fe9b9_row7_col6 {\n",
       "  background-color: #ee8468;\n",
       "  color: #f1f1f1;\n",
       "}\n",
       "#T_fe9b9_row0_col8, #T_fe9b9_row4_col10, #T_fe9b9_row9_col0 {\n",
       "  background-color: #779af7;\n",
       "  color: #f1f1f1;\n",
       "}\n",
       "#T_fe9b9_row0_col11 {\n",
       "  background-color: #cbd8ee;\n",
       "  color: #000000;\n",
       "}\n",
       "#T_fe9b9_row0_col12, #T_fe9b9_row11_col9, #T_fe9b9_row12_col6 {\n",
       "  background-color: #a7c5fe;\n",
       "  color: #000000;\n",
       "}\n",
       "#T_fe9b9_row1_col0, #T_fe9b9_row5_col6, #T_fe9b9_row7_col1 {\n",
       "  background-color: #5a78e4;\n",
       "  color: #f1f1f1;\n",
       "}\n",
       "#T_fe9b9_row1_col2 {\n",
       "  background-color: #e7d7ce;\n",
       "  color: #000000;\n",
       "}\n",
       "#T_fe9b9_row1_col3 {\n",
       "  background-color: #dddcdc;\n",
       "  color: #000000;\n",
       "}\n",
       "#T_fe9b9_row1_col4 {\n",
       "  background-color: #7597f6;\n",
       "  color: #f1f1f1;\n",
       "}\n",
       "#T_fe9b9_row1_col5 {\n",
       "  background-color: #f2cbb7;\n",
       "  color: #000000;\n",
       "}\n",
       "#T_fe9b9_row1_col6, #T_fe9b9_row9_col3 {\n",
       "  background-color: #4c66d6;\n",
       "  color: #f1f1f1;\n",
       "}\n",
       "#T_fe9b9_row1_col7, #T_fe9b9_row5_col7 {\n",
       "  background-color: #4f69d9;\n",
       "  color: #f1f1f1;\n",
       "}\n",
       "#T_fe9b9_row1_col8, #T_fe9b9_row5_col2 {\n",
       "  background-color: #f7b79b;\n",
       "  color: #000000;\n",
       "}\n",
       "#T_fe9b9_row1_col9 {\n",
       "  background-color: #5977e3;\n",
       "  color: #f1f1f1;\n",
       "}\n",
       "#T_fe9b9_row1_col10 {\n",
       "  background-color: #e2dad5;\n",
       "  color: #000000;\n",
       "}\n",
       "#T_fe9b9_row1_col11 {\n",
       "  background-color: #b9d0f9;\n",
       "  color: #000000;\n",
       "}\n",
       "#T_fe9b9_row1_col12, #T_fe9b9_row9_col1 {\n",
       "  background-color: #7699f6;\n",
       "  color: #f1f1f1;\n",
       "}\n",
       "#T_fe9b9_row2_col1 {\n",
       "  background-color: #dadce0;\n",
       "  color: #000000;\n",
       "}\n",
       "#T_fe9b9_row2_col4, #T_fe9b9_row10_col6 {\n",
       "  background-color: #6282ea;\n",
       "  color: #f1f1f1;\n",
       "}\n",
       "#T_fe9b9_row2_col5, #T_fe9b9_row8_col5 {\n",
       "  background-color: #f7ba9f;\n",
       "  color: #000000;\n",
       "}\n",
       "#T_fe9b9_row2_col8 {\n",
       "  background-color: #eed0c0;\n",
       "  color: #000000;\n",
       "}\n",
       "#T_fe9b9_row2_col9 {\n",
       "  background-color: #d2dbe8;\n",
       "  color: #000000;\n",
       "}\n",
       "#T_fe9b9_row2_col10 {\n",
       "  background-color: #d7dce3;\n",
       "  color: #000000;\n",
       "}\n",
       "#T_fe9b9_row2_col11, #T_fe9b9_row3_col6, #T_fe9b9_row4_col3 {\n",
       "  background-color: #bed2f6;\n",
       "  color: #000000;\n",
       "}\n",
       "#T_fe9b9_row2_col12 {\n",
       "  background-color: #4a63d3;\n",
       "  color: #f1f1f1;\n",
       "}\n",
       "#T_fe9b9_row3_col0, #T_fe9b9_row3_col1, #T_fe9b9_row5_col10 {\n",
       "  background-color: #e4d9d2;\n",
       "  color: #000000;\n",
       "}\n",
       "#T_fe9b9_row3_col2, #T_fe9b9_row9_col6 {\n",
       "  background-color: #6b8df0;\n",
       "  color: #f1f1f1;\n",
       "}\n",
       "#T_fe9b9_row3_col4 {\n",
       "  background-color: #bbd1f8;\n",
       "  color: #000000;\n",
       "}\n",
       "#T_fe9b9_row3_col5 {\n",
       "  background-color: #aac7fd;\n",
       "  color: #000000;\n",
       "}\n",
       "#T_fe9b9_row3_col7, #T_fe9b9_row3_col8 {\n",
       "  background-color: #d1dae9;\n",
       "  color: #000000;\n",
       "}\n",
       "#T_fe9b9_row3_col9 {\n",
       "  background-color: #4055c8;\n",
       "  color: #f1f1f1;\n",
       "}\n",
       "#T_fe9b9_row3_col10, #T_fe9b9_row11_col10 {\n",
       "  background-color: #adc9fd;\n",
       "  color: #000000;\n",
       "}\n",
       "#T_fe9b9_row3_col11 {\n",
       "  background-color: #c7d7f0;\n",
       "  color: #000000;\n",
       "}\n",
       "#T_fe9b9_row3_col12, #T_fe9b9_row6_col11, #T_fe9b9_row10_col3 {\n",
       "  background-color: #a1c0ff;\n",
       "  color: #000000;\n",
       "}\n",
       "#T_fe9b9_row4_col1, #T_fe9b9_row12_col5 {\n",
       "  background-color: #89acfd;\n",
       "  color: #000000;\n",
       "}\n",
       "#T_fe9b9_row4_col2 {\n",
       "  background-color: #94b6ff;\n",
       "  color: #000000;\n",
       "}\n",
       "#T_fe9b9_row4_col5 {\n",
       "  background-color: #9abbff;\n",
       "  color: #000000;\n",
       "}\n",
       "#T_fe9b9_row4_col6 {\n",
       "  background-color: #efcebd;\n",
       "  color: #000000;\n",
       "}\n",
       "#T_fe9b9_row4_col7 {\n",
       "  background-color: #f7bca1;\n",
       "  color: #000000;\n",
       "}\n",
       "#T_fe9b9_row4_col8 {\n",
       "  background-color: #f59f80;\n",
       "  color: #000000;\n",
       "}\n",
       "#T_fe9b9_row4_col9 {\n",
       "  background-color: #4b64d5;\n",
       "  color: #f1f1f1;\n",
       "}\n",
       "#T_fe9b9_row4_col11, #T_fe9b9_row6_col10, #T_fe9b9_row11_col5 {\n",
       "  background-color: #799cf8;\n",
       "  color: #f1f1f1;\n",
       "}\n",
       "#T_fe9b9_row4_col12 {\n",
       "  background-color: #7da0f9;\n",
       "  color: #f1f1f1;\n",
       "}\n",
       "#T_fe9b9_row5_col0 {\n",
       "  background-color: #4358cb;\n",
       "  color: #f1f1f1;\n",
       "}\n",
       "#T_fe9b9_row5_col1, #T_fe9b9_row8_col2, #T_fe9b9_row10_col5 {\n",
       "  background-color: #ecd3c5;\n",
       "  color: #000000;\n",
       "}\n",
       "#T_fe9b9_row5_col3, #T_fe9b9_row6_col5, #T_fe9b9_row12_col8 {\n",
       "  background-color: #88abfd;\n",
       "  color: #000000;\n",
       "}\n",
       "#T_fe9b9_row5_col4 {\n",
       "  background-color: #7093f3;\n",
       "  color: #f1f1f1;\n",
       "}\n",
       "#T_fe9b9_row5_col8 {\n",
       "  background-color: #f7b497;\n",
       "  color: #000000;\n",
       "}\n",
       "#T_fe9b9_row5_col9 {\n",
       "  background-color: #b3cdfb;\n",
       "  color: #000000;\n",
       "}\n",
       "#T_fe9b9_row5_col11 {\n",
       "  background-color: #8badfd;\n",
       "  color: #000000;\n",
       "}\n",
       "#T_fe9b9_row5_col12 {\n",
       "  background-color: #4e68d8;\n",
       "  color: #f1f1f1;\n",
       "}\n",
       "#T_fe9b9_row6_col0 {\n",
       "  background-color: #f7b194;\n",
       "  color: #000000;\n",
       "}\n",
       "#T_fe9b9_row6_col1 {\n",
       "  background-color: #6687ed;\n",
       "  color: #f1f1f1;\n",
       "}\n",
       "#T_fe9b9_row6_col2 {\n",
       "  background-color: #7396f5;\n",
       "  color: #f1f1f1;\n",
       "}\n",
       "#T_fe9b9_row6_col3 {\n",
       "  background-color: #c3d5f4;\n",
       "  color: #000000;\n",
       "}\n",
       "#T_fe9b9_row6_col4 {\n",
       "  background-color: #f1cdba;\n",
       "  color: #000000;\n",
       "}\n",
       "#T_fe9b9_row6_col7 {\n",
       "  background-color: #ec8165;\n",
       "  color: #f1f1f1;\n",
       "}\n",
       "#T_fe9b9_row6_col9 {\n",
       "  background-color: #6788ee;\n",
       "  color: #f1f1f1;\n",
       "}\n",
       "#T_fe9b9_row6_col12, #T_fe9b9_row8_col9, #T_fe9b9_row11_col3 {\n",
       "  background-color: #9dbdff;\n",
       "  color: #000000;\n",
       "}\n",
       "#T_fe9b9_row7_col0 {\n",
       "  background-color: #e9785d;\n",
       "  color: #f1f1f1;\n",
       "}\n",
       "#T_fe9b9_row7_col2, #T_fe9b9_row10_col4 {\n",
       "  background-color: #6485ec;\n",
       "  color: #f1f1f1;\n",
       "}\n",
       "#T_fe9b9_row7_col4 {\n",
       "  background-color: #f6bfa6;\n",
       "  color: #000000;\n",
       "}\n",
       "#T_fe9b9_row7_col5 {\n",
       "  background-color: #7295f4;\n",
       "  color: #f1f1f1;\n",
       "}\n",
       "#T_fe9b9_row7_col8 {\n",
       "  background-color: #ccd9ed;\n",
       "  color: #000000;\n",
       "}\n",
       "#T_fe9b9_row7_col9 {\n",
       "  background-color: #516ddb;\n",
       "  color: #f1f1f1;\n",
       "}\n",
       "#T_fe9b9_row7_col10 {\n",
       "  background-color: #6180e9;\n",
       "  color: #f1f1f1;\n",
       "}\n",
       "#T_fe9b9_row7_col11 {\n",
       "  background-color: #8fb1fe;\n",
       "  color: #000000;\n",
       "}\n",
       "#T_fe9b9_row7_col12 {\n",
       "  background-color: #7ea1fa;\n",
       "  color: #f1f1f1;\n",
       "}\n",
       "#T_fe9b9_row8_col0 {\n",
       "  background-color: #6e90f2;\n",
       "  color: #f1f1f1;\n",
       "}\n",
       "#T_fe9b9_row8_col1 {\n",
       "  background-color: #f4c6af;\n",
       "  color: #000000;\n",
       "}\n",
       "#T_fe9b9_row8_col3 {\n",
       "  background-color: #abc8fd;\n",
       "  color: #000000;\n",
       "}\n",
       "#T_fe9b9_row8_col4, #T_fe9b9_row12_col11 {\n",
       "  background-color: #f7b599;\n",
       "  color: #000000;\n",
       "}\n",
       "#T_fe9b9_row8_col6 {\n",
       "  background-color: #9fbfff;\n",
       "  color: #000000;\n",
       "}\n",
       "#T_fe9b9_row8_col7 {\n",
       "  background-color: #a9c6fd;\n",
       "  color: #000000;\n",
       "}\n",
       "#T_fe9b9_row8_col10 {\n",
       "  background-color: #dbdcde;\n",
       "  color: #000000;\n",
       "}\n",
       "#T_fe9b9_row9_col2, #T_fe9b9_row10_col8 {\n",
       "  background-color: #ebd3c6;\n",
       "  color: #000000;\n",
       "}\n",
       "#T_fe9b9_row9_col4 {\n",
       "  background-color: #5470de;\n",
       "  color: #f1f1f1;\n",
       "}\n",
       "#T_fe9b9_row9_col5 {\n",
       "  background-color: #d3dbe7;\n",
       "  color: #000000;\n",
       "}\n",
       "#T_fe9b9_row9_col7, #T_fe9b9_row11_col6 {\n",
       "  background-color: #6384eb;\n",
       "  color: #f1f1f1;\n",
       "}\n",
       "#T_fe9b9_row9_col10 {\n",
       "  background-color: #dcdddd;\n",
       "  color: #000000;\n",
       "}\n",
       "#T_fe9b9_row9_col11 {\n",
       "  background-color: #d5dbe5;\n",
       "  color: #000000;\n",
       "}\n",
       "#T_fe9b9_row9_col12, #T_fe9b9_row12_col4 {\n",
       "  background-color: #8caffe;\n",
       "  color: #000000;\n",
       "}\n",
       "#T_fe9b9_row10_col0, #T_fe9b9_row11_col7 {\n",
       "  background-color: #5b7ae5;\n",
       "  color: #f1f1f1;\n",
       "}\n",
       "#T_fe9b9_row10_col1 {\n",
       "  background-color: #e3d9d3;\n",
       "  color: #000000;\n",
       "}\n",
       "#T_fe9b9_row10_col7 {\n",
       "  background-color: #5673e0;\n",
       "  color: #f1f1f1;\n",
       "}\n",
       "#T_fe9b9_row10_col9 {\n",
       "  background-color: #cedaeb;\n",
       "  color: #000000;\n",
       "}\n",
       "#T_fe9b9_row10_col11 {\n",
       "  background-color: #cad8ef;\n",
       "  color: #000000;\n",
       "}\n",
       "#T_fe9b9_row10_col12, #T_fe9b9_row12_col7 {\n",
       "  background-color: #96b7ff;\n",
       "  color: #000000;\n",
       "}\n",
       "#T_fe9b9_row11_col0 {\n",
       "  background-color: #c5d6f2;\n",
       "  color: #000000;\n",
       "}\n",
       "#T_fe9b9_row11_col1, #T_fe9b9_row12_col1 {\n",
       "  background-color: #98b9ff;\n",
       "  color: #000000;\n",
       "}\n",
       "#T_fe9b9_row11_col2 {\n",
       "  background-color: #b6cefa;\n",
       "  color: #000000;\n",
       "}\n",
       "#T_fe9b9_row11_col12 {\n",
       "  background-color: #edd1c2;\n",
       "  color: #000000;\n",
       "}\n",
       "#T_fe9b9_row12_col0 {\n",
       "  background-color: #d4dbe6;\n",
       "  color: #000000;\n",
       "}\n",
       "#T_fe9b9_row12_col2 {\n",
       "  background-color: #8db0fe;\n",
       "  color: #000000;\n",
       "}\n",
       "#T_fe9b9_row12_col3 {\n",
       "  background-color: #b1cbfc;\n",
       "  color: #000000;\n",
       "}\n",
       "#T_fe9b9_row12_col9 {\n",
       "  background-color: #93b5fe;\n",
       "  color: #000000;\n",
       "}\n",
       "#T_fe9b9_row12_col10 {\n",
       "  background-color: #b2ccfb;\n",
       "  color: #000000;\n",
       "}\n",
       "</style>\n",
       "<table id=\"T_fe9b9\">\n",
       "  <thead>\n",
       "    <tr>\n",
       "      <th class=\"blank level0\" >&nbsp;</th>\n",
       "      <th id=\"T_fe9b9_level0_col0\" class=\"col_heading level0 col0\" >type</th>\n",
       "      <th id=\"T_fe9b9_level0_col1\" class=\"col_heading level0 col1\" >fixed acidity</th>\n",
       "      <th id=\"T_fe9b9_level0_col2\" class=\"col_heading level0 col2\" >volatile acidity</th>\n",
       "      <th id=\"T_fe9b9_level0_col3\" class=\"col_heading level0 col3\" >citric acid</th>\n",
       "      <th id=\"T_fe9b9_level0_col4\" class=\"col_heading level0 col4\" >residual sugar</th>\n",
       "      <th id=\"T_fe9b9_level0_col5\" class=\"col_heading level0 col5\" >chlorides</th>\n",
       "      <th id=\"T_fe9b9_level0_col6\" class=\"col_heading level0 col6\" >free sulfur dioxide</th>\n",
       "      <th id=\"T_fe9b9_level0_col7\" class=\"col_heading level0 col7\" >total sulfur dioxide</th>\n",
       "      <th id=\"T_fe9b9_level0_col8\" class=\"col_heading level0 col8\" >density</th>\n",
       "      <th id=\"T_fe9b9_level0_col9\" class=\"col_heading level0 col9\" >pH</th>\n",
       "      <th id=\"T_fe9b9_level0_col10\" class=\"col_heading level0 col10\" >sulphates</th>\n",
       "      <th id=\"T_fe9b9_level0_col11\" class=\"col_heading level0 col11\" >alcohol</th>\n",
       "      <th id=\"T_fe9b9_level0_col12\" class=\"col_heading level0 col12\" >quality</th>\n",
       "    </tr>\n",
       "  </thead>\n",
       "  <tbody>\n",
       "    <tr>\n",
       "      <th id=\"T_fe9b9_level0_row0\" class=\"row_heading level0 row0\" >type</th>\n",
       "      <td id=\"T_fe9b9_row0_col0\" class=\"data row0 col0\" >1.000000</td>\n",
       "      <td id=\"T_fe9b9_row0_col1\" class=\"data row0 col1\" >-0.490749</td>\n",
       "      <td id=\"T_fe9b9_row0_col2\" class=\"data row0 col2\" >-0.661116</td>\n",
       "      <td id=\"T_fe9b9_row0_col3\" class=\"data row0 col3\" >0.217193</td>\n",
       "      <td id=\"T_fe9b9_row0_col4\" class=\"data row0 col4\" >0.359597</td>\n",
       "      <td id=\"T_fe9b9_row0_col5\" class=\"data row0 col5\" >-0.610919</td>\n",
       "      <td id=\"T_fe9b9_row0_col6\" class=\"data row0 col6\" >0.475424</td>\n",
       "      <td id=\"T_fe9b9_row0_col7\" class=\"data row0 col7\" >0.713144</td>\n",
       "      <td id=\"T_fe9b9_row0_col8\" class=\"data row0 col8\" >-0.388851</td>\n",
       "      <td id=\"T_fe9b9_row0_col9\" class=\"data row0 col9\" >-0.349609</td>\n",
       "      <td id=\"T_fe9b9_row0_col10\" class=\"data row0 col10\" >-0.483046</td>\n",
       "      <td id=\"T_fe9b9_row0_col11\" class=\"data row0 col11\" >0.028380</td>\n",
       "      <td id=\"T_fe9b9_row0_col12\" class=\"data row0 col12\" >0.114487</td>\n",
       "    </tr>\n",
       "    <tr>\n",
       "      <th id=\"T_fe9b9_level0_row1\" class=\"row_heading level0 row1\" >fixed acidity</th>\n",
       "      <td id=\"T_fe9b9_row1_col0\" class=\"data row1 col0\" >-0.490749</td>\n",
       "      <td id=\"T_fe9b9_row1_col1\" class=\"data row1 col1\" >1.000000</td>\n",
       "      <td id=\"T_fe9b9_row1_col2\" class=\"data row1 col2\" >0.239161</td>\n",
       "      <td id=\"T_fe9b9_row1_col3\" class=\"data row1 col3\" >0.298910</td>\n",
       "      <td id=\"T_fe9b9_row1_col4\" class=\"data row1 col4\" >-0.132778</td>\n",
       "      <td id=\"T_fe9b9_row1_col5\" class=\"data row1 col5\" >0.353389</td>\n",
       "      <td id=\"T_fe9b9_row1_col6\" class=\"data row1 col6\" >-0.286390</td>\n",
       "      <td id=\"T_fe9b9_row1_col7\" class=\"data row1 col7\" >-0.335171</td>\n",
       "      <td id=\"T_fe9b9_row1_col8\" class=\"data row1 col8\" >0.434032</td>\n",
       "      <td id=\"T_fe9b9_row1_col9\" class=\"data row1 col9\" >-0.214295</td>\n",
       "      <td id=\"T_fe9b9_row1_col10\" class=\"data row1 col10\" >0.292170</td>\n",
       "      <td id=\"T_fe9b9_row1_col11\" class=\"data row1 col11\" >-0.071354</td>\n",
       "      <td id=\"T_fe9b9_row1_col12\" class=\"data row1 col12\" >-0.067105</td>\n",
       "    </tr>\n",
       "    <tr>\n",
       "      <th id=\"T_fe9b9_level0_row2\" class=\"row_heading level0 row2\" >volatile acidity</th>\n",
       "      <td id=\"T_fe9b9_row2_col0\" class=\"data row2 col0\" >-0.661116</td>\n",
       "      <td id=\"T_fe9b9_row2_col1\" class=\"data row2 col1\" >0.239161</td>\n",
       "      <td id=\"T_fe9b9_row2_col2\" class=\"data row2 col2\" >1.000000</td>\n",
       "      <td id=\"T_fe9b9_row2_col3\" class=\"data row2 col3\" >-0.406297</td>\n",
       "      <td id=\"T_fe9b9_row2_col4\" class=\"data row2 col4\" >-0.209097</td>\n",
       "      <td id=\"T_fe9b9_row2_col5\" class=\"data row2 col5\" >0.450234</td>\n",
       "      <td id=\"T_fe9b9_row2_col6\" class=\"data row2 col6\" >-0.367987</td>\n",
       "      <td id=\"T_fe9b9_row2_col7\" class=\"data row2 col7\" >-0.434298</td>\n",
       "      <td id=\"T_fe9b9_row2_col8\" class=\"data row2 col8\" >0.275123</td>\n",
       "      <td id=\"T_fe9b9_row2_col9\" class=\"data row2 col9\" >0.270647</td>\n",
       "      <td id=\"T_fe9b9_row2_col10\" class=\"data row2 col10\" >0.228668</td>\n",
       "      <td id=\"T_fe9b9_row2_col11\" class=\"data row2 col11\" >-0.045024</td>\n",
       "      <td id=\"T_fe9b9_row2_col12\" class=\"data row2 col12\" >-0.244377</td>\n",
       "    </tr>\n",
       "    <tr>\n",
       "      <th id=\"T_fe9b9_level0_row3\" class=\"row_heading level0 row3\" >citric acid</th>\n",
       "      <td id=\"T_fe9b9_row3_col0\" class=\"data row3 col0\" >0.217193</td>\n",
       "      <td id=\"T_fe9b9_row3_col1\" class=\"data row3 col1\" >0.298910</td>\n",
       "      <td id=\"T_fe9b9_row3_col2\" class=\"data row3 col2\" >-0.406297</td>\n",
       "      <td id=\"T_fe9b9_row3_col3\" class=\"data row3 col3\" >1.000000</td>\n",
       "      <td id=\"T_fe9b9_row3_col4\" class=\"data row3 col4\" >0.146674</td>\n",
       "      <td id=\"T_fe9b9_row3_col5\" class=\"data row3 col5\" >-0.072437</td>\n",
       "      <td id=\"T_fe9b9_row3_col6\" class=\"data row3 col6\" >0.167498</td>\n",
       "      <td id=\"T_fe9b9_row3_col7\" class=\"data row3 col7\" >0.218664</td>\n",
       "      <td id=\"T_fe9b9_row3_col8\" class=\"data row3 col8\" >0.068108</td>\n",
       "      <td id=\"T_fe9b9_row3_col9\" class=\"data row3 col9\" >-0.318946</td>\n",
       "      <td id=\"T_fe9b9_row3_col10\" class=\"data row3 col10\" >0.026386</td>\n",
       "      <td id=\"T_fe9b9_row3_col11\" class=\"data row3 col11\" >0.008283</td>\n",
       "      <td id=\"T_fe9b9_row3_col12\" class=\"data row3 col12\" >0.089002</td>\n",
       "    </tr>\n",
       "    <tr>\n",
       "      <th id=\"T_fe9b9_level0_row4\" class=\"row_heading level0 row4\" >residual sugar</th>\n",
       "      <td id=\"T_fe9b9_row4_col0\" class=\"data row4 col0\" >0.359597</td>\n",
       "      <td id=\"T_fe9b9_row4_col1\" class=\"data row4 col1\" >-0.132778</td>\n",
       "      <td id=\"T_fe9b9_row4_col2\" class=\"data row4 col2\" >-0.209097</td>\n",
       "      <td id=\"T_fe9b9_row4_col3\" class=\"data row4 col3\" >0.146674</td>\n",
       "      <td id=\"T_fe9b9_row4_col4\" class=\"data row4 col4\" >1.000000</td>\n",
       "      <td id=\"T_fe9b9_row4_col5\" class=\"data row4 col5\" >-0.149929</td>\n",
       "      <td id=\"T_fe9b9_row4_col6\" class=\"data row4 col6\" >0.432273</td>\n",
       "      <td id=\"T_fe9b9_row4_col7\" class=\"data row4 col7\" >0.501905</td>\n",
       "      <td id=\"T_fe9b9_row4_col8\" class=\"data row4 col8\" >0.547698</td>\n",
       "      <td id=\"T_fe9b9_row4_col9\" class=\"data row4 col9\" >-0.271779</td>\n",
       "      <td id=\"T_fe9b9_row4_col10\" class=\"data row4 col10\" >-0.200175</td>\n",
       "      <td id=\"T_fe9b9_row4_col11\" class=\"data row4 col11\" >-0.386988</td>\n",
       "      <td id=\"T_fe9b9_row4_col12\" class=\"data row4 col12\" >-0.045084</td>\n",
       "    </tr>\n",
       "    <tr>\n",
       "      <th id=\"T_fe9b9_level0_row5\" class=\"row_heading level0 row5\" >chlorides</th>\n",
       "      <td id=\"T_fe9b9_row5_col0\" class=\"data row5 col0\" >-0.610919</td>\n",
       "      <td id=\"T_fe9b9_row5_col1\" class=\"data row5 col1\" >0.353389</td>\n",
       "      <td id=\"T_fe9b9_row5_col2\" class=\"data row5 col2\" >0.450234</td>\n",
       "      <td id=\"T_fe9b9_row5_col3\" class=\"data row5 col3\" >-0.072437</td>\n",
       "      <td id=\"T_fe9b9_row5_col4\" class=\"data row5 col4\" >-0.149929</td>\n",
       "      <td id=\"T_fe9b9_row5_col5\" class=\"data row5 col5\" >1.000000</td>\n",
       "      <td id=\"T_fe9b9_row5_col6\" class=\"data row5 col6\" >-0.227208</td>\n",
       "      <td id=\"T_fe9b9_row5_col7\" class=\"data row5 col7\" >-0.333984</td>\n",
       "      <td id=\"T_fe9b9_row5_col8\" class=\"data row5 col8\" >0.447968</td>\n",
       "      <td id=\"T_fe9b9_row5_col9\" class=\"data row5 col9\" >0.137129</td>\n",
       "      <td id=\"T_fe9b9_row5_col10\" class=\"data row5 col10\" >0.300896</td>\n",
       "      <td id=\"T_fe9b9_row5_col11\" class=\"data row5 col11\" >-0.297217</td>\n",
       "      <td id=\"T_fe9b9_row5_col12\" class=\"data row5 col12\" >-0.225183</td>\n",
       "    </tr>\n",
       "    <tr>\n",
       "      <th id=\"T_fe9b9_level0_row6\" class=\"row_heading level0 row6\" >free sulfur dioxide</th>\n",
       "      <td id=\"T_fe9b9_row6_col0\" class=\"data row6 col0\" >0.475424</td>\n",
       "      <td id=\"T_fe9b9_row6_col1\" class=\"data row6 col1\" >-0.286390</td>\n",
       "      <td id=\"T_fe9b9_row6_col2\" class=\"data row6 col2\" >-0.367987</td>\n",
       "      <td id=\"T_fe9b9_row6_col3\" class=\"data row6 col3\" >0.167498</td>\n",
       "      <td id=\"T_fe9b9_row6_col4\" class=\"data row6 col4\" >0.432273</td>\n",
       "      <td id=\"T_fe9b9_row6_col5\" class=\"data row6 col5\" >-0.227208</td>\n",
       "      <td id=\"T_fe9b9_row6_col6\" class=\"data row6 col6\" >1.000000</td>\n",
       "      <td id=\"T_fe9b9_row6_col7\" class=\"data row6 col7\" >0.722976</td>\n",
       "      <td id=\"T_fe9b9_row6_col8\" class=\"data row6 col8\" >0.047767</td>\n",
       "      <td id=\"T_fe9b9_row6_col9\" class=\"data row6 col9\" >-0.159424</td>\n",
       "      <td id=\"T_fe9b9_row6_col10\" class=\"data row6 col10\" >-0.193639</td>\n",
       "      <td id=\"T_fe9b9_row6_col11\" class=\"data row6 col11\" >-0.190831</td>\n",
       "      <td id=\"T_fe9b9_row6_col12\" class=\"data row6 col12\" >0.077299</td>\n",
       "    </tr>\n",
       "    <tr>\n",
       "      <th id=\"T_fe9b9_level0_row7\" class=\"row_heading level0 row7\" >total sulfur dioxide</th>\n",
       "      <td id=\"T_fe9b9_row7_col0\" class=\"data row7 col0\" >0.713144</td>\n",
       "      <td id=\"T_fe9b9_row7_col1\" class=\"data row7 col1\" >-0.335171</td>\n",
       "      <td id=\"T_fe9b9_row7_col2\" class=\"data row7 col2\" >-0.434298</td>\n",
       "      <td id=\"T_fe9b9_row7_col3\" class=\"data row7 col3\" >0.218664</td>\n",
       "      <td id=\"T_fe9b9_row7_col4\" class=\"data row7 col4\" >0.501905</td>\n",
       "      <td id=\"T_fe9b9_row7_col5\" class=\"data row7 col5\" >-0.333984</td>\n",
       "      <td id=\"T_fe9b9_row7_col6\" class=\"data row7 col6\" >0.722976</td>\n",
       "      <td id=\"T_fe9b9_row7_col7\" class=\"data row7 col7\" >1.000000</td>\n",
       "      <td id=\"T_fe9b9_row7_col8\" class=\"data row7 col8\" >0.036981</td>\n",
       "      <td id=\"T_fe9b9_row7_col9\" class=\"data row7 col9\" >-0.249073</td>\n",
       "      <td id=\"T_fe9b9_row7_col10\" class=\"data row7 col10\" >-0.301351</td>\n",
       "      <td id=\"T_fe9b9_row7_col11\" class=\"data row7 col11\" >-0.277706</td>\n",
       "      <td id=\"T_fe9b9_row7_col12\" class=\"data row7 col12\" >-0.037163</td>\n",
       "    </tr>\n",
       "    <tr>\n",
       "      <th id=\"T_fe9b9_level0_row8\" class=\"row_heading level0 row8\" >density</th>\n",
       "      <td id=\"T_fe9b9_row8_col0\" class=\"data row8 col0\" >-0.388851</td>\n",
       "      <td id=\"T_fe9b9_row8_col1\" class=\"data row8 col1\" >0.434032</td>\n",
       "      <td id=\"T_fe9b9_row8_col2\" class=\"data row8 col2\" >0.275123</td>\n",
       "      <td id=\"T_fe9b9_row8_col3\" class=\"data row8 col3\" >0.068108</td>\n",
       "      <td id=\"T_fe9b9_row8_col4\" class=\"data row8 col4\" >0.547698</td>\n",
       "      <td id=\"T_fe9b9_row8_col5\" class=\"data row8 col5\" >0.447968</td>\n",
       "      <td id=\"T_fe9b9_row8_col6\" class=\"data row8 col6\" >0.047767</td>\n",
       "      <td id=\"T_fe9b9_row8_col7\" class=\"data row8 col7\" >0.036981</td>\n",
       "      <td id=\"T_fe9b9_row8_col8\" class=\"data row8 col8\" >1.000000</td>\n",
       "      <td id=\"T_fe9b9_row8_col9\" class=\"data row8 col9\" >0.046180</td>\n",
       "      <td id=\"T_fe9b9_row8_col10\" class=\"data row8 col10\" >0.247448</td>\n",
       "      <td id=\"T_fe9b9_row8_col11\" class=\"data row8 col11\" >-0.716078</td>\n",
       "      <td id=\"T_fe9b9_row8_col12\" class=\"data row8 col12\" >-0.312008</td>\n",
       "    </tr>\n",
       "    <tr>\n",
       "      <th id=\"T_fe9b9_level0_row9\" class=\"row_heading level0 row9\" >pH</th>\n",
       "      <td id=\"T_fe9b9_row9_col0\" class=\"data row9 col0\" >-0.349609</td>\n",
       "      <td id=\"T_fe9b9_row9_col1\" class=\"data row9 col1\" >-0.214295</td>\n",
       "      <td id=\"T_fe9b9_row9_col2\" class=\"data row9 col2\" >0.270647</td>\n",
       "      <td id=\"T_fe9b9_row9_col3\" class=\"data row9 col3\" >-0.318946</td>\n",
       "      <td id=\"T_fe9b9_row9_col4\" class=\"data row9 col4\" >-0.271779</td>\n",
       "      <td id=\"T_fe9b9_row9_col5\" class=\"data row9 col5\" >0.137129</td>\n",
       "      <td id=\"T_fe9b9_row9_col6\" class=\"data row9 col6\" >-0.159424</td>\n",
       "      <td id=\"T_fe9b9_row9_col7\" class=\"data row9 col7\" >-0.249073</td>\n",
       "      <td id=\"T_fe9b9_row9_col8\" class=\"data row9 col8\" >0.046180</td>\n",
       "      <td id=\"T_fe9b9_row9_col9\" class=\"data row9 col9\" >1.000000</td>\n",
       "      <td id=\"T_fe9b9_row9_col10\" class=\"data row9 col10\" >0.255200</td>\n",
       "      <td id=\"T_fe9b9_row9_col11\" class=\"data row9 col11\" >0.091582</td>\n",
       "      <td id=\"T_fe9b9_row9_col12\" class=\"data row9 col12\" >0.012768</td>\n",
       "    </tr>\n",
       "    <tr>\n",
       "      <th id=\"T_fe9b9_level0_row10\" class=\"row_heading level0 row10\" >sulphates</th>\n",
       "      <td id=\"T_fe9b9_row10_col0\" class=\"data row10 col0\" >-0.483046</td>\n",
       "      <td id=\"T_fe9b9_row10_col1\" class=\"data row10 col1\" >0.292170</td>\n",
       "      <td id=\"T_fe9b9_row10_col2\" class=\"data row10 col2\" >0.228668</td>\n",
       "      <td id=\"T_fe9b9_row10_col3\" class=\"data row10 col3\" >0.026386</td>\n",
       "      <td id=\"T_fe9b9_row10_col4\" class=\"data row10 col4\" >-0.200175</td>\n",
       "      <td id=\"T_fe9b9_row10_col5\" class=\"data row10 col5\" >0.300896</td>\n",
       "      <td id=\"T_fe9b9_row10_col6\" class=\"data row10 col6\" >-0.193639</td>\n",
       "      <td id=\"T_fe9b9_row10_col7\" class=\"data row10 col7\" >-0.301351</td>\n",
       "      <td id=\"T_fe9b9_row10_col8\" class=\"data row10 col8\" >0.247448</td>\n",
       "      <td id=\"T_fe9b9_row10_col9\" class=\"data row10 col9\" >0.255200</td>\n",
       "      <td id=\"T_fe9b9_row10_col10\" class=\"data row10 col10\" >1.000000</td>\n",
       "      <td id=\"T_fe9b9_row10_col11\" class=\"data row10 col11\" >0.021788</td>\n",
       "      <td id=\"T_fe9b9_row10_col12\" class=\"data row10 col12\" >0.048671</td>\n",
       "    </tr>\n",
       "    <tr>\n",
       "      <th id=\"T_fe9b9_level0_row11\" class=\"row_heading level0 row11\" >alcohol</th>\n",
       "      <td id=\"T_fe9b9_row11_col0\" class=\"data row11 col0\" >0.028380</td>\n",
       "      <td id=\"T_fe9b9_row11_col1\" class=\"data row11 col1\" >-0.071354</td>\n",
       "      <td id=\"T_fe9b9_row11_col2\" class=\"data row11 col2\" >-0.045024</td>\n",
       "      <td id=\"T_fe9b9_row11_col3\" class=\"data row11 col3\" >0.008283</td>\n",
       "      <td id=\"T_fe9b9_row11_col4\" class=\"data row11 col4\" >-0.386988</td>\n",
       "      <td id=\"T_fe9b9_row11_col5\" class=\"data row11 col5\" >-0.297217</td>\n",
       "      <td id=\"T_fe9b9_row11_col6\" class=\"data row11 col6\" >-0.190831</td>\n",
       "      <td id=\"T_fe9b9_row11_col7\" class=\"data row11 col7\" >-0.277706</td>\n",
       "      <td id=\"T_fe9b9_row11_col8\" class=\"data row11 col8\" >-0.716078</td>\n",
       "      <td id=\"T_fe9b9_row11_col9\" class=\"data row11 col9\" >0.091582</td>\n",
       "      <td id=\"T_fe9b9_row11_col10\" class=\"data row11 col10\" >0.021788</td>\n",
       "      <td id=\"T_fe9b9_row11_col11\" class=\"data row11 col11\" >1.000000</td>\n",
       "      <td id=\"T_fe9b9_row11_col12\" class=\"data row11 col12\" >0.437820</td>\n",
       "    </tr>\n",
       "    <tr>\n",
       "      <th id=\"T_fe9b9_level0_row12\" class=\"row_heading level0 row12\" >quality</th>\n",
       "      <td id=\"T_fe9b9_row12_col0\" class=\"data row12 col0\" >0.114487</td>\n",
       "      <td id=\"T_fe9b9_row12_col1\" class=\"data row12 col1\" >-0.067105</td>\n",
       "      <td id=\"T_fe9b9_row12_col2\" class=\"data row12 col2\" >-0.244377</td>\n",
       "      <td id=\"T_fe9b9_row12_col3\" class=\"data row12 col3\" >0.089002</td>\n",
       "      <td id=\"T_fe9b9_row12_col4\" class=\"data row12 col4\" >-0.045084</td>\n",
       "      <td id=\"T_fe9b9_row12_col5\" class=\"data row12 col5\" >-0.225183</td>\n",
       "      <td id=\"T_fe9b9_row12_col6\" class=\"data row12 col6\" >0.077299</td>\n",
       "      <td id=\"T_fe9b9_row12_col7\" class=\"data row12 col7\" >-0.037163</td>\n",
       "      <td id=\"T_fe9b9_row12_col8\" class=\"data row12 col8\" >-0.312008</td>\n",
       "      <td id=\"T_fe9b9_row12_col9\" class=\"data row12 col9\" >0.012768</td>\n",
       "      <td id=\"T_fe9b9_row12_col10\" class=\"data row12 col10\" >0.048671</td>\n",
       "      <td id=\"T_fe9b9_row12_col11\" class=\"data row12 col11\" >0.437820</td>\n",
       "      <td id=\"T_fe9b9_row12_col12\" class=\"data row12 col12\" >1.000000</td>\n",
       "    </tr>\n",
       "  </tbody>\n",
       "</table>\n"
      ],
      "text/plain": [
       "<pandas.io.formats.style.Styler at 0x278787c2fa0>"
      ]
     },
     "execution_count": 181,
     "metadata": {},
     "output_type": "execute_result"
    }
   ],
   "source": [
    "wines_train_corr = copy.deepcopy(X_train)\n",
    "wines_train_corr['quality'] = copy.deepcopy(y_train)\n",
    "corr = wines_train_corr.corr()\n",
    "corr.style.background_gradient(cmap='coolwarm')"
   ]
  },
  {
   "cell_type": "code",
   "execution_count": 182,
   "metadata": {
    "colab": {
     "base_uri": "https://localhost:8080/"
    },
    "id": "7hjRJOlXloBu",
    "outputId": "dcd825a2-787d-4402-9687-4b805d9039c8"
   },
   "outputs": [
    {
     "name": "stdout",
     "output_type": "stream",
     "text": [
      "К-ф корреляции для fixed acidity и quality равен -0.0803687511047555 со значимостью 1.916130169048929e-07\n",
      "К-ф корреляции для volatile acidity и quality равен -0.24441072090807336 со значимостью 5.3207463036856204e-58\n",
      "К-ф корреляции для citric acid и quality равен 0.10521975035298678 со значимостью 8.769417228036938e-12\n",
      "К-ф корреляции для residual sugar и quality равен -0.02711854146241511 со значимостью 0.07933476166955004\n",
      "К-ф корреляции для chlorides и quality равен -0.2914096032177246 со значимостью 9.527575303858749e-83\n",
      "К-ф корреляции для free sulfur dioxide и quality равен 0.08749821037393252 со значимостью 1.4201809329507131e-08\n",
      "К-ф корреляции для total sulfur dioxide и quality равен -0.06097363260333133 со значимостью 7.88337306249093e-05\n",
      "К-ф корреляции для density и quality равен -0.3185141361509375 со значимостью 2.3599871764297888e-99\n",
      "К-ф корреляции для pH и quality равен 0.02222018174131953 со значимостью 0.1505617253614978\n",
      "К-ф корреляции для sulphates и quality равен 0.02172763064857363 со значимостью 0.15982016890207074\n",
      "К-ф корреляции для alcohol и quality равен 0.43856463333811635 со значимостью 2.116343258686951e-196\n"
     ]
    }
   ],
   "source": [
    "for i in ['fixed acidity', 'volatile acidity', 'citric acid',\n",
    "       'residual sugar', 'chlorides', 'free sulfur dioxide',\n",
    "       'total sulfur dioxide', 'density', 'pH', 'sulphates', 'alcohol']:\n",
    "       spear_corr, p = spearmanr(wines_train_corr[i], wines_train_corr['quality'])\n",
    "       print('К-ф корреляции для', i, 'и quality равен', spear_corr, 'со значимостью', p)"
   ]
  },
  {
   "cell_type": "markdown",
   "metadata": {},
   "source": [
    "Отобрав высокие значимые корреляции, получаем следующий набор признаков: 'volatile acidity', 'chlorides', 'density', 'alcohol'. Его мы и будем использовать для построения модели."
   ]
  },
  {
   "cell_type": "markdown",
   "metadata": {},
   "source": [
    "## Линейная регрессия"
   ]
  },
  {
   "cell_type": "code",
   "execution_count": 183,
   "metadata": {
    "colab": {
     "base_uri": "https://localhost:8080/"
    },
    "id": "nNOaP41ZVyl2",
    "outputId": "db370fec-064c-43f0-b5bc-28e26d3ddd17"
   },
   "outputs": [
    {
     "data": {
      "text/html": [
       "<style>#sk-container-id-10 {color: black;background-color: white;}#sk-container-id-10 pre{padding: 0;}#sk-container-id-10 div.sk-toggleable {background-color: white;}#sk-container-id-10 label.sk-toggleable__label {cursor: pointer;display: block;width: 100%;margin-bottom: 0;padding: 0.3em;box-sizing: border-box;text-align: center;}#sk-container-id-10 label.sk-toggleable__label-arrow:before {content: \"▸\";float: left;margin-right: 0.25em;color: #696969;}#sk-container-id-10 label.sk-toggleable__label-arrow:hover:before {color: black;}#sk-container-id-10 div.sk-estimator:hover label.sk-toggleable__label-arrow:before {color: black;}#sk-container-id-10 div.sk-toggleable__content {max-height: 0;max-width: 0;overflow: hidden;text-align: left;background-color: #f0f8ff;}#sk-container-id-10 div.sk-toggleable__content pre {margin: 0.2em;color: black;border-radius: 0.25em;background-color: #f0f8ff;}#sk-container-id-10 input.sk-toggleable__control:checked~div.sk-toggleable__content {max-height: 200px;max-width: 100%;overflow: auto;}#sk-container-id-10 input.sk-toggleable__control:checked~label.sk-toggleable__label-arrow:before {content: \"▾\";}#sk-container-id-10 div.sk-estimator input.sk-toggleable__control:checked~label.sk-toggleable__label {background-color: #d4ebff;}#sk-container-id-10 div.sk-label input.sk-toggleable__control:checked~label.sk-toggleable__label {background-color: #d4ebff;}#sk-container-id-10 input.sk-hidden--visually {border: 0;clip: rect(1px 1px 1px 1px);clip: rect(1px, 1px, 1px, 1px);height: 1px;margin: -1px;overflow: hidden;padding: 0;position: absolute;width: 1px;}#sk-container-id-10 div.sk-estimator {font-family: monospace;background-color: #f0f8ff;border: 1px dotted black;border-radius: 0.25em;box-sizing: border-box;margin-bottom: 0.5em;}#sk-container-id-10 div.sk-estimator:hover {background-color: #d4ebff;}#sk-container-id-10 div.sk-parallel-item::after {content: \"\";width: 100%;border-bottom: 1px solid gray;flex-grow: 1;}#sk-container-id-10 div.sk-label:hover label.sk-toggleable__label {background-color: #d4ebff;}#sk-container-id-10 div.sk-serial::before {content: \"\";position: absolute;border-left: 1px solid gray;box-sizing: border-box;top: 0;bottom: 0;left: 50%;z-index: 0;}#sk-container-id-10 div.sk-serial {display: flex;flex-direction: column;align-items: center;background-color: white;padding-right: 0.2em;padding-left: 0.2em;position: relative;}#sk-container-id-10 div.sk-item {position: relative;z-index: 1;}#sk-container-id-10 div.sk-parallel {display: flex;align-items: stretch;justify-content: center;background-color: white;position: relative;}#sk-container-id-10 div.sk-item::before, #sk-container-id-10 div.sk-parallel-item::before {content: \"\";position: absolute;border-left: 1px solid gray;box-sizing: border-box;top: 0;bottom: 0;left: 50%;z-index: -1;}#sk-container-id-10 div.sk-parallel-item {display: flex;flex-direction: column;z-index: 1;position: relative;background-color: white;}#sk-container-id-10 div.sk-parallel-item:first-child::after {align-self: flex-end;width: 50%;}#sk-container-id-10 div.sk-parallel-item:last-child::after {align-self: flex-start;width: 50%;}#sk-container-id-10 div.sk-parallel-item:only-child::after {width: 0;}#sk-container-id-10 div.sk-dashed-wrapped {border: 1px dashed gray;margin: 0 0.4em 0.5em 0.4em;box-sizing: border-box;padding-bottom: 0.4em;background-color: white;}#sk-container-id-10 div.sk-label label {font-family: monospace;font-weight: bold;display: inline-block;line-height: 1.2em;}#sk-container-id-10 div.sk-label-container {text-align: center;}#sk-container-id-10 div.sk-container {/* jupyter's `normalize.less` sets `[hidden] { display: none; }` but bootstrap.min.css set `[hidden] { display: none !important; }` so we also need the `!important` here to be able to override the default hidden behavior on the sphinx rendered scikit-learn.org. See: https://github.com/scikit-learn/scikit-learn/issues/21755 */display: inline-block !important;position: relative;}#sk-container-id-10 div.sk-text-repr-fallback {display: none;}</style><div id=\"sk-container-id-10\" class=\"sk-top-container\"><div class=\"sk-text-repr-fallback\"><pre>LinearRegression()</pre><b>In a Jupyter environment, please rerun this cell to show the HTML representation or trust the notebook. <br />On GitHub, the HTML representation is unable to render, please try loading this page with nbviewer.org.</b></div><div class=\"sk-container\" hidden><div class=\"sk-item\"><div class=\"sk-estimator sk-toggleable\"><input class=\"sk-toggleable__control sk-hidden--visually\" id=\"sk-estimator-id-20\" type=\"checkbox\" checked><label for=\"sk-estimator-id-20\" class=\"sk-toggleable__label sk-toggleable__label-arrow\">LinearRegression</label><div class=\"sk-toggleable__content\"><pre>LinearRegression()</pre></div></div></div></div></div>"
      ],
      "text/plain": [
       "LinearRegression()"
      ]
     },
     "execution_count": 183,
     "metadata": {},
     "output_type": "execute_result"
    }
   ],
   "source": [
    "reg = LinearRegression()\n",
    "reg.fit(X_train[['volatile acidity', 'chlorides', 'density', 'alcohol']], y_train)"
   ]
  },
  {
   "cell_type": "code",
   "execution_count": 184,
   "metadata": {},
   "outputs": [
    {
     "name": "stdout",
     "output_type": "stream",
     "text": [
      "[5.84273139 6.3048931  5.52046356 ... 5.88269783 5.81121681 6.2947237 ]\n"
     ]
    }
   ],
   "source": [
    "y_pred = reg.predict(X_train[['volatile acidity', 'chlorides', 'density', 'alcohol']])\n",
    "print(y_pred)"
   ]
  },
  {
   "cell_type": "code",
   "execution_count": 185,
   "metadata": {},
   "outputs": [
    {
     "name": "stdout",
     "output_type": "stream",
     "text": [
      "0.5699818604031146\n"
     ]
    }
   ],
   "source": [
    "print(mean_squared_error(y_train, y_pred))"
   ]
  },
  {
   "cell_type": "code",
   "execution_count": 186,
   "metadata": {
    "colab": {
     "base_uri": "https://localhost:8080/"
    },
    "id": "blVvd35oWoGI",
    "outputId": "cddd77a6-eeb2-42ff-88cb-eee2b24e9b25"
   },
   "outputs": [
    {
     "name": "stdout",
     "output_type": "stream",
     "text": [
      "[5.95381495 5.79771695 5.90343733 ... 5.44930384 6.1386886  5.88655606]\n"
     ]
    }
   ],
   "source": [
    "y_pred = reg.predict(X_test[['volatile acidity', 'chlorides', 'density', 'alcohol']])\n",
    "print(y_pred)"
   ]
  },
  {
   "cell_type": "code",
   "execution_count": 187,
   "metadata": {
    "colab": {
     "base_uri": "https://localhost:8080/"
    },
    "id": "ACgOkTquWot3",
    "outputId": "9933e84c-d067-418e-c5cc-9ac91e5f3043"
   },
   "outputs": [
    {
     "name": "stdout",
     "output_type": "stream",
     "text": [
      "0.4992335822500236\n"
     ]
    }
   ],
   "source": [
    "print(mean_squared_error(y_test, y_pred))"
   ]
  },
  {
   "cell_type": "markdown",
   "metadata": {},
   "source": [
    "Построив модель линейной регрессии, видим, что её точность довольна высока как на тренировочной, так и на тестовой выборках (для оценки используем метод наименьших квадратов)."
   ]
  },
  {
   "cell_type": "markdown",
   "metadata": {},
   "source": [
    "## Ридж регрессия"
   ]
  },
  {
   "cell_type": "code",
   "execution_count": 188,
   "metadata": {
    "id": "0k0rkbUhWzbo"
   },
   "outputs": [],
   "source": [
    "clf = Ridge(alpha=1.0)"
   ]
  },
  {
   "cell_type": "code",
   "execution_count": 189,
   "metadata": {
    "colab": {
     "base_uri": "https://localhost:8080/"
    },
    "id": "XUKuBZTNYGOe",
    "outputId": "bf8e7908-77f7-4c8f-b44f-4cf2fb90462a"
   },
   "outputs": [
    {
     "data": {
      "text/html": [
       "<style>#sk-container-id-11 {color: black;background-color: white;}#sk-container-id-11 pre{padding: 0;}#sk-container-id-11 div.sk-toggleable {background-color: white;}#sk-container-id-11 label.sk-toggleable__label {cursor: pointer;display: block;width: 100%;margin-bottom: 0;padding: 0.3em;box-sizing: border-box;text-align: center;}#sk-container-id-11 label.sk-toggleable__label-arrow:before {content: \"▸\";float: left;margin-right: 0.25em;color: #696969;}#sk-container-id-11 label.sk-toggleable__label-arrow:hover:before {color: black;}#sk-container-id-11 div.sk-estimator:hover label.sk-toggleable__label-arrow:before {color: black;}#sk-container-id-11 div.sk-toggleable__content {max-height: 0;max-width: 0;overflow: hidden;text-align: left;background-color: #f0f8ff;}#sk-container-id-11 div.sk-toggleable__content pre {margin: 0.2em;color: black;border-radius: 0.25em;background-color: #f0f8ff;}#sk-container-id-11 input.sk-toggleable__control:checked~div.sk-toggleable__content {max-height: 200px;max-width: 100%;overflow: auto;}#sk-container-id-11 input.sk-toggleable__control:checked~label.sk-toggleable__label-arrow:before {content: \"▾\";}#sk-container-id-11 div.sk-estimator input.sk-toggleable__control:checked~label.sk-toggleable__label {background-color: #d4ebff;}#sk-container-id-11 div.sk-label input.sk-toggleable__control:checked~label.sk-toggleable__label {background-color: #d4ebff;}#sk-container-id-11 input.sk-hidden--visually {border: 0;clip: rect(1px 1px 1px 1px);clip: rect(1px, 1px, 1px, 1px);height: 1px;margin: -1px;overflow: hidden;padding: 0;position: absolute;width: 1px;}#sk-container-id-11 div.sk-estimator {font-family: monospace;background-color: #f0f8ff;border: 1px dotted black;border-radius: 0.25em;box-sizing: border-box;margin-bottom: 0.5em;}#sk-container-id-11 div.sk-estimator:hover {background-color: #d4ebff;}#sk-container-id-11 div.sk-parallel-item::after {content: \"\";width: 100%;border-bottom: 1px solid gray;flex-grow: 1;}#sk-container-id-11 div.sk-label:hover label.sk-toggleable__label {background-color: #d4ebff;}#sk-container-id-11 div.sk-serial::before {content: \"\";position: absolute;border-left: 1px solid gray;box-sizing: border-box;top: 0;bottom: 0;left: 50%;z-index: 0;}#sk-container-id-11 div.sk-serial {display: flex;flex-direction: column;align-items: center;background-color: white;padding-right: 0.2em;padding-left: 0.2em;position: relative;}#sk-container-id-11 div.sk-item {position: relative;z-index: 1;}#sk-container-id-11 div.sk-parallel {display: flex;align-items: stretch;justify-content: center;background-color: white;position: relative;}#sk-container-id-11 div.sk-item::before, #sk-container-id-11 div.sk-parallel-item::before {content: \"\";position: absolute;border-left: 1px solid gray;box-sizing: border-box;top: 0;bottom: 0;left: 50%;z-index: -1;}#sk-container-id-11 div.sk-parallel-item {display: flex;flex-direction: column;z-index: 1;position: relative;background-color: white;}#sk-container-id-11 div.sk-parallel-item:first-child::after {align-self: flex-end;width: 50%;}#sk-container-id-11 div.sk-parallel-item:last-child::after {align-self: flex-start;width: 50%;}#sk-container-id-11 div.sk-parallel-item:only-child::after {width: 0;}#sk-container-id-11 div.sk-dashed-wrapped {border: 1px dashed gray;margin: 0 0.4em 0.5em 0.4em;box-sizing: border-box;padding-bottom: 0.4em;background-color: white;}#sk-container-id-11 div.sk-label label {font-family: monospace;font-weight: bold;display: inline-block;line-height: 1.2em;}#sk-container-id-11 div.sk-label-container {text-align: center;}#sk-container-id-11 div.sk-container {/* jupyter's `normalize.less` sets `[hidden] { display: none; }` but bootstrap.min.css set `[hidden] { display: none !important; }` so we also need the `!important` here to be able to override the default hidden behavior on the sphinx rendered scikit-learn.org. See: https://github.com/scikit-learn/scikit-learn/issues/21755 */display: inline-block !important;position: relative;}#sk-container-id-11 div.sk-text-repr-fallback {display: none;}</style><div id=\"sk-container-id-11\" class=\"sk-top-container\"><div class=\"sk-text-repr-fallback\"><pre>Ridge()</pre><b>In a Jupyter environment, please rerun this cell to show the HTML representation or trust the notebook. <br />On GitHub, the HTML representation is unable to render, please try loading this page with nbviewer.org.</b></div><div class=\"sk-container\" hidden><div class=\"sk-item\"><div class=\"sk-estimator sk-toggleable\"><input class=\"sk-toggleable__control sk-hidden--visually\" id=\"sk-estimator-id-21\" type=\"checkbox\" checked><label for=\"sk-estimator-id-21\" class=\"sk-toggleable__label sk-toggleable__label-arrow\">Ridge</label><div class=\"sk-toggleable__content\"><pre>Ridge()</pre></div></div></div></div></div>"
      ],
      "text/plain": [
       "Ridge()"
      ]
     },
     "execution_count": 189,
     "metadata": {},
     "output_type": "execute_result"
    }
   ],
   "source": [
    "clf.fit(X_train[['volatile acidity', 'chlorides', 'density', 'alcohol']], y_train)"
   ]
  },
  {
   "cell_type": "code",
   "execution_count": 190,
   "metadata": {},
   "outputs": [],
   "source": [
    "y_pred = clf.predict(X_train[['volatile acidity', 'chlorides', 'density', 'alcohol']])"
   ]
  },
  {
   "cell_type": "code",
   "execution_count": 191,
   "metadata": {},
   "outputs": [
    {
     "name": "stdout",
     "output_type": "stream",
     "text": [
      "0.5699819066724489\n"
     ]
    }
   ],
   "source": [
    "print(mean_squared_error(y_train, y_pred))"
   ]
  },
  {
   "cell_type": "code",
   "execution_count": 192,
   "metadata": {
    "id": "F7GVb9LVYNpS"
   },
   "outputs": [],
   "source": [
    "y_pred = clf.predict(X_test[['volatile acidity', 'chlorides', 'density', 'alcohol']])"
   ]
  },
  {
   "cell_type": "code",
   "execution_count": 193,
   "metadata": {
    "colab": {
     "base_uri": "https://localhost:8080/"
    },
    "id": "RMU2pRGaYWJL",
    "outputId": "7b4d6ea7-83a8-4565-eb2a-8b7003803dd0"
   },
   "outputs": [
    {
     "name": "stdout",
     "output_type": "stream",
     "text": [
      "0.499241787886347\n"
     ]
    }
   ],
   "source": [
    "print(mean_squared_error(y_test, y_pred))"
   ]
  },
  {
   "cell_type": "markdown",
   "metadata": {},
   "source": [
    "Построив модель ридж регрессии, видим, что точность практически не изменилась. Это связано с тем, что выбранные нами признаки имеют невысокую корреляцию друг с другом."
   ]
  },
  {
   "cell_type": "markdown",
   "metadata": {},
   "source": [
    "## Полиномиальная регрессия"
   ]
  },
  {
   "cell_type": "code",
   "execution_count": 194,
   "metadata": {
    "id": "tscfCs-vZHYg"
   },
   "outputs": [],
   "source": [
    "degree=2\n",
    "polyreg=make_pipeline(PolynomialFeatures(degree),LinearRegression())"
   ]
  },
  {
   "cell_type": "code",
   "execution_count": 195,
   "metadata": {
    "id": "2L9XkqQ7ZOmo"
   },
   "outputs": [
    {
     "data": {
      "text/html": [
       "<style>#sk-container-id-12 {color: black;background-color: white;}#sk-container-id-12 pre{padding: 0;}#sk-container-id-12 div.sk-toggleable {background-color: white;}#sk-container-id-12 label.sk-toggleable__label {cursor: pointer;display: block;width: 100%;margin-bottom: 0;padding: 0.3em;box-sizing: border-box;text-align: center;}#sk-container-id-12 label.sk-toggleable__label-arrow:before {content: \"▸\";float: left;margin-right: 0.25em;color: #696969;}#sk-container-id-12 label.sk-toggleable__label-arrow:hover:before {color: black;}#sk-container-id-12 div.sk-estimator:hover label.sk-toggleable__label-arrow:before {color: black;}#sk-container-id-12 div.sk-toggleable__content {max-height: 0;max-width: 0;overflow: hidden;text-align: left;background-color: #f0f8ff;}#sk-container-id-12 div.sk-toggleable__content pre {margin: 0.2em;color: black;border-radius: 0.25em;background-color: #f0f8ff;}#sk-container-id-12 input.sk-toggleable__control:checked~div.sk-toggleable__content {max-height: 200px;max-width: 100%;overflow: auto;}#sk-container-id-12 input.sk-toggleable__control:checked~label.sk-toggleable__label-arrow:before {content: \"▾\";}#sk-container-id-12 div.sk-estimator input.sk-toggleable__control:checked~label.sk-toggleable__label {background-color: #d4ebff;}#sk-container-id-12 div.sk-label input.sk-toggleable__control:checked~label.sk-toggleable__label {background-color: #d4ebff;}#sk-container-id-12 input.sk-hidden--visually {border: 0;clip: rect(1px 1px 1px 1px);clip: rect(1px, 1px, 1px, 1px);height: 1px;margin: -1px;overflow: hidden;padding: 0;position: absolute;width: 1px;}#sk-container-id-12 div.sk-estimator {font-family: monospace;background-color: #f0f8ff;border: 1px dotted black;border-radius: 0.25em;box-sizing: border-box;margin-bottom: 0.5em;}#sk-container-id-12 div.sk-estimator:hover {background-color: #d4ebff;}#sk-container-id-12 div.sk-parallel-item::after {content: \"\";width: 100%;border-bottom: 1px solid gray;flex-grow: 1;}#sk-container-id-12 div.sk-label:hover label.sk-toggleable__label {background-color: #d4ebff;}#sk-container-id-12 div.sk-serial::before {content: \"\";position: absolute;border-left: 1px solid gray;box-sizing: border-box;top: 0;bottom: 0;left: 50%;z-index: 0;}#sk-container-id-12 div.sk-serial {display: flex;flex-direction: column;align-items: center;background-color: white;padding-right: 0.2em;padding-left: 0.2em;position: relative;}#sk-container-id-12 div.sk-item {position: relative;z-index: 1;}#sk-container-id-12 div.sk-parallel {display: flex;align-items: stretch;justify-content: center;background-color: white;position: relative;}#sk-container-id-12 div.sk-item::before, #sk-container-id-12 div.sk-parallel-item::before {content: \"\";position: absolute;border-left: 1px solid gray;box-sizing: border-box;top: 0;bottom: 0;left: 50%;z-index: -1;}#sk-container-id-12 div.sk-parallel-item {display: flex;flex-direction: column;z-index: 1;position: relative;background-color: white;}#sk-container-id-12 div.sk-parallel-item:first-child::after {align-self: flex-end;width: 50%;}#sk-container-id-12 div.sk-parallel-item:last-child::after {align-self: flex-start;width: 50%;}#sk-container-id-12 div.sk-parallel-item:only-child::after {width: 0;}#sk-container-id-12 div.sk-dashed-wrapped {border: 1px dashed gray;margin: 0 0.4em 0.5em 0.4em;box-sizing: border-box;padding-bottom: 0.4em;background-color: white;}#sk-container-id-12 div.sk-label label {font-family: monospace;font-weight: bold;display: inline-block;line-height: 1.2em;}#sk-container-id-12 div.sk-label-container {text-align: center;}#sk-container-id-12 div.sk-container {/* jupyter's `normalize.less` sets `[hidden] { display: none; }` but bootstrap.min.css set `[hidden] { display: none !important; }` so we also need the `!important` here to be able to override the default hidden behavior on the sphinx rendered scikit-learn.org. See: https://github.com/scikit-learn/scikit-learn/issues/21755 */display: inline-block !important;position: relative;}#sk-container-id-12 div.sk-text-repr-fallback {display: none;}</style><div id=\"sk-container-id-12\" class=\"sk-top-container\"><div class=\"sk-text-repr-fallback\"><pre>Pipeline(steps=[(&#x27;polynomialfeatures&#x27;, PolynomialFeatures()),\n",
       "                (&#x27;linearregression&#x27;, LinearRegression())])</pre><b>In a Jupyter environment, please rerun this cell to show the HTML representation or trust the notebook. <br />On GitHub, the HTML representation is unable to render, please try loading this page with nbviewer.org.</b></div><div class=\"sk-container\" hidden><div class=\"sk-item sk-dashed-wrapped\"><div class=\"sk-label-container\"><div class=\"sk-label sk-toggleable\"><input class=\"sk-toggleable__control sk-hidden--visually\" id=\"sk-estimator-id-22\" type=\"checkbox\" ><label for=\"sk-estimator-id-22\" class=\"sk-toggleable__label sk-toggleable__label-arrow\">Pipeline</label><div class=\"sk-toggleable__content\"><pre>Pipeline(steps=[(&#x27;polynomialfeatures&#x27;, PolynomialFeatures()),\n",
       "                (&#x27;linearregression&#x27;, LinearRegression())])</pre></div></div></div><div class=\"sk-serial\"><div class=\"sk-item\"><div class=\"sk-estimator sk-toggleable\"><input class=\"sk-toggleable__control sk-hidden--visually\" id=\"sk-estimator-id-23\" type=\"checkbox\" ><label for=\"sk-estimator-id-23\" class=\"sk-toggleable__label sk-toggleable__label-arrow\">PolynomialFeatures</label><div class=\"sk-toggleable__content\"><pre>PolynomialFeatures()</pre></div></div></div><div class=\"sk-item\"><div class=\"sk-estimator sk-toggleable\"><input class=\"sk-toggleable__control sk-hidden--visually\" id=\"sk-estimator-id-24\" type=\"checkbox\" ><label for=\"sk-estimator-id-24\" class=\"sk-toggleable__label sk-toggleable__label-arrow\">LinearRegression</label><div class=\"sk-toggleable__content\"><pre>LinearRegression()</pre></div></div></div></div></div></div></div>"
      ],
      "text/plain": [
       "Pipeline(steps=[('polynomialfeatures', PolynomialFeatures()),\n",
       "                ('linearregression', LinearRegression())])"
      ]
     },
     "execution_count": 195,
     "metadata": {},
     "output_type": "execute_result"
    }
   ],
   "source": [
    "polyreg.fit(X_train[['volatile acidity', 'chlorides', 'density', 'alcohol']],y_train)"
   ]
  },
  {
   "cell_type": "code",
   "execution_count": 196,
   "metadata": {},
   "outputs": [],
   "source": [
    "y_pred = polyreg.predict(X_train[['volatile acidity', 'chlorides', 'density', 'alcohol']])"
   ]
  },
  {
   "cell_type": "code",
   "execution_count": 197,
   "metadata": {},
   "outputs": [
    {
     "name": "stdout",
     "output_type": "stream",
     "text": [
      "0.559586217984353\n"
     ]
    }
   ],
   "source": [
    "print(mean_squared_error(y_train, y_pred))"
   ]
  },
  {
   "cell_type": "code",
   "execution_count": 198,
   "metadata": {},
   "outputs": [],
   "source": [
    "y_pred = polyreg.predict(X_test[['volatile acidity', 'chlorides', 'density', 'alcohol']])"
   ]
  },
  {
   "cell_type": "code",
   "execution_count": 199,
   "metadata": {},
   "outputs": [
    {
     "name": "stdout",
     "output_type": "stream",
     "text": [
      "0.5168065443354827\n"
     ]
    }
   ],
   "source": [
    "print(mean_squared_error(y_test, y_pred))"
   ]
  },
  {
   "cell_type": "markdown",
   "metadata": {},
   "source": [
    "Построив модель полиномиальной регрессии, видим, что при низких значениях гиперпараметра, точность не сильно отличается от модели линейной регрессии. Однако при повышении значения гиперпараметра увеличивается точность на тренировочной выборке, и снижается точность на тестовой выборке (т.е. мы наблюдаем переобучение модели). Таким образом, полиномиальная регрессия нерелевантна в нашем случае."
   ]
  },
  {
   "cell_type": "markdown",
   "metadata": {},
   "source": [
    "## Вывод"
   ]
  },
  {
   "cell_type": "markdown",
   "metadata": {},
   "source": [
    "Оптимальной моделью в нашем случае является модель линейной регрессии. Её точность довольно высока (0.49 по методу наименьших квадратов). Усложнение модели не улучшает результат."
   ]
  }
 ],
 "metadata": {
  "colab": {
   "provenance": []
  },
  "kernelspec": {
   "display_name": "Python 3 (ipykernel)",
   "language": "python",
   "name": "python3"
  },
  "language_info": {
   "codemirror_mode": {
    "name": "ipython",
    "version": 3
   },
   "file_extension": ".py",
   "mimetype": "text/x-python",
   "name": "python",
   "nbconvert_exporter": "python",
   "pygments_lexer": "ipython3",
   "version": "3.9.1"
  }
 },
 "nbformat": 4,
 "nbformat_minor": 1
}
